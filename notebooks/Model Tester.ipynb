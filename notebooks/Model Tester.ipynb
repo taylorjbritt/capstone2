{
 "cells": [
  {
   "cell_type": "code",
   "execution_count": 199,
   "metadata": {},
   "outputs": [],
   "source": [
    "from sklearn.linear_model import LogisticRegression, LogisticRegressionCV\n",
    "import numpy as np\n",
    "import pandas as pd\n",
    "from sklearn import tree\n",
    "from sklearn.model_selection import train_test_split\n",
    "import matplotlib.pyplot as plt\n",
    "import seaborn as sns\n",
    "from sklearn import metrics\n",
    "from sklearn.metrics import accuracy_score\n",
    "from sklearn.metrics import precision_score\n",
    "from sklearn.metrics import recall_score\n",
    "from sklearn.metrics import f1_score\n",
    "from sklearn.utils import resample\n",
    "from statsmodels.stats.outliers_influence import variance_inflation_factor\n",
    "from statsmodels.tools.tools import add_constant\n",
    "from statsmodels.regression.linear_model import OLS\n",
    "\n"
   ]
  },
  {
   "cell_type": "code",
   "execution_count": 12,
   "metadata": {},
   "outputs": [],
   "source": [
    "def splitter(df, target = 'pt_attempt', test_size = .25, random_state = 29):\n",
    "    _targets = ['pt_attempt', 'pt_suc']\n",
    "    y = df[target]\n",
    "    X = df.drop(_targets, axis = 1)\n",
    "    X_train, X_test, y_train, y_test = train_test_split(\n",
    "    X, y, test_size= test_size, random_state= random_state, stratify = y )\n",
    "    return X_train, X_test, y_train, y_test\n"
   ]
  },
  {
   "cell_type": "code",
   "execution_count": 133,
   "metadata": {},
   "outputs": [
    {
     "name": "stderr",
     "output_type": "stream",
     "text": [
      "/Users/taylorbritt/opt/anaconda3/lib/python3.7/site-packages/numpy/core/fromnumeric.py:2495: FutureWarning: Method .ptp is deprecated and will be removed in a future version. Use numpy.ptp instead.\n",
      "  return ptp(axis=axis, out=out, **kwargs)\n"
     ]
    }
   ],
   "source": [
    "df = pd.read_pickle('../data/pickles/df_one_hot_num.pkl')\n",
    "X_const = add_constant(df)\n",
    "X_train, X_test, y_train, y_test = splitter(X_const, target = 'pt_attempt', test_size = .25, random_state = 29)\n"
   ]
  },
  {
   "cell_type": "code",
   "execution_count": 134,
   "metadata": {},
   "outputs": [
    {
     "data": {
      "text/plain": [
       "(79506, 58)"
      ]
     },
     "execution_count": 134,
     "metadata": {},
     "output_type": "execute_result"
    }
   ],
   "source": [
    "X_train.shape"
   ]
  },
  {
   "cell_type": "code",
   "execution_count": 135,
   "metadata": {},
   "outputs": [
    {
     "data": {
      "text/plain": [
       "(26502, 58)"
      ]
     },
     "execution_count": 135,
     "metadata": {},
     "output_type": "execute_result"
    }
   ],
   "source": [
    "X_test.shape"
   ]
  },
  {
   "cell_type": "code",
   "execution_count": 136,
   "metadata": {},
   "outputs": [
    {
     "data": {
      "text/plain": [
       "106008"
      ]
     },
     "execution_count": 136,
     "metadata": {},
     "output_type": "execute_result"
    }
   ],
   "source": [
    "79506 + 26502"
   ]
  },
  {
   "cell_type": "code",
   "execution_count": 137,
   "metadata": {},
   "outputs": [
    {
     "data": {
      "text/plain": [
       "(79506,)"
      ]
     },
     "execution_count": 137,
     "metadata": {},
     "output_type": "execute_result"
    }
   ],
   "source": [
    "y_train.shape"
   ]
  },
  {
   "cell_type": "code",
   "execution_count": 138,
   "metadata": {},
   "outputs": [
    {
     "data": {
      "text/plain": [
       "332.0"
      ]
     },
     "execution_count": 138,
     "metadata": {},
     "output_type": "execute_result"
    }
   ],
   "source": [
    "sum(y_train)"
   ]
  },
  {
   "cell_type": "code",
   "execution_count": 139,
   "metadata": {},
   "outputs": [
    {
     "data": {
      "text/plain": [
       "111.0"
      ]
     },
     "execution_count": 139,
     "metadata": {},
     "output_type": "execute_result"
    }
   ],
   "source": [
    "sum(y_test)"
   ]
  },
  {
   "cell_type": "code",
   "execution_count": 140,
   "metadata": {},
   "outputs": [
    {
     "data": {
      "text/plain": [
       "443.0"
      ]
     },
     "execution_count": 140,
     "metadata": {},
     "output_type": "execute_result"
    }
   ],
   "source": [
    "332.0 + 111.0"
   ]
  },
  {
   "cell_type": "code",
   "execution_count": 141,
   "metadata": {},
   "outputs": [],
   "source": [
    "logisticRegr = LogisticRegression()"
   ]
  },
  {
   "cell_type": "code",
   "execution_count": 142,
   "metadata": {},
   "outputs": [
    {
     "name": "stderr",
     "output_type": "stream",
     "text": [
      "/Users/taylorbritt/opt/anaconda3/lib/python3.7/site-packages/sklearn/linear_model/logistic.py:432: FutureWarning: Default solver will be changed to 'lbfgs' in 0.22. Specify a solver to silence this warning.\n",
      "  FutureWarning)\n",
      "/Users/taylorbritt/opt/anaconda3/lib/python3.7/site-packages/sklearn/svm/base.py:929: ConvergenceWarning: Liblinear failed to converge, increase the number of iterations.\n",
      "  \"the number of iterations.\", ConvergenceWarning)\n"
     ]
    },
    {
     "data": {
      "text/plain": [
       "LogisticRegression(C=1.0, class_weight=None, dual=False, fit_intercept=True,\n",
       "                   intercept_scaling=1, l1_ratio=None, max_iter=100,\n",
       "                   multi_class='warn', n_jobs=None, penalty='l2',\n",
       "                   random_state=None, solver='warn', tol=0.0001, verbose=0,\n",
       "                   warm_start=False)"
      ]
     },
     "execution_count": 142,
     "metadata": {},
     "output_type": "execute_result"
    }
   ],
   "source": [
    "logisticRegr.fit(X_train, y_train)"
   ]
  },
  {
   "cell_type": "code",
   "execution_count": 143,
   "metadata": {},
   "outputs": [
    {
     "name": "stdout",
     "output_type": "stream",
     "text": [
      "0.9958116368575957\n"
     ]
    }
   ],
   "source": [
    "score = logisticRegr.score(X_test, y_test)\n",
    "print(score)"
   ]
  },
  {
   "cell_type": "code",
   "execution_count": 144,
   "metadata": {},
   "outputs": [],
   "source": [
    "pred = logisticRegr.predict(X_test)"
   ]
  },
  {
   "cell_type": "code",
   "execution_count": 145,
   "metadata": {},
   "outputs": [
    {
     "data": {
      "text/plain": [
       "0.9958116368575957"
      ]
     },
     "execution_count": 145,
     "metadata": {},
     "output_type": "execute_result"
    }
   ],
   "source": [
    "accuracy_score(y_test, pred)"
   ]
  },
  {
   "cell_type": "code",
   "execution_count": 146,
   "metadata": {},
   "outputs": [
    {
     "data": {
      "text/plain": [
       "0.0"
      ]
     },
     "execution_count": 146,
     "metadata": {},
     "output_type": "execute_result"
    }
   ],
   "source": [
    "recall_score(y_test, pred)"
   ]
  },
  {
   "cell_type": "code",
   "execution_count": 147,
   "metadata": {},
   "outputs": [
    {
     "name": "stderr",
     "output_type": "stream",
     "text": [
      "/Users/taylorbritt/opt/anaconda3/lib/python3.7/site-packages/sklearn/metrics/classification.py:1437: UndefinedMetricWarning: Precision is ill-defined and being set to 0.0 due to no predicted samples.\n",
      "  'precision', 'predicted', average, warn_for)\n"
     ]
    },
    {
     "data": {
      "text/plain": [
       "0.0"
      ]
     },
     "execution_count": 147,
     "metadata": {},
     "output_type": "execute_result"
    }
   ],
   "source": [
    "precision_score(y_test, pred)"
   ]
  },
  {
   "cell_type": "code",
   "execution_count": 148,
   "metadata": {},
   "outputs": [
    {
     "name": "stderr",
     "output_type": "stream",
     "text": [
      "/Users/taylorbritt/opt/anaconda3/lib/python3.7/site-packages/sklearn/metrics/classification.py:1437: UndefinedMetricWarning: F-score is ill-defined and being set to 0.0 due to no predicted samples.\n",
      "  'precision', 'predicted', average, warn_for)\n"
     ]
    },
    {
     "data": {
      "text/plain": [
       "0.0"
      ]
     },
     "execution_count": 148,
     "metadata": {},
     "output_type": "execute_result"
    }
   ],
   "source": [
    "f1_score(y_test, pred)"
   ]
  },
  {
   "cell_type": "code",
   "execution_count": 149,
   "metadata": {},
   "outputs": [
    {
     "data": {
      "text/plain": [
       "0.0"
      ]
     },
     "execution_count": 149,
     "metadata": {},
     "output_type": "execute_result"
    }
   ],
   "source": [
    "sum(predictions)"
   ]
  },
  {
   "cell_type": "code",
   "execution_count": 150,
   "metadata": {},
   "outputs": [],
   "source": [
    "predict_probs = logisticRegr.predict_proba(X_test)"
   ]
  },
  {
   "cell_type": "code",
   "execution_count": 151,
   "metadata": {},
   "outputs": [
    {
     "data": {
      "text/plain": [
       "(26502, 2)"
      ]
     },
     "execution_count": 151,
     "metadata": {},
     "output_type": "execute_result"
    }
   ],
   "source": [
    "predict_probs.shape"
   ]
  },
  {
   "cell_type": "code",
   "execution_count": 152,
   "metadata": {},
   "outputs": [
    {
     "data": {
      "text/plain": [
       "0.16390639573993582"
      ]
     },
     "execution_count": 152,
     "metadata": {},
     "output_type": "execute_result"
    }
   ],
   "source": [
    "predict_probs[:,1].max()"
   ]
  },
  {
   "cell_type": "code",
   "execution_count": 153,
   "metadata": {},
   "outputs": [
    {
     "data": {
      "text/plain": [
       "0.9958210701079164"
      ]
     },
     "execution_count": 153,
     "metadata": {},
     "output_type": "execute_result"
    }
   ],
   "source": [
    "1 - (443/106008)"
   ]
  },
  {
   "cell_type": "code",
   "execution_count": 154,
   "metadata": {},
   "outputs": [],
   "source": [
    "from sklearn.ensemble import RandomForestClassifier\n",
    "\n",
    "# train model\n",
    "rfc = RandomForestClassifier(n_estimators=10).fit(X_train, y_train)"
   ]
  },
  {
   "cell_type": "code",
   "execution_count": 155,
   "metadata": {},
   "outputs": [],
   "source": [
    "# predict on test set\n",
    "rfc_pred = rfc.predict(X_test)"
   ]
  },
  {
   "cell_type": "code",
   "execution_count": 156,
   "metadata": {},
   "outputs": [
    {
     "name": "stdout",
     "output_type": "stream",
     "text": [
      "accuracy = 0.9950569768319372\n"
     ]
    }
   ],
   "source": [
    "print('accuracy = ' + str(accuracy_score(y_test, rfc_pred)))\n",
    "  "
   ]
  },
  {
   "cell_type": "code",
   "execution_count": 157,
   "metadata": {},
   "outputs": [
    {
     "name": "stdout",
     "output_type": "stream",
     "text": [
      "recall = 0.0\n"
     ]
    }
   ],
   "source": [
    "print('recall = ' + str(recall_score(y_test, rfc_pred)))\n"
   ]
  },
  {
   "cell_type": "code",
   "execution_count": 158,
   "metadata": {},
   "outputs": [
    {
     "name": "stdout",
     "output_type": "stream",
     "text": [
      "precision = 0.0\n"
     ]
    }
   ],
   "source": [
    "print('precision = ' + str(precision_score(y_test, rfc_pred)))\n"
   ]
  },
  {
   "cell_type": "code",
   "execution_count": 349,
   "metadata": {},
   "outputs": [],
   "source": [
    "def metric_test(model, X_test, y_test):\n",
    "    preds = model.predict(X_test)\n",
    "    print('accuracy = ' + str(accuracy_score(y_test, preds)))\n",
    "    print('recall = ' + str(recall_score(y_test, preds)))\n",
    "    print('precision = ' + str(precision_score(y_test, preds)))\n",
    "    print('f1 score = ' + str(f1_score(y_test, preds)))\n",
    "    print('accuracy + recall = ' + str(accuracy_score(y_test, preds) + recall_score(y_test, preds)  ))\n",
    "\n",
    "    "
   ]
  },
  {
   "cell_type": "code",
   "execution_count": 160,
   "metadata": {},
   "outputs": [
    {
     "name": "stdout",
     "output_type": "stream",
     "text": [
      "accuracy = 0.9950569768319372\n",
      "recall = 0.0\n",
      "precision = 0.0\n",
      "f1 score = 0.0\n"
     ]
    }
   ],
   "source": [
    "metric_test(rfc, X_test, y_test)"
   ]
  },
  {
   "cell_type": "code",
   "execution_count": 161,
   "metadata": {},
   "outputs": [],
   "source": [
    "### upsample"
   ]
  },
  {
   "cell_type": "code",
   "execution_count": 162,
   "metadata": {},
   "outputs": [],
   "source": [
    "X = pd.concat([X_train, y_train], axis=1)"
   ]
  },
  {
   "cell_type": "code",
   "execution_count": 163,
   "metadata": {},
   "outputs": [],
   "source": [
    "no_coup = X[X.pt_attempt==0]\n",
    "coup = X[X.pt_attempt==1]"
   ]
  },
  {
   "cell_type": "code",
   "execution_count": 164,
   "metadata": {},
   "outputs": [
    {
     "data": {
      "text/plain": [
       "(332, 59)"
      ]
     },
     "execution_count": 164,
     "metadata": {},
     "output_type": "execute_result"
    }
   ],
   "source": [
    "coup.shape"
   ]
  },
  {
   "cell_type": "code",
   "execution_count": 165,
   "metadata": {},
   "outputs": [
    {
     "data": {
      "text/plain": [
       "(79174, 59)"
      ]
     },
     "execution_count": 165,
     "metadata": {},
     "output_type": "execute_result"
    }
   ],
   "source": [
    "no_coup.shape"
   ]
  },
  {
   "cell_type": "code",
   "execution_count": 166,
   "metadata": {},
   "outputs": [],
   "source": [
    "coups_upsampled = resample(coup,\n",
    "                          replace=True, # sample with replacement\n",
    "                          n_samples=len(no_coup), # match number in majority class\n",
    "                          random_state=29)"
   ]
  },
  {
   "cell_type": "code",
   "execution_count": 167,
   "metadata": {},
   "outputs": [],
   "source": [
    "upsampled = pd.concat([no_coup, coups_upsampled])"
   ]
  },
  {
   "cell_type": "code",
   "execution_count": 168,
   "metadata": {},
   "outputs": [],
   "source": [
    "y_up = upsampled['pt_attempt']"
   ]
  },
  {
   "cell_type": "code",
   "execution_count": 169,
   "metadata": {},
   "outputs": [],
   "source": [
    "X_up = upsampled.drop('pt_attempt', axis = 1)"
   ]
  },
  {
   "cell_type": "code",
   "execution_count": 170,
   "metadata": {},
   "outputs": [],
   "source": [
    "rfc_up = RandomForestClassifier(n_estimators=100).fit(X_up, y_up)"
   ]
  },
  {
   "cell_type": "code",
   "execution_count": 171,
   "metadata": {},
   "outputs": [
    {
     "name": "stdout",
     "output_type": "stream",
     "text": [
      "accuracy = 0.9933967247754887\n",
      "recall = 0.018018018018018018\n",
      "precision = 0.029411764705882353\n",
      "f1 score = 0.0223463687150838\n"
     ]
    }
   ],
   "source": [
    "metric_test(rfc_up, X_test, y_test)"
   ]
  },
  {
   "cell_type": "code",
   "execution_count": 172,
   "metadata": {},
   "outputs": [],
   "source": [
    "### downsample"
   ]
  },
  {
   "cell_type": "code",
   "execution_count": 173,
   "metadata": {},
   "outputs": [],
   "source": [
    "coups_downsampled = resample(no_coup,\n",
    "                          replace=False, # sample without replacement\n",
    "                          n_samples=len(coup), # match number in majority class\n",
    "                          random_state=29)"
   ]
  },
  {
   "cell_type": "code",
   "execution_count": 174,
   "metadata": {},
   "outputs": [],
   "source": [
    "downsampled = pd.concat([coup, coups_downsampled])"
   ]
  },
  {
   "cell_type": "code",
   "execution_count": 175,
   "metadata": {},
   "outputs": [
    {
     "data": {
      "text/html": [
       "<div>\n",
       "<style scoped>\n",
       "    .dataframe tbody tr th:only-of-type {\n",
       "        vertical-align: middle;\n",
       "    }\n",
       "\n",
       "    .dataframe tbody tr th {\n",
       "        vertical-align: top;\n",
       "    }\n",
       "\n",
       "    .dataframe thead th {\n",
       "        text-align: right;\n",
       "    }\n",
       "</style>\n",
       "<table border=\"1\" class=\"dataframe\">\n",
       "  <thead>\n",
       "    <tr style=\"text-align: right;\">\n",
       "      <th></th>\n",
       "      <th>const</th>\n",
       "      <th>year</th>\n",
       "      <th>month</th>\n",
       "      <th>elected</th>\n",
       "      <th>age</th>\n",
       "      <th>male</th>\n",
       "      <th>militarycareer</th>\n",
       "      <th>tenure_months</th>\n",
       "      <th>anticipation</th>\n",
       "      <th>ref_ant</th>\n",
       "      <th>...</th>\n",
       "      <th>Party-Personal-Military Hybrid</th>\n",
       "      <th>Personal Dictatorship</th>\n",
       "      <th>Presidential Democracy</th>\n",
       "      <th>Provisional - Civilian</th>\n",
       "      <th>Provisional - Military</th>\n",
       "      <th>Warlordism</th>\n",
       "      <th>trade balance</th>\n",
       "      <th>urban_percent</th>\n",
       "      <th>mil_percent</th>\n",
       "      <th>pt_attempt</th>\n",
       "    </tr>\n",
       "  </thead>\n",
       "  <tbody>\n",
       "    <tr>\n",
       "      <td>115098</td>\n",
       "      <td>1.0</td>\n",
       "      <td>1958.0</td>\n",
       "      <td>10.0</td>\n",
       "      <td>0.0</td>\n",
       "      <td>65.0</td>\n",
       "      <td>1</td>\n",
       "      <td>0.0</td>\n",
       "      <td>11.0</td>\n",
       "      <td>0.0</td>\n",
       "      <td>0.0</td>\n",
       "      <td>...</td>\n",
       "      <td>0</td>\n",
       "      <td>0</td>\n",
       "      <td>0</td>\n",
       "      <td>0</td>\n",
       "      <td>0</td>\n",
       "      <td>0</td>\n",
       "      <td>-96.10</td>\n",
       "      <td>0.063620</td>\n",
       "      <td>0.002453</td>\n",
       "      <td>1.0</td>\n",
       "    </tr>\n",
       "    <tr>\n",
       "      <td>116931</td>\n",
       "      <td>1.0</td>\n",
       "      <td>1988.0</td>\n",
       "      <td>9.0</td>\n",
       "      <td>0.0</td>\n",
       "      <td>63.0</td>\n",
       "      <td>1</td>\n",
       "      <td>0.0</td>\n",
       "      <td>2.0</td>\n",
       "      <td>0.0</td>\n",
       "      <td>0.0</td>\n",
       "      <td>...</td>\n",
       "      <td>0</td>\n",
       "      <td>0</td>\n",
       "      <td>0</td>\n",
       "      <td>0</td>\n",
       "      <td>0</td>\n",
       "      <td>0</td>\n",
       "      <td>-96.52</td>\n",
       "      <td>0.150481</td>\n",
       "      <td>0.004669</td>\n",
       "      <td>1.0</td>\n",
       "    </tr>\n",
       "    <tr>\n",
       "      <td>68369</td>\n",
       "      <td>1.0</td>\n",
       "      <td>1994.0</td>\n",
       "      <td>9.0</td>\n",
       "      <td>0.0</td>\n",
       "      <td>50.0</td>\n",
       "      <td>1</td>\n",
       "      <td>0.0</td>\n",
       "      <td>7.0</td>\n",
       "      <td>1.0</td>\n",
       "      <td>0.0</td>\n",
       "      <td>...</td>\n",
       "      <td>0</td>\n",
       "      <td>0</td>\n",
       "      <td>0</td>\n",
       "      <td>0</td>\n",
       "      <td>0</td>\n",
       "      <td>1</td>\n",
       "      <td>-5443.77</td>\n",
       "      <td>0.155556</td>\n",
       "      <td>-0.003333</td>\n",
       "      <td>1.0</td>\n",
       "    </tr>\n",
       "    <tr>\n",
       "      <td>131942</td>\n",
       "      <td>1.0</td>\n",
       "      <td>2000.0</td>\n",
       "      <td>5.0</td>\n",
       "      <td>1.0</td>\n",
       "      <td>58.0</td>\n",
       "      <td>1</td>\n",
       "      <td>0.0</td>\n",
       "      <td>13.0</td>\n",
       "      <td>0.0</td>\n",
       "      <td>0.0</td>\n",
       "      <td>...</td>\n",
       "      <td>0</td>\n",
       "      <td>0</td>\n",
       "      <td>0</td>\n",
       "      <td>0</td>\n",
       "      <td>0</td>\n",
       "      <td>0</td>\n",
       "      <td>-78.23</td>\n",
       "      <td>0.257038</td>\n",
       "      <td>0.004896</td>\n",
       "      <td>1.0</td>\n",
       "    </tr>\n",
       "    <tr>\n",
       "      <td>22303</td>\n",
       "      <td>1.0</td>\n",
       "      <td>1981.0</td>\n",
       "      <td>5.0</td>\n",
       "      <td>0.0</td>\n",
       "      <td>49.0</td>\n",
       "      <td>1</td>\n",
       "      <td>1.0</td>\n",
       "      <td>11.0</td>\n",
       "      <td>0.0</td>\n",
       "      <td>0.0</td>\n",
       "      <td>...</td>\n",
       "      <td>0</td>\n",
       "      <td>0</td>\n",
       "      <td>0</td>\n",
       "      <td>0</td>\n",
       "      <td>0</td>\n",
       "      <td>0</td>\n",
       "      <td>58.47</td>\n",
       "      <td>0.313427</td>\n",
       "      <td>0.004763</td>\n",
       "      <td>1.0</td>\n",
       "    </tr>\n",
       "    <tr>\n",
       "      <td>...</td>\n",
       "      <td>...</td>\n",
       "      <td>...</td>\n",
       "      <td>...</td>\n",
       "      <td>...</td>\n",
       "      <td>...</td>\n",
       "      <td>...</td>\n",
       "      <td>...</td>\n",
       "      <td>...</td>\n",
       "      <td>...</td>\n",
       "      <td>...</td>\n",
       "      <td>...</td>\n",
       "      <td>...</td>\n",
       "      <td>...</td>\n",
       "      <td>...</td>\n",
       "      <td>...</td>\n",
       "      <td>...</td>\n",
       "      <td>...</td>\n",
       "      <td>...</td>\n",
       "      <td>...</td>\n",
       "      <td>...</td>\n",
       "      <td>...</td>\n",
       "    </tr>\n",
       "    <tr>\n",
       "      <td>110531</td>\n",
       "      <td>1.0</td>\n",
       "      <td>2006.0</td>\n",
       "      <td>2.0</td>\n",
       "      <td>1.0</td>\n",
       "      <td>48.0</td>\n",
       "      <td>1</td>\n",
       "      <td>0.0</td>\n",
       "      <td>9.0</td>\n",
       "      <td>0.0</td>\n",
       "      <td>0.0</td>\n",
       "      <td>...</td>\n",
       "      <td>0</td>\n",
       "      <td>0</td>\n",
       "      <td>1</td>\n",
       "      <td>0</td>\n",
       "      <td>0</td>\n",
       "      <td>0</td>\n",
       "      <td>-230.73</td>\n",
       "      <td>0.379445</td>\n",
       "      <td>0.003517</td>\n",
       "      <td>0.0</td>\n",
       "    </tr>\n",
       "    <tr>\n",
       "      <td>125904</td>\n",
       "      <td>1.0</td>\n",
       "      <td>1994.0</td>\n",
       "      <td>10.0</td>\n",
       "      <td>1.0</td>\n",
       "      <td>66.0</td>\n",
       "      <td>1</td>\n",
       "      <td>1.0</td>\n",
       "      <td>29.0</td>\n",
       "      <td>0.0</td>\n",
       "      <td>0.0</td>\n",
       "      <td>...</td>\n",
       "      <td>0</td>\n",
       "      <td>0</td>\n",
       "      <td>1</td>\n",
       "      <td>0</td>\n",
       "      <td>0</td>\n",
       "      <td>0</td>\n",
       "      <td>-9102.60</td>\n",
       "      <td>0.216907</td>\n",
       "      <td>0.001516</td>\n",
       "      <td>0.0</td>\n",
       "    </tr>\n",
       "    <tr>\n",
       "      <td>83418</td>\n",
       "      <td>1.0</td>\n",
       "      <td>1968.0</td>\n",
       "      <td>2.0</td>\n",
       "      <td>1.0</td>\n",
       "      <td>49.0</td>\n",
       "      <td>1</td>\n",
       "      <td>0.0</td>\n",
       "      <td>28.0</td>\n",
       "      <td>0.0</td>\n",
       "      <td>0.0</td>\n",
       "      <td>...</td>\n",
       "      <td>0</td>\n",
       "      <td>0</td>\n",
       "      <td>0</td>\n",
       "      <td>0</td>\n",
       "      <td>0</td>\n",
       "      <td>0</td>\n",
       "      <td>-33.00</td>\n",
       "      <td>0.130444</td>\n",
       "      <td>0.002218</td>\n",
       "      <td>0.0</td>\n",
       "    </tr>\n",
       "    <tr>\n",
       "      <td>93042</td>\n",
       "      <td>1.0</td>\n",
       "      <td>1990.0</td>\n",
       "      <td>8.0</td>\n",
       "      <td>0.0</td>\n",
       "      <td>48.0</td>\n",
       "      <td>1</td>\n",
       "      <td>1.0</td>\n",
       "      <td>252.0</td>\n",
       "      <td>0.0</td>\n",
       "      <td>0.0</td>\n",
       "      <td>...</td>\n",
       "      <td>0</td>\n",
       "      <td>1</td>\n",
       "      <td>0</td>\n",
       "      <td>0</td>\n",
       "      <td>0</td>\n",
       "      <td>0</td>\n",
       "      <td>8214.84</td>\n",
       "      <td>0.792580</td>\n",
       "      <td>0.020718</td>\n",
       "      <td>0.0</td>\n",
       "    </tr>\n",
       "    <tr>\n",
       "      <td>11840</td>\n",
       "      <td>1.0</td>\n",
       "      <td>2000.0</td>\n",
       "      <td>4.0</td>\n",
       "      <td>1.0</td>\n",
       "      <td>49.0</td>\n",
       "      <td>1</td>\n",
       "      <td>0.0</td>\n",
       "      <td>4.0</td>\n",
       "      <td>0.0</td>\n",
       "      <td>0.0</td>\n",
       "      <td>...</td>\n",
       "      <td>0</td>\n",
       "      <td>0</td>\n",
       "      <td>1</td>\n",
       "      <td>0</td>\n",
       "      <td>0</td>\n",
       "      <td>0</td>\n",
       "      <td>-2472.34</td>\n",
       "      <td>0.137813</td>\n",
       "      <td>0.002723</td>\n",
       "      <td>0.0</td>\n",
       "    </tr>\n",
       "  </tbody>\n",
       "</table>\n",
       "<p>664 rows × 59 columns</p>\n",
       "</div>"
      ],
      "text/plain": [
       "        const    year  month  elected   age  male  militarycareer  \\\n",
       "115098    1.0  1958.0   10.0      0.0  65.0     1             0.0   \n",
       "116931    1.0  1988.0    9.0      0.0  63.0     1             0.0   \n",
       "68369     1.0  1994.0    9.0      0.0  50.0     1             0.0   \n",
       "131942    1.0  2000.0    5.0      1.0  58.0     1             0.0   \n",
       "22303     1.0  1981.0    5.0      0.0  49.0     1             1.0   \n",
       "...       ...     ...    ...      ...   ...   ...             ...   \n",
       "110531    1.0  2006.0    2.0      1.0  48.0     1             0.0   \n",
       "125904    1.0  1994.0   10.0      1.0  66.0     1             1.0   \n",
       "83418     1.0  1968.0    2.0      1.0  49.0     1             0.0   \n",
       "93042     1.0  1990.0    8.0      0.0  48.0     1             1.0   \n",
       "11840     1.0  2000.0    4.0      1.0  49.0     1             0.0   \n",
       "\n",
       "        tenure_months  anticipation  ref_ant  ...  \\\n",
       "115098           11.0           0.0      0.0  ...   \n",
       "116931            2.0           0.0      0.0  ...   \n",
       "68369             7.0           1.0      0.0  ...   \n",
       "131942           13.0           0.0      0.0  ...   \n",
       "22303            11.0           0.0      0.0  ...   \n",
       "...               ...           ...      ...  ...   \n",
       "110531            9.0           0.0      0.0  ...   \n",
       "125904           29.0           0.0      0.0  ...   \n",
       "83418            28.0           0.0      0.0  ...   \n",
       "93042           252.0           0.0      0.0  ...   \n",
       "11840             4.0           0.0      0.0  ...   \n",
       "\n",
       "        Party-Personal-Military Hybrid  Personal Dictatorship  \\\n",
       "115098                               0                      0   \n",
       "116931                               0                      0   \n",
       "68369                                0                      0   \n",
       "131942                               0                      0   \n",
       "22303                                0                      0   \n",
       "...                                ...                    ...   \n",
       "110531                               0                      0   \n",
       "125904                               0                      0   \n",
       "83418                                0                      0   \n",
       "93042                                0                      1   \n",
       "11840                                0                      0   \n",
       "\n",
       "        Presidential Democracy  Provisional - Civilian  \\\n",
       "115098                       0                       0   \n",
       "116931                       0                       0   \n",
       "68369                        0                       0   \n",
       "131942                       0                       0   \n",
       "22303                        0                       0   \n",
       "...                        ...                     ...   \n",
       "110531                       1                       0   \n",
       "125904                       1                       0   \n",
       "83418                        0                       0   \n",
       "93042                        0                       0   \n",
       "11840                        1                       0   \n",
       "\n",
       "        Provisional - Military  Warlordism  trade balance  urban_percent  \\\n",
       "115098                       0           0         -96.10       0.063620   \n",
       "116931                       0           0         -96.52       0.150481   \n",
       "68369                        0           1       -5443.77       0.155556   \n",
       "131942                       0           0         -78.23       0.257038   \n",
       "22303                        0           0          58.47       0.313427   \n",
       "...                        ...         ...            ...            ...   \n",
       "110531                       0           0        -230.73       0.379445   \n",
       "125904                       0           0       -9102.60       0.216907   \n",
       "83418                        0           0         -33.00       0.130444   \n",
       "93042                        0           0        8214.84       0.792580   \n",
       "11840                        0           0       -2472.34       0.137813   \n",
       "\n",
       "        mil_percent  pt_attempt  \n",
       "115098     0.002453         1.0  \n",
       "116931     0.004669         1.0  \n",
       "68369     -0.003333         1.0  \n",
       "131942     0.004896         1.0  \n",
       "22303      0.004763         1.0  \n",
       "...             ...         ...  \n",
       "110531     0.003517         0.0  \n",
       "125904     0.001516         0.0  \n",
       "83418      0.002218         0.0  \n",
       "93042      0.020718         0.0  \n",
       "11840      0.002723         0.0  \n",
       "\n",
       "[664 rows x 59 columns]"
      ]
     },
     "execution_count": 175,
     "metadata": {},
     "output_type": "execute_result"
    }
   ],
   "source": [
    "downsampled"
   ]
  },
  {
   "cell_type": "code",
   "execution_count": 176,
   "metadata": {},
   "outputs": [],
   "source": [
    "y_down = downsampled['pt_attempt']\n",
    "X_down = downsampled.drop('pt_attempt', axis = 1)"
   ]
  },
  {
   "cell_type": "code",
   "execution_count": 177,
   "metadata": {},
   "outputs": [],
   "source": [
    "rfc_down = RandomForestClassifier(n_estimators=100).fit(X_down, y_down)"
   ]
  },
  {
   "cell_type": "code",
   "execution_count": 178,
   "metadata": {},
   "outputs": [
    {
     "name": "stdout",
     "output_type": "stream",
     "text": [
      "accuracy = 0.6963248056750434\n",
      "recall = 0.7657657657657657\n",
      "precision = 0.01048476625138769\n",
      "f1 score = 0.020686298369432952\n"
     ]
    }
   ],
   "source": [
    "metric_test(rfc_down, X_test, y_test)"
   ]
  },
  {
   "cell_type": "code",
   "execution_count": 179,
   "metadata": {},
   "outputs": [
    {
     "name": "stderr",
     "output_type": "stream",
     "text": [
      "/Users/taylorbritt/opt/anaconda3/lib/python3.7/site-packages/sklearn/linear_model/logistic.py:432: FutureWarning: Default solver will be changed to 'lbfgs' in 0.22. Specify a solver to silence this warning.\n",
      "  FutureWarning)\n",
      "/Users/taylorbritt/opt/anaconda3/lib/python3.7/site-packages/sklearn/svm/base.py:929: ConvergenceWarning: Liblinear failed to converge, increase the number of iterations.\n",
      "  \"the number of iterations.\", ConvergenceWarning)\n"
     ]
    }
   ],
   "source": [
    "logistic_basic = LogisticRegression().fit(X_train, y_train)"
   ]
  },
  {
   "cell_type": "code",
   "execution_count": 180,
   "metadata": {},
   "outputs": [
    {
     "name": "stdout",
     "output_type": "stream",
     "text": [
      "accuracy = 0.9958116368575957\n",
      "recall = 0.0\n",
      "precision = 0.0\n",
      "f1 score = 0.0\n"
     ]
    },
    {
     "name": "stderr",
     "output_type": "stream",
     "text": [
      "/Users/taylorbritt/opt/anaconda3/lib/python3.7/site-packages/sklearn/metrics/classification.py:1437: UndefinedMetricWarning: Precision is ill-defined and being set to 0.0 due to no predicted samples.\n",
      "  'precision', 'predicted', average, warn_for)\n",
      "/Users/taylorbritt/opt/anaconda3/lib/python3.7/site-packages/sklearn/metrics/classification.py:1437: UndefinedMetricWarning: F-score is ill-defined and being set to 0.0 due to no predicted samples.\n",
      "  'precision', 'predicted', average, warn_for)\n"
     ]
    }
   ],
   "source": [
    "metric_test(logistic_basic, X_test, y_test)"
   ]
  },
  {
   "cell_type": "code",
   "execution_count": 181,
   "metadata": {},
   "outputs": [
    {
     "name": "stderr",
     "output_type": "stream",
     "text": [
      "/Users/taylorbritt/opt/anaconda3/lib/python3.7/site-packages/sklearn/linear_model/logistic.py:432: FutureWarning: Default solver will be changed to 'lbfgs' in 0.22. Specify a solver to silence this warning.\n",
      "  FutureWarning)\n"
     ]
    }
   ],
   "source": [
    "logistic_up = LogisticRegression().fit(X_up, y_up)"
   ]
  },
  {
   "cell_type": "code",
   "execution_count": 182,
   "metadata": {},
   "outputs": [
    {
     "name": "stdout",
     "output_type": "stream",
     "text": [
      "accuracy = 0.39480039242321335\n",
      "recall = 0.8738738738738738\n",
      "precision = 0.006016623247736013\n",
      "f1 score = 0.011950964085504836\n"
     ]
    }
   ],
   "source": [
    "metric_test(logistic_up, X_test, y_test)"
   ]
  },
  {
   "cell_type": "code",
   "execution_count": 183,
   "metadata": {},
   "outputs": [
    {
     "name": "stderr",
     "output_type": "stream",
     "text": [
      "/Users/taylorbritt/opt/anaconda3/lib/python3.7/site-packages/sklearn/linear_model/logistic.py:432: FutureWarning: Default solver will be changed to 'lbfgs' in 0.22. Specify a solver to silence this warning.\n",
      "  FutureWarning)\n"
     ]
    }
   ],
   "source": [
    "logistic_down = LogisticRegression().fit(X_down, y_down)"
   ]
  },
  {
   "cell_type": "code",
   "execution_count": 184,
   "metadata": {},
   "outputs": [
    {
     "name": "stdout",
     "output_type": "stream",
     "text": [
      "accuracy = 0.38680099615123387\n",
      "recall = 0.8738738738738738\n",
      "precision = 0.005938533121097098\n",
      "f1 score = 0.011796898753420493\n"
     ]
    }
   ],
   "source": [
    "metric_test(logistic_down, X_test, y_test)"
   ]
  },
  {
   "cell_type": "code",
   "execution_count": 185,
   "metadata": {},
   "outputs": [],
   "source": [
    "from imblearn.over_sampling import SMOTE\n",
    "\n",
    "\n",
    "sm = SMOTE(random_state=27, ratio=1.0)\n",
    "X_train_sm, y_train_sm = sm.fit_sample(X_train, y_train)"
   ]
  },
  {
   "cell_type": "code",
   "execution_count": 186,
   "metadata": {},
   "outputs": [
    {
     "name": "stderr",
     "output_type": "stream",
     "text": [
      "/Users/taylorbritt/opt/anaconda3/lib/python3.7/site-packages/sklearn/linear_model/logistic.py:432: FutureWarning: Default solver will be changed to 'lbfgs' in 0.22. Specify a solver to silence this warning.\n",
      "  FutureWarning)\n"
     ]
    }
   ],
   "source": [
    "smote_log = LogisticRegression().fit(X_train_sm, y_train_sm)"
   ]
  },
  {
   "cell_type": "code",
   "execution_count": 187,
   "metadata": {},
   "outputs": [
    {
     "name": "stdout",
     "output_type": "stream",
     "text": [
      "accuracy = 0.5047543581616482\n",
      "recall = 0.8288288288288288\n",
      "precision = 0.006970753144415821\n",
      "f1 score = 0.013825231046660155\n"
     ]
    }
   ],
   "source": [
    "metric_test(smote_log, X_test, y_test)"
   ]
  },
  {
   "cell_type": "code",
   "execution_count": 294,
   "metadata": {},
   "outputs": [
    {
     "data": {
      "text/plain": [
       "26502"
      ]
     },
     "execution_count": 294,
     "metadata": {},
     "output_type": "execute_result"
    }
   ],
   "source": [
    "sum(smote_log.predict(X_test))\n",
    "len(X_test)"
   ]
  },
  {
   "cell_type": "code",
   "execution_count": 188,
   "metadata": {},
   "outputs": [],
   "source": [
    "smote_rf = RandomForestClassifier(n_estimators=10).fit(X_train_sm, y_train_sm)"
   ]
  },
  {
   "cell_type": "code",
   "execution_count": 189,
   "metadata": {},
   "outputs": [
    {
     "name": "stdout",
     "output_type": "stream",
     "text": [
      "accuracy = 0.9944909818126934\n",
      "recall = 0.009009009009009009\n",
      "precision = 0.02702702702702703\n",
      "f1 score = 0.013513513513513514\n"
     ]
    }
   ],
   "source": [
    "metric_test(smote_rf, X_test, y_test)"
   ]
  },
  {
   "cell_type": "code",
   "execution_count": 190,
   "metadata": {},
   "outputs": [
    {
     "name": "stderr",
     "output_type": "stream",
     "text": [
      "/Users/taylorbritt/opt/anaconda3/lib/python3.7/site-packages/sklearn/linear_model/logistic.py:947: ConvergenceWarning: lbfgs failed to converge. Increase the number of iterations.\n",
      "  \"of iterations.\", ConvergenceWarning)\n",
      "/Users/taylorbritt/opt/anaconda3/lib/python3.7/site-packages/sklearn/linear_model/logistic.py:947: ConvergenceWarning: lbfgs failed to converge. Increase the number of iterations.\n",
      "  \"of iterations.\", ConvergenceWarning)\n",
      "/Users/taylorbritt/opt/anaconda3/lib/python3.7/site-packages/sklearn/linear_model/logistic.py:947: ConvergenceWarning: lbfgs failed to converge. Increase the number of iterations.\n",
      "  \"of iterations.\", ConvergenceWarning)\n"
     ]
    }
   ],
   "source": [
    "logregcv = LogisticRegressionCV(cv=5, random_state=29).fit(X_train_sm, y_train_sm)"
   ]
  },
  {
   "cell_type": "code",
   "execution_count": 191,
   "metadata": {},
   "outputs": [
    {
     "name": "stdout",
     "output_type": "stream",
     "text": [
      "accuracy = 0.40947852992227\n",
      "recall = 0.8738738738738738\n",
      "precision = 0.0061653848598487255\n",
      "f1 score = 0.012244382731633426\n"
     ]
    }
   ],
   "source": [
    "metric_test(logregcv, X_test, y_test)"
   ]
  },
  {
   "cell_type": "code",
   "execution_count": 194,
   "metadata": {},
   "outputs": [
    {
     "name": "stderr",
     "output_type": "stream",
     "text": [
      "/Users/taylorbritt/opt/anaconda3/lib/python3.7/site-packages/statsmodels/stats/outliers_influence.py:185: RuntimeWarning: divide by zero encountered in double_scalars\n",
      "  vif = 1. / (1. - r_squared_i)\n"
     ]
    }
   ],
   "source": [
    "variables = X_const.columns\n",
    "vif = [variance_inflation_factor(X_const[variables].values, X_const.columns.get_loc(var)) for var in X_const.columns]"
   ]
  },
  {
   "cell_type": "code",
   "execution_count": 195,
   "metadata": {},
   "outputs": [
    {
     "data": {
      "text/plain": [
       "[19426.03180615361,\n",
       " 1.3155826992160375,\n",
       " 1.00212373786064,\n",
       " 1.5685263519291317,\n",
       " 1.3711755028224486,\n",
       " 1.052810481124773,\n",
       " 1.9787346130823693,\n",
       " 1.9300955125547536,\n",
       " 97.64023496785906,\n",
       " 11.011442323377825,\n",
       " 40.65011433177934,\n",
       " 53.46989248146091,\n",
       " 1.4172935274826868,\n",
       " 1.7873211583662365,\n",
       " 152.7285402045505,\n",
       " 643371375338642.2,\n",
       " 1125899906842624.0,\n",
       " 1286742750677284.5,\n",
       " 6.558014025911057,\n",
       " 88.99236543578705,\n",
       " 8.86142477565278,\n",
       " 60.65232553590747,\n",
       " 31.870480331489176,\n",
       " 32.910854510867935,\n",
       " 46.692309647880926,\n",
       " 1.0174091208203693,\n",
       " 4.177922379090004,\n",
       " 2.6316133841975287,\n",
       " 2.0798917360665787,\n",
       " 1.2481381905556317,\n",
       " 2.0031925706190408,\n",
       " 2.008599214619693,\n",
       " 1.0241536537436908,\n",
       " inf,\n",
       " inf,\n",
       " 8.991049155820788,\n",
       " 8.034632840459546,\n",
       " 7.577654374716551,\n",
       " 14.886653162644663,\n",
       " 7.532430066252046,\n",
       " 11.691455973886228,\n",
       " 7.336759375520261,\n",
       " 1.9103249676169969,\n",
       " 1.0834802185115786,\n",
       " 1.0483121590006896,\n",
       " 1.519156677759183,\n",
       " 1.5571935984987346,\n",
       " 2.5360919193263554,\n",
       " 1.0771460823806616,\n",
       " 1.2732879536198238,\n",
       " 1.4446635968192492,\n",
       " 1.3263613105281138,\n",
       " 2.25282273919132,\n",
       " 1.6333345454068766,\n",
       " 1.0644772791948065,\n",
       " 1.0564747775091634,\n",
       " 1.0386010345050032,\n",
       " inf,\n",
       " 1.359322459509001,\n",
       " 1.4246460962589302]"
      ]
     },
     "execution_count": 195,
     "metadata": {},
     "output_type": "execute_result"
    }
   ],
   "source": [
    "vif"
   ]
  },
  {
   "cell_type": "code",
   "execution_count": 196,
   "metadata": {},
   "outputs": [
    {
     "data": {
      "text/html": [
       "<div>\n",
       "<style scoped>\n",
       "    .dataframe tbody tr th:only-of-type {\n",
       "        vertical-align: middle;\n",
       "    }\n",
       "\n",
       "    .dataframe tbody tr th {\n",
       "        vertical-align: top;\n",
       "    }\n",
       "\n",
       "    .dataframe thead th {\n",
       "        text-align: right;\n",
       "    }\n",
       "</style>\n",
       "<table border=\"1\" class=\"dataframe\">\n",
       "  <thead>\n",
       "    <tr style=\"text-align: right;\">\n",
       "      <th></th>\n",
       "      <th>const</th>\n",
       "      <th>year</th>\n",
       "      <th>month</th>\n",
       "      <th>elected</th>\n",
       "      <th>age</th>\n",
       "      <th>male</th>\n",
       "      <th>militarycareer</th>\n",
       "      <th>tenure_months</th>\n",
       "      <th>anticipation</th>\n",
       "      <th>ref_ant</th>\n",
       "      <th>...</th>\n",
       "      <th>Party-Personal</th>\n",
       "      <th>Party-Personal-Military Hybrid</th>\n",
       "      <th>Personal Dictatorship</th>\n",
       "      <th>Presidential Democracy</th>\n",
       "      <th>Provisional - Civilian</th>\n",
       "      <th>Provisional - Military</th>\n",
       "      <th>Warlordism</th>\n",
       "      <th>trade balance</th>\n",
       "      <th>urban_percent</th>\n",
       "      <th>mil_percent</th>\n",
       "    </tr>\n",
       "  </thead>\n",
       "  <tbody>\n",
       "    <tr>\n",
       "      <td>const</td>\n",
       "      <td>NaN</td>\n",
       "      <td>NaN</td>\n",
       "      <td>NaN</td>\n",
       "      <td>NaN</td>\n",
       "      <td>NaN</td>\n",
       "      <td>NaN</td>\n",
       "      <td>NaN</td>\n",
       "      <td>NaN</td>\n",
       "      <td>NaN</td>\n",
       "      <td>NaN</td>\n",
       "      <td>...</td>\n",
       "      <td>NaN</td>\n",
       "      <td>NaN</td>\n",
       "      <td>NaN</td>\n",
       "      <td>NaN</td>\n",
       "      <td>NaN</td>\n",
       "      <td>NaN</td>\n",
       "      <td>NaN</td>\n",
       "      <td>NaN</td>\n",
       "      <td>NaN</td>\n",
       "      <td>NaN</td>\n",
       "    </tr>\n",
       "    <tr>\n",
       "      <td>year</td>\n",
       "      <td>NaN</td>\n",
       "      <td>1.000000</td>\n",
       "      <td>-0.003256</td>\n",
       "      <td>0.126118</td>\n",
       "      <td>0.084173</td>\n",
       "      <td>-0.069088</td>\n",
       "      <td>-0.071756</td>\n",
       "      <td>0.079206</td>\n",
       "      <td>0.024203</td>\n",
       "      <td>0.008786</td>\n",
       "      <td>...</td>\n",
       "      <td>-0.049461</td>\n",
       "      <td>-0.029538</td>\n",
       "      <td>0.019011</td>\n",
       "      <td>0.145375</td>\n",
       "      <td>0.021188</td>\n",
       "      <td>-0.005079</td>\n",
       "      <td>-0.006998</td>\n",
       "      <td>-0.023581</td>\n",
       "      <td>0.153147</td>\n",
       "      <td>-0.152098</td>\n",
       "    </tr>\n",
       "    <tr>\n",
       "      <td>month</td>\n",
       "      <td>NaN</td>\n",
       "      <td>-0.003256</td>\n",
       "      <td>1.000000</td>\n",
       "      <td>0.001711</td>\n",
       "      <td>-0.024235</td>\n",
       "      <td>-0.001359</td>\n",
       "      <td>-0.000729</td>\n",
       "      <td>0.001078</td>\n",
       "      <td>0.004843</td>\n",
       "      <td>0.003749</td>\n",
       "      <td>...</td>\n",
       "      <td>-0.000600</td>\n",
       "      <td>-0.000052</td>\n",
       "      <td>0.000520</td>\n",
       "      <td>-0.000543</td>\n",
       "      <td>0.000666</td>\n",
       "      <td>0.000992</td>\n",
       "      <td>0.000124</td>\n",
       "      <td>0.000833</td>\n",
       "      <td>-0.002463</td>\n",
       "      <td>-0.001940</td>\n",
       "    </tr>\n",
       "    <tr>\n",
       "      <td>elected</td>\n",
       "      <td>NaN</td>\n",
       "      <td>0.126118</td>\n",
       "      <td>0.001711</td>\n",
       "      <td>1.000000</td>\n",
       "      <td>0.185841</td>\n",
       "      <td>-0.042583</td>\n",
       "      <td>-0.089351</td>\n",
       "      <td>0.073556</td>\n",
       "      <td>-0.007224</td>\n",
       "      <td>-0.014020</td>\n",
       "      <td>...</td>\n",
       "      <td>-0.025854</td>\n",
       "      <td>0.073204</td>\n",
       "      <td>0.019811</td>\n",
       "      <td>0.201417</td>\n",
       "      <td>-0.053276</td>\n",
       "      <td>-0.062396</td>\n",
       "      <td>-0.042362</td>\n",
       "      <td>-0.057869</td>\n",
       "      <td>0.065945</td>\n",
       "      <td>-0.114767</td>\n",
       "    </tr>\n",
       "    <tr>\n",
       "      <td>age</td>\n",
       "      <td>NaN</td>\n",
       "      <td>0.084173</td>\n",
       "      <td>-0.024235</td>\n",
       "      <td>0.185841</td>\n",
       "      <td>1.000000</td>\n",
       "      <td>-0.000653</td>\n",
       "      <td>-0.111265</td>\n",
       "      <td>0.313949</td>\n",
       "      <td>0.028259</td>\n",
       "      <td>-0.026167</td>\n",
       "      <td>...</td>\n",
       "      <td>-0.001523</td>\n",
       "      <td>0.001213</td>\n",
       "      <td>-0.105689</td>\n",
       "      <td>0.089575</td>\n",
       "      <td>0.008314</td>\n",
       "      <td>-0.033498</td>\n",
       "      <td>0.013693</td>\n",
       "      <td>0.013962</td>\n",
       "      <td>0.133294</td>\n",
       "      <td>0.062823</td>\n",
       "    </tr>\n",
       "    <tr>\n",
       "      <td>male</td>\n",
       "      <td>NaN</td>\n",
       "      <td>-0.069088</td>\n",
       "      <td>-0.001359</td>\n",
       "      <td>-0.042583</td>\n",
       "      <td>-0.000653</td>\n",
       "      <td>1.000000</td>\n",
       "      <td>0.075649</td>\n",
       "      <td>0.061107</td>\n",
       "      <td>-0.010818</td>\n",
       "      <td>0.007021</td>\n",
       "      <td>...</td>\n",
       "      <td>0.028636</td>\n",
       "      <td>0.020706</td>\n",
       "      <td>0.057600</td>\n",
       "      <td>-0.072671</td>\n",
       "      <td>-0.010694</td>\n",
       "      <td>0.007815</td>\n",
       "      <td>-0.002322</td>\n",
       "      <td>-0.002117</td>\n",
       "      <td>-0.018609</td>\n",
       "      <td>0.032366</td>\n",
       "    </tr>\n",
       "    <tr>\n",
       "      <td>militarycareer</td>\n",
       "      <td>NaN</td>\n",
       "      <td>-0.071756</td>\n",
       "      <td>-0.000729</td>\n",
       "      <td>-0.089351</td>\n",
       "      <td>-0.111265</td>\n",
       "      <td>0.075649</td>\n",
       "      <td>1.000000</td>\n",
       "      <td>0.095246</td>\n",
       "      <td>0.007305</td>\n",
       "      <td>0.063465</td>\n",
       "      <td>...</td>\n",
       "      <td>-0.032867</td>\n",
       "      <td>0.237759</td>\n",
       "      <td>0.280827</td>\n",
       "      <td>-0.106080</td>\n",
       "      <td>-0.006933</td>\n",
       "      <td>0.051865</td>\n",
       "      <td>-0.029410</td>\n",
       "      <td>0.013814</td>\n",
       "      <td>-0.014174</td>\n",
       "      <td>0.042835</td>\n",
       "    </tr>\n",
       "    <tr>\n",
       "      <td>tenure_months</td>\n",
       "      <td>NaN</td>\n",
       "      <td>0.079206</td>\n",
       "      <td>0.001078</td>\n",
       "      <td>0.073556</td>\n",
       "      <td>0.313949</td>\n",
       "      <td>0.061107</td>\n",
       "      <td>0.095246</td>\n",
       "      <td>1.000000</td>\n",
       "      <td>-0.013884</td>\n",
       "      <td>-0.004200</td>\n",
       "      <td>...</td>\n",
       "      <td>0.193574</td>\n",
       "      <td>0.105640</td>\n",
       "      <td>0.156413</td>\n",
       "      <td>-0.181030</td>\n",
       "      <td>-0.036822</td>\n",
       "      <td>-0.041671</td>\n",
       "      <td>-0.029301</td>\n",
       "      <td>0.015972</td>\n",
       "      <td>0.010849</td>\n",
       "      <td>0.137477</td>\n",
       "    </tr>\n",
       "    <tr>\n",
       "      <td>anticipation</td>\n",
       "      <td>NaN</td>\n",
       "      <td>0.024203</td>\n",
       "      <td>0.004843</td>\n",
       "      <td>-0.007224</td>\n",
       "      <td>0.028259</td>\n",
       "      <td>-0.010818</td>\n",
       "      <td>0.007305</td>\n",
       "      <td>-0.013884</td>\n",
       "      <td>1.000000</td>\n",
       "      <td>0.319575</td>\n",
       "      <td>...</td>\n",
       "      <td>-0.004508</td>\n",
       "      <td>0.003629</td>\n",
       "      <td>0.005318</td>\n",
       "      <td>0.027966</td>\n",
       "      <td>0.041729</td>\n",
       "      <td>0.046642</td>\n",
       "      <td>-0.006600</td>\n",
       "      <td>-0.009421</td>\n",
       "      <td>0.003829</td>\n",
       "      <td>-0.018084</td>\n",
       "    </tr>\n",
       "    <tr>\n",
       "      <td>ref_ant</td>\n",
       "      <td>NaN</td>\n",
       "      <td>0.008786</td>\n",
       "      <td>0.003749</td>\n",
       "      <td>-0.014020</td>\n",
       "      <td>-0.026167</td>\n",
       "      <td>0.007021</td>\n",
       "      <td>0.063465</td>\n",
       "      <td>-0.004200</td>\n",
       "      <td>0.319575</td>\n",
       "      <td>1.000000</td>\n",
       "      <td>...</td>\n",
       "      <td>-0.001897</td>\n",
       "      <td>-0.000321</td>\n",
       "      <td>0.064950</td>\n",
       "      <td>-0.006277</td>\n",
       "      <td>0.039592</td>\n",
       "      <td>0.031049</td>\n",
       "      <td>-0.006654</td>\n",
       "      <td>0.002019</td>\n",
       "      <td>-0.000607</td>\n",
       "      <td>-0.021237</td>\n",
       "    </tr>\n",
       "    <tr>\n",
       "      <td>leg_ant</td>\n",
       "      <td>NaN</td>\n",
       "      <td>-0.001462</td>\n",
       "      <td>-0.006340</td>\n",
       "      <td>-0.020561</td>\n",
       "      <td>0.018913</td>\n",
       "      <td>-0.030014</td>\n",
       "      <td>-0.069582</td>\n",
       "      <td>-0.050129</td>\n",
       "      <td>0.597897</td>\n",
       "      <td>-0.008601</td>\n",
       "      <td>...</td>\n",
       "      <td>-0.025331</td>\n",
       "      <td>-0.029503</td>\n",
       "      <td>-0.076673</td>\n",
       "      <td>-0.079029</td>\n",
       "      <td>-0.003845</td>\n",
       "      <td>-0.004938</td>\n",
       "      <td>0.001020</td>\n",
       "      <td>0.004088</td>\n",
       "      <td>-0.019971</td>\n",
       "      <td>0.011586</td>\n",
       "    </tr>\n",
       "    <tr>\n",
       "      <td>exec_ant</td>\n",
       "      <td>NaN</td>\n",
       "      <td>0.027784</td>\n",
       "      <td>0.010834</td>\n",
       "      <td>0.013504</td>\n",
       "      <td>0.032583</td>\n",
       "      <td>0.008756</td>\n",
       "      <td>0.041768</td>\n",
       "      <td>0.025091</td>\n",
       "      <td>0.697585</td>\n",
       "      <td>0.006352</td>\n",
       "      <td>...</td>\n",
       "      <td>0.017461</td>\n",
       "      <td>0.030925</td>\n",
       "      <td>0.044473</td>\n",
       "      <td>0.111287</td>\n",
       "      <td>0.043427</td>\n",
       "      <td>0.052439</td>\n",
       "      <td>-0.006947</td>\n",
       "      <td>-0.017162</td>\n",
       "      <td>0.023762</td>\n",
       "      <td>-0.024927</td>\n",
       "    </tr>\n",
       "    <tr>\n",
       "      <td>irreg_lead_ant</td>\n",
       "      <td>NaN</td>\n",
       "      <td>-0.018475</td>\n",
       "      <td>-0.001697</td>\n",
       "      <td>-0.069283</td>\n",
       "      <td>-0.020293</td>\n",
       "      <td>-0.004542</td>\n",
       "      <td>0.073082</td>\n",
       "      <td>-0.019248</td>\n",
       "      <td>0.402296</td>\n",
       "      <td>0.024348</td>\n",
       "      <td>...</td>\n",
       "      <td>0.019694</td>\n",
       "      <td>-0.005023</td>\n",
       "      <td>0.037313</td>\n",
       "      <td>-0.023855</td>\n",
       "      <td>0.089466</td>\n",
       "      <td>0.108315</td>\n",
       "      <td>0.004292</td>\n",
       "      <td>0.005863</td>\n",
       "      <td>-0.011729</td>\n",
       "      <td>-0.004919</td>\n",
       "    </tr>\n",
       "    <tr>\n",
       "      <td>election_now</td>\n",
       "      <td>NaN</td>\n",
       "      <td>0.012872</td>\n",
       "      <td>0.014271</td>\n",
       "      <td>0.027116</td>\n",
       "      <td>0.012768</td>\n",
       "      <td>-0.006503</td>\n",
       "      <td>-0.007788</td>\n",
       "      <td>-0.020522</td>\n",
       "      <td>0.419921</td>\n",
       "      <td>0.130583</td>\n",
       "      <td>...</td>\n",
       "      <td>-0.007430</td>\n",
       "      <td>-0.000325</td>\n",
       "      <td>-0.007662</td>\n",
       "      <td>0.011145</td>\n",
       "      <td>0.022311</td>\n",
       "      <td>0.015641</td>\n",
       "      <td>-0.005428</td>\n",
       "      <td>-0.002176</td>\n",
       "      <td>0.006028</td>\n",
       "      <td>-0.008659</td>\n",
       "    </tr>\n",
       "    <tr>\n",
       "      <td>election_recent</td>\n",
       "      <td>NaN</td>\n",
       "      <td>0.021818</td>\n",
       "      <td>-0.000088</td>\n",
       "      <td>0.123684</td>\n",
       "      <td>0.005575</td>\n",
       "      <td>-0.004640</td>\n",
       "      <td>-0.025935</td>\n",
       "      <td>-0.084880</td>\n",
       "      <td>-0.067319</td>\n",
       "      <td>-0.012459</td>\n",
       "      <td>...</td>\n",
       "      <td>-0.012704</td>\n",
       "      <td>-0.000886</td>\n",
       "      <td>-0.016035</td>\n",
       "      <td>0.039570</td>\n",
       "      <td>0.022841</td>\n",
       "      <td>0.018462</td>\n",
       "      <td>-0.009576</td>\n",
       "      <td>-0.004517</td>\n",
       "      <td>0.023433</td>\n",
       "      <td>-0.015923</td>\n",
       "    </tr>\n",
       "    <tr>\n",
       "      <td>leg_recent</td>\n",
       "      <td>NaN</td>\n",
       "      <td>-0.005154</td>\n",
       "      <td>0.010020</td>\n",
       "      <td>0.089105</td>\n",
       "      <td>0.005986</td>\n",
       "      <td>-0.018958</td>\n",
       "      <td>-0.082074</td>\n",
       "      <td>-0.093479</td>\n",
       "      <td>-0.067868</td>\n",
       "      <td>-0.021116</td>\n",
       "      <td>...</td>\n",
       "      <td>-0.035604</td>\n",
       "      <td>-0.033113</td>\n",
       "      <td>-0.086879</td>\n",
       "      <td>-0.088533</td>\n",
       "      <td>-0.006882</td>\n",
       "      <td>-0.006919</td>\n",
       "      <td>-0.001134</td>\n",
       "      <td>0.007936</td>\n",
       "      <td>0.005529</td>\n",
       "      <td>0.015837</td>\n",
       "    </tr>\n",
       "    <tr>\n",
       "      <td>exec_recent</td>\n",
       "      <td>NaN</td>\n",
       "      <td>0.030228</td>\n",
       "      <td>-0.008635</td>\n",
       "      <td>0.080702</td>\n",
       "      <td>0.011997</td>\n",
       "      <td>0.009014</td>\n",
       "      <td>0.021300</td>\n",
       "      <td>-0.025614</td>\n",
       "      <td>-0.050657</td>\n",
       "      <td>-0.006316</td>\n",
       "      <td>...</td>\n",
       "      <td>0.017266</td>\n",
       "      <td>0.028105</td>\n",
       "      <td>0.032172</td>\n",
       "      <td>0.147456</td>\n",
       "      <td>0.024316</td>\n",
       "      <td>0.016987</td>\n",
       "      <td>-0.013975</td>\n",
       "      <td>-0.015468</td>\n",
       "      <td>0.027803</td>\n",
       "      <td>-0.027068</td>\n",
       "    </tr>\n",
       "    <tr>\n",
       "      <td>lead_recent</td>\n",
       "      <td>NaN</td>\n",
       "      <td>0.018218</td>\n",
       "      <td>0.001006</td>\n",
       "      <td>0.123369</td>\n",
       "      <td>0.013066</td>\n",
       "      <td>-0.007223</td>\n",
       "      <td>-0.044151</td>\n",
       "      <td>-0.086522</td>\n",
       "      <td>-0.086111</td>\n",
       "      <td>-0.019930</td>\n",
       "      <td>...</td>\n",
       "      <td>-0.013321</td>\n",
       "      <td>-0.003637</td>\n",
       "      <td>-0.039742</td>\n",
       "      <td>0.042817</td>\n",
       "      <td>0.012668</td>\n",
       "      <td>0.007315</td>\n",
       "      <td>-0.010977</td>\n",
       "      <td>-0.005473</td>\n",
       "      <td>0.024218</td>\n",
       "      <td>-0.008161</td>\n",
       "    </tr>\n",
       "    <tr>\n",
       "      <td>ref_recent</td>\n",
       "      <td>NaN</td>\n",
       "      <td>0.009937</td>\n",
       "      <td>-0.005747</td>\n",
       "      <td>0.024469</td>\n",
       "      <td>-0.025780</td>\n",
       "      <td>0.009549</td>\n",
       "      <td>0.056617</td>\n",
       "      <td>-0.013113</td>\n",
       "      <td>0.038446</td>\n",
       "      <td>0.018727</td>\n",
       "      <td>...</td>\n",
       "      <td>0.000177</td>\n",
       "      <td>0.005578</td>\n",
       "      <td>0.067885</td>\n",
       "      <td>0.002433</td>\n",
       "      <td>0.036606</td>\n",
       "      <td>0.036382</td>\n",
       "      <td>0.001151</td>\n",
       "      <td>0.002420</td>\n",
       "      <td>0.002595</td>\n",
       "      <td>-0.022913</td>\n",
       "    </tr>\n",
       "    <tr>\n",
       "      <td>direct_recent</td>\n",
       "      <td>NaN</td>\n",
       "      <td>0.026962</td>\n",
       "      <td>-0.002118</td>\n",
       "      <td>0.149591</td>\n",
       "      <td>-0.001068</td>\n",
       "      <td>-0.008580</td>\n",
       "      <td>-0.030731</td>\n",
       "      <td>-0.093872</td>\n",
       "      <td>-0.059634</td>\n",
       "      <td>-0.009581</td>\n",
       "      <td>...</td>\n",
       "      <td>-0.026040</td>\n",
       "      <td>-0.005768</td>\n",
       "      <td>-0.014307</td>\n",
       "      <td>0.043827</td>\n",
       "      <td>0.021049</td>\n",
       "      <td>0.016835</td>\n",
       "      <td>-0.008079</td>\n",
       "      <td>-0.007551</td>\n",
       "      <td>0.022191</td>\n",
       "      <td>-0.027494</td>\n",
       "    </tr>\n",
       "    <tr>\n",
       "      <td>indirect_recent</td>\n",
       "      <td>NaN</td>\n",
       "      <td>-0.012806</td>\n",
       "      <td>0.008341</td>\n",
       "      <td>-0.068759</td>\n",
       "      <td>0.015871</td>\n",
       "      <td>0.011200</td>\n",
       "      <td>0.009883</td>\n",
       "      <td>0.017550</td>\n",
       "      <td>-0.029880</td>\n",
       "      <td>-0.010188</td>\n",
       "      <td>...</td>\n",
       "      <td>0.034460</td>\n",
       "      <td>0.016940</td>\n",
       "      <td>-0.007900</td>\n",
       "      <td>-0.011595</td>\n",
       "      <td>0.001179</td>\n",
       "      <td>0.008109</td>\n",
       "      <td>-0.005668</td>\n",
       "      <td>0.008514</td>\n",
       "      <td>0.004518</td>\n",
       "      <td>0.035569</td>\n",
       "    </tr>\n",
       "    <tr>\n",
       "      <td>victory_recent</td>\n",
       "      <td>NaN</td>\n",
       "      <td>-0.011915</td>\n",
       "      <td>-0.001159</td>\n",
       "      <td>0.101048</td>\n",
       "      <td>0.014393</td>\n",
       "      <td>0.010887</td>\n",
       "      <td>0.002417</td>\n",
       "      <td>-0.011796</td>\n",
       "      <td>-0.068160</td>\n",
       "      <td>-0.008105</td>\n",
       "      <td>...</td>\n",
       "      <td>0.013575</td>\n",
       "      <td>0.016804</td>\n",
       "      <td>0.019489</td>\n",
       "      <td>-0.025830</td>\n",
       "      <td>-0.001678</td>\n",
       "      <td>0.013022</td>\n",
       "      <td>-0.003047</td>\n",
       "      <td>0.003342</td>\n",
       "      <td>0.010498</td>\n",
       "      <td>-0.000824</td>\n",
       "    </tr>\n",
       "    <tr>\n",
       "      <td>defeat_recent</td>\n",
       "      <td>NaN</td>\n",
       "      <td>0.049067</td>\n",
       "      <td>-0.000184</td>\n",
       "      <td>0.066437</td>\n",
       "      <td>-0.012737</td>\n",
       "      <td>-0.022772</td>\n",
       "      <td>-0.044417</td>\n",
       "      <td>-0.127588</td>\n",
       "      <td>-0.034515</td>\n",
       "      <td>-0.008114</td>\n",
       "      <td>...</td>\n",
       "      <td>-0.038888</td>\n",
       "      <td>-0.023298</td>\n",
       "      <td>-0.052370</td>\n",
       "      <td>0.098688</td>\n",
       "      <td>0.038726</td>\n",
       "      <td>0.011790</td>\n",
       "      <td>-0.011793</td>\n",
       "      <td>-0.012129</td>\n",
       "      <td>0.024814</td>\n",
       "      <td>-0.024343</td>\n",
       "    </tr>\n",
       "    <tr>\n",
       "      <td>change_recent</td>\n",
       "      <td>NaN</td>\n",
       "      <td>0.033919</td>\n",
       "      <td>0.005613</td>\n",
       "      <td>0.069635</td>\n",
       "      <td>-0.015701</td>\n",
       "      <td>-0.022552</td>\n",
       "      <td>-0.053437</td>\n",
       "      <td>-0.154027</td>\n",
       "      <td>-0.058587</td>\n",
       "      <td>-0.014754</td>\n",
       "      <td>...</td>\n",
       "      <td>-0.045134</td>\n",
       "      <td>-0.028569</td>\n",
       "      <td>-0.068037</td>\n",
       "      <td>0.108053</td>\n",
       "      <td>0.028313</td>\n",
       "      <td>0.021085</td>\n",
       "      <td>-0.013148</td>\n",
       "      <td>-0.012766</td>\n",
       "      <td>0.020180</td>\n",
       "      <td>-0.033010</td>\n",
       "    </tr>\n",
       "    <tr>\n",
       "      <td>nochange_recent</td>\n",
       "      <td>NaN</td>\n",
       "      <td>-0.003228</td>\n",
       "      <td>-0.006909</td>\n",
       "      <td>0.098138</td>\n",
       "      <td>0.019109</td>\n",
       "      <td>0.013385</td>\n",
       "      <td>0.013360</td>\n",
       "      <td>0.017549</td>\n",
       "      <td>-0.048838</td>\n",
       "      <td>-0.002517</td>\n",
       "      <td>...</td>\n",
       "      <td>0.022061</td>\n",
       "      <td>0.023064</td>\n",
       "      <td>0.036540</td>\n",
       "      <td>-0.039708</td>\n",
       "      <td>0.006553</td>\n",
       "      <td>0.005959</td>\n",
       "      <td>-0.001025</td>\n",
       "      <td>0.005047</td>\n",
       "      <td>0.012796</td>\n",
       "      <td>0.006948</td>\n",
       "    </tr>\n",
       "    <tr>\n",
       "      <td>delayed</td>\n",
       "      <td>NaN</td>\n",
       "      <td>-0.002235</td>\n",
       "      <td>0.000977</td>\n",
       "      <td>-0.047727</td>\n",
       "      <td>-0.021505</td>\n",
       "      <td>0.002963</td>\n",
       "      <td>0.062640</td>\n",
       "      <td>-0.021195</td>\n",
       "      <td>0.034552</td>\n",
       "      <td>0.010121</td>\n",
       "      <td>...</td>\n",
       "      <td>-0.001255</td>\n",
       "      <td>-0.005685</td>\n",
       "      <td>0.024172</td>\n",
       "      <td>-0.023143</td>\n",
       "      <td>0.040896</td>\n",
       "      <td>0.048681</td>\n",
       "      <td>0.024146</td>\n",
       "      <td>0.000568</td>\n",
       "      <td>-0.004052</td>\n",
       "      <td>-0.008244</td>\n",
       "    </tr>\n",
       "    <tr>\n",
       "      <td>lastelection</td>\n",
       "      <td>NaN</td>\n",
       "      <td>-0.012424</td>\n",
       "      <td>-0.004422</td>\n",
       "      <td>-0.374722</td>\n",
       "      <td>-0.031712</td>\n",
       "      <td>0.027077</td>\n",
       "      <td>0.036630</td>\n",
       "      <td>0.282679</td>\n",
       "      <td>-0.082193</td>\n",
       "      <td>-0.036554</td>\n",
       "      <td>...</td>\n",
       "      <td>-0.007534</td>\n",
       "      <td>-0.021523</td>\n",
       "      <td>0.026302</td>\n",
       "      <td>-0.116093</td>\n",
       "      <td>-0.027618</td>\n",
       "      <td>-0.011480</td>\n",
       "      <td>0.010204</td>\n",
       "      <td>0.031782</td>\n",
       "      <td>-0.032115</td>\n",
       "      <td>0.073909</td>\n",
       "    </tr>\n",
       "    <tr>\n",
       "      <td>loss</td>\n",
       "      <td>NaN</td>\n",
       "      <td>0.008320</td>\n",
       "      <td>-0.000136</td>\n",
       "      <td>-0.111818</td>\n",
       "      <td>0.156831</td>\n",
       "      <td>0.062695</td>\n",
       "      <td>0.038026</td>\n",
       "      <td>0.495957</td>\n",
       "      <td>-0.045175</td>\n",
       "      <td>-0.034314</td>\n",
       "      <td>...</td>\n",
       "      <td>0.091091</td>\n",
       "      <td>0.058322</td>\n",
       "      <td>0.033053</td>\n",
       "      <td>-0.241587</td>\n",
       "      <td>-0.090099</td>\n",
       "      <td>-0.041151</td>\n",
       "      <td>-0.025679</td>\n",
       "      <td>0.053057</td>\n",
       "      <td>0.021328</td>\n",
       "      <td>0.148839</td>\n",
       "    </tr>\n",
       "    <tr>\n",
       "      <td>irregular</td>\n",
       "      <td>NaN</td>\n",
       "      <td>0.129573</td>\n",
       "      <td>0.001953</td>\n",
       "      <td>-0.035394</td>\n",
       "      <td>0.140200</td>\n",
       "      <td>-0.010160</td>\n",
       "      <td>-0.244166</td>\n",
       "      <td>0.120122</td>\n",
       "      <td>-0.047037</td>\n",
       "      <td>-0.105975</td>\n",
       "      <td>...</td>\n",
       "      <td>-0.088490</td>\n",
       "      <td>-0.026075</td>\n",
       "      <td>-0.238928</td>\n",
       "      <td>-0.021770</td>\n",
       "      <td>-0.089776</td>\n",
       "      <td>-0.067770</td>\n",
       "      <td>-0.045129</td>\n",
       "      <td>-0.063471</td>\n",
       "      <td>0.111546</td>\n",
       "      <td>0.047565</td>\n",
       "    </tr>\n",
       "    <tr>\n",
       "      <td>prev_conflict</td>\n",
       "      <td>NaN</td>\n",
       "      <td>0.022646</td>\n",
       "      <td>0.008599</td>\n",
       "      <td>-0.060842</td>\n",
       "      <td>0.036747</td>\n",
       "      <td>-0.082172</td>\n",
       "      <td>0.083560</td>\n",
       "      <td>-0.032701</td>\n",
       "      <td>-0.002027</td>\n",
       "      <td>0.013316</td>\n",
       "      <td>...</td>\n",
       "      <td>-0.024432</td>\n",
       "      <td>0.003494</td>\n",
       "      <td>0.010043</td>\n",
       "      <td>-0.015288</td>\n",
       "      <td>0.004120</td>\n",
       "      <td>-0.012888</td>\n",
       "      <td>0.059436</td>\n",
       "      <td>-0.055940</td>\n",
       "      <td>-0.005277</td>\n",
       "      <td>0.041777</td>\n",
       "    </tr>\n",
       "    <tr>\n",
       "      <td>pt_suc</td>\n",
       "      <td>NaN</td>\n",
       "      <td>-0.026830</td>\n",
       "      <td>0.001214</td>\n",
       "      <td>-0.013041</td>\n",
       "      <td>-0.010223</td>\n",
       "      <td>0.002179</td>\n",
       "      <td>0.013900</td>\n",
       "      <td>-0.009670</td>\n",
       "      <td>0.009245</td>\n",
       "      <td>-0.003101</td>\n",
       "      <td>...</td>\n",
       "      <td>-0.001491</td>\n",
       "      <td>0.000699</td>\n",
       "      <td>0.008249</td>\n",
       "      <td>-0.002693</td>\n",
       "      <td>0.015855</td>\n",
       "      <td>0.020326</td>\n",
       "      <td>0.000617</td>\n",
       "      <td>0.000983</td>\n",
       "      <td>-0.012917</td>\n",
       "      <td>-0.007451</td>\n",
       "    </tr>\n",
       "    <tr>\n",
       "      <td>pt_attempt</td>\n",
       "      <td>NaN</td>\n",
       "      <td>-0.033373</td>\n",
       "      <td>0.002038</td>\n",
       "      <td>-0.021962</td>\n",
       "      <td>-0.021019</td>\n",
       "      <td>-0.002129</td>\n",
       "      <td>0.029708</td>\n",
       "      <td>-0.016542</td>\n",
       "      <td>0.012676</td>\n",
       "      <td>-0.003026</td>\n",
       "      <td>...</td>\n",
       "      <td>-0.004254</td>\n",
       "      <td>-0.000023</td>\n",
       "      <td>0.018489</td>\n",
       "      <td>-0.000407</td>\n",
       "      <td>0.024436</td>\n",
       "      <td>0.020731</td>\n",
       "      <td>0.012944</td>\n",
       "      <td>0.001424</td>\n",
       "      <td>-0.010938</td>\n",
       "      <td>-0.007311</td>\n",
       "    </tr>\n",
       "    <tr>\n",
       "      <td>precip</td>\n",
       "      <td>NaN</td>\n",
       "      <td>-0.124692</td>\n",
       "      <td>-0.000629</td>\n",
       "      <td>-0.021898</td>\n",
       "      <td>-0.010028</td>\n",
       "      <td>0.016120</td>\n",
       "      <td>-0.016472</td>\n",
       "      <td>-0.024292</td>\n",
       "      <td>0.002500</td>\n",
       "      <td>0.010704</td>\n",
       "      <td>...</td>\n",
       "      <td>0.021852</td>\n",
       "      <td>0.003788</td>\n",
       "      <td>-0.040100</td>\n",
       "      <td>-0.023510</td>\n",
       "      <td>-0.019269</td>\n",
       "      <td>0.017213</td>\n",
       "      <td>0.003572</td>\n",
       "      <td>0.000979</td>\n",
       "      <td>-0.009148</td>\n",
       "      <td>0.042633</td>\n",
       "    </tr>\n",
       "    <tr>\n",
       "      <td>imports</td>\n",
       "      <td>NaN</td>\n",
       "      <td>0.202676</td>\n",
       "      <td>-0.001333</td>\n",
       "      <td>0.055128</td>\n",
       "      <td>0.055403</td>\n",
       "      <td>-0.012452</td>\n",
       "      <td>-0.094807</td>\n",
       "      <td>-0.069877</td>\n",
       "      <td>0.005113</td>\n",
       "      <td>-0.018358</td>\n",
       "      <td>...</td>\n",
       "      <td>-0.045211</td>\n",
       "      <td>-0.021760</td>\n",
       "      <td>-0.081486</td>\n",
       "      <td>0.117639</td>\n",
       "      <td>-0.016208</td>\n",
       "      <td>-0.011267</td>\n",
       "      <td>-0.013375</td>\n",
       "      <td>-0.529447</td>\n",
       "      <td>0.230349</td>\n",
       "      <td>-0.014704</td>\n",
       "    </tr>\n",
       "    <tr>\n",
       "      <td>exports</td>\n",
       "      <td>NaN</td>\n",
       "      <td>0.223525</td>\n",
       "      <td>-0.001216</td>\n",
       "      <td>0.041541</td>\n",
       "      <td>0.068741</td>\n",
       "      <td>-0.015068</td>\n",
       "      <td>-0.103518</td>\n",
       "      <td>-0.074130</td>\n",
       "      <td>0.002336</td>\n",
       "      <td>-0.020290</td>\n",
       "      <td>...</td>\n",
       "      <td>-0.049998</td>\n",
       "      <td>-0.025819</td>\n",
       "      <td>-0.082225</td>\n",
       "      <td>0.089840</td>\n",
       "      <td>-0.018598</td>\n",
       "      <td>-0.012129</td>\n",
       "      <td>-0.015589</td>\n",
       "      <td>-0.232686</td>\n",
       "      <td>0.253819</td>\n",
       "      <td>-0.018008</td>\n",
       "    </tr>\n",
       "    <tr>\n",
       "      <td>milex</td>\n",
       "      <td>NaN</td>\n",
       "      <td>0.069861</td>\n",
       "      <td>-0.001888</td>\n",
       "      <td>0.037221</td>\n",
       "      <td>0.072609</td>\n",
       "      <td>0.002737</td>\n",
       "      <td>-0.036454</td>\n",
       "      <td>-0.034288</td>\n",
       "      <td>0.010165</td>\n",
       "      <td>-0.010416</td>\n",
       "      <td>...</td>\n",
       "      <td>-0.026904</td>\n",
       "      <td>-0.013808</td>\n",
       "      <td>-0.046551</td>\n",
       "      <td>0.136256</td>\n",
       "      <td>-0.011361</td>\n",
       "      <td>-0.008070</td>\n",
       "      <td>-0.009316</td>\n",
       "      <td>-0.667077</td>\n",
       "      <td>0.150838</td>\n",
       "      <td>0.041340</td>\n",
       "    </tr>\n",
       "    <tr>\n",
       "      <td>milper</td>\n",
       "      <td>NaN</td>\n",
       "      <td>-0.081489</td>\n",
       "      <td>-0.002018</td>\n",
       "      <td>-0.036072</td>\n",
       "      <td>0.181677</td>\n",
       "      <td>-0.020929</td>\n",
       "      <td>0.031702</td>\n",
       "      <td>0.017342</td>\n",
       "      <td>0.008567</td>\n",
       "      <td>-0.008524</td>\n",
       "      <td>...</td>\n",
       "      <td>0.009064</td>\n",
       "      <td>0.025229</td>\n",
       "      <td>-0.074115</td>\n",
       "      <td>0.046303</td>\n",
       "      <td>-0.019824</td>\n",
       "      <td>-0.012165</td>\n",
       "      <td>-0.015313</td>\n",
       "      <td>-0.098975</td>\n",
       "      <td>0.117289</td>\n",
       "      <td>0.200011</td>\n",
       "    </tr>\n",
       "    <tr>\n",
       "      <td>irst</td>\n",
       "      <td>NaN</td>\n",
       "      <td>0.036408</td>\n",
       "      <td>-0.001184</td>\n",
       "      <td>-0.012419</td>\n",
       "      <td>0.127285</td>\n",
       "      <td>0.013226</td>\n",
       "      <td>-0.046798</td>\n",
       "      <td>-0.060893</td>\n",
       "      <td>0.010352</td>\n",
       "      <td>-0.013289</td>\n",
       "      <td>...</td>\n",
       "      <td>-0.034987</td>\n",
       "      <td>-0.027173</td>\n",
       "      <td>-0.071644</td>\n",
       "      <td>0.081098</td>\n",
       "      <td>-0.015121</td>\n",
       "      <td>-0.012400</td>\n",
       "      <td>-0.013832</td>\n",
       "      <td>-0.002910</td>\n",
       "      <td>0.193156</td>\n",
       "      <td>0.033450</td>\n",
       "    </tr>\n",
       "    <tr>\n",
       "      <td>pec</td>\n",
       "      <td>NaN</td>\n",
       "      <td>0.062314</td>\n",
       "      <td>-0.002019</td>\n",
       "      <td>0.025315</td>\n",
       "      <td>0.126848</td>\n",
       "      <td>0.003797</td>\n",
       "      <td>-0.051974</td>\n",
       "      <td>-0.051627</td>\n",
       "      <td>0.012783</td>\n",
       "      <td>-0.011148</td>\n",
       "      <td>...</td>\n",
       "      <td>-0.035277</td>\n",
       "      <td>-0.016999</td>\n",
       "      <td>-0.066320</td>\n",
       "      <td>0.138188</td>\n",
       "      <td>-0.016618</td>\n",
       "      <td>-0.011803</td>\n",
       "      <td>-0.014960</td>\n",
       "      <td>-0.343388</td>\n",
       "      <td>0.184578</td>\n",
       "      <td>0.038146</td>\n",
       "    </tr>\n",
       "    <tr>\n",
       "      <td>upop</td>\n",
       "      <td>NaN</td>\n",
       "      <td>0.077368</td>\n",
       "      <td>-0.001512</td>\n",
       "      <td>-0.029674</td>\n",
       "      <td>0.168716</td>\n",
       "      <td>-0.038943</td>\n",
       "      <td>-0.031495</td>\n",
       "      <td>-0.042995</td>\n",
       "      <td>0.006703</td>\n",
       "      <td>-0.011334</td>\n",
       "      <td>...</td>\n",
       "      <td>-0.042059</td>\n",
       "      <td>0.016883</td>\n",
       "      <td>-0.067129</td>\n",
       "      <td>0.065574</td>\n",
       "      <td>-0.017277</td>\n",
       "      <td>-0.009205</td>\n",
       "      <td>-0.015622</td>\n",
       "      <td>-0.100905</td>\n",
       "      <td>0.200902</td>\n",
       "      <td>-0.010792</td>\n",
       "    </tr>\n",
       "    <tr>\n",
       "      <td>cinc</td>\n",
       "      <td>NaN</td>\n",
       "      <td>-0.078739</td>\n",
       "      <td>-0.002003</td>\n",
       "      <td>0.001806</td>\n",
       "      <td>0.164499</td>\n",
       "      <td>-0.014041</td>\n",
       "      <td>-0.012855</td>\n",
       "      <td>-0.035858</td>\n",
       "      <td>0.009535</td>\n",
       "      <td>-0.015282</td>\n",
       "      <td>...</td>\n",
       "      <td>-0.035306</td>\n",
       "      <td>-0.005904</td>\n",
       "      <td>-0.082210</td>\n",
       "      <td>0.106783</td>\n",
       "      <td>-0.019176</td>\n",
       "      <td>-0.012133</td>\n",
       "      <td>-0.016413</td>\n",
       "      <td>-0.183505</td>\n",
       "      <td>0.149181</td>\n",
       "      <td>0.088681</td>\n",
       "    </tr>\n",
       "    <tr>\n",
       "      <td>population</td>\n",
       "      <td>NaN</td>\n",
       "      <td>0.019392</td>\n",
       "      <td>-0.001417</td>\n",
       "      <td>-0.047004</td>\n",
       "      <td>0.176116</td>\n",
       "      <td>-0.078825</td>\n",
       "      <td>-0.018870</td>\n",
       "      <td>-0.019081</td>\n",
       "      <td>0.003778</td>\n",
       "      <td>-0.011597</td>\n",
       "      <td>...</td>\n",
       "      <td>-0.038505</td>\n",
       "      <td>0.022245</td>\n",
       "      <td>-0.063769</td>\n",
       "      <td>0.015539</td>\n",
       "      <td>-0.016133</td>\n",
       "      <td>-0.004955</td>\n",
       "      <td>-0.014002</td>\n",
       "      <td>-0.039943</td>\n",
       "      <td>0.047499</td>\n",
       "      <td>-0.031969</td>\n",
       "    </tr>\n",
       "    <tr>\n",
       "      <td>Dominant Party</td>\n",
       "      <td>NaN</td>\n",
       "      <td>-0.093917</td>\n",
       "      <td>-0.000741</td>\n",
       "      <td>0.065409</td>\n",
       "      <td>0.158518</td>\n",
       "      <td>0.065232</td>\n",
       "      <td>-0.119540</td>\n",
       "      <td>0.154737</td>\n",
       "      <td>0.001228</td>\n",
       "      <td>-0.027195</td>\n",
       "      <td>...</td>\n",
       "      <td>-0.095829</td>\n",
       "      <td>-0.065496</td>\n",
       "      <td>-0.183417</td>\n",
       "      <td>-0.184908</td>\n",
       "      <td>-0.034185</td>\n",
       "      <td>-0.024719</td>\n",
       "      <td>-0.027638</td>\n",
       "      <td>0.025423</td>\n",
       "      <td>-0.058974</td>\n",
       "      <td>0.064623</td>\n",
       "    </tr>\n",
       "    <tr>\n",
       "      <td>Foreign/Occupied</td>\n",
       "      <td>NaN</td>\n",
       "      <td>0.045327</td>\n",
       "      <td>0.000328</td>\n",
       "      <td>-0.051799</td>\n",
       "      <td>0.017804</td>\n",
       "      <td>0.016547</td>\n",
       "      <td>-0.037764</td>\n",
       "      <td>-0.048892</td>\n",
       "      <td>0.005247</td>\n",
       "      <td>-0.004159</td>\n",
       "      <td>...</td>\n",
       "      <td>-0.024308</td>\n",
       "      <td>-0.016614</td>\n",
       "      <td>-0.046526</td>\n",
       "      <td>-0.046904</td>\n",
       "      <td>-0.008671</td>\n",
       "      <td>-0.006270</td>\n",
       "      <td>-0.007011</td>\n",
       "      <td>-0.003262</td>\n",
       "      <td>0.033506</td>\n",
       "      <td>0.077884</td>\n",
       "    </tr>\n",
       "    <tr>\n",
       "      <td>Indirect Military</td>\n",
       "      <td>NaN</td>\n",
       "      <td>-0.039379</td>\n",
       "      <td>-0.001749</td>\n",
       "      <td>-0.018231</td>\n",
       "      <td>-0.040822</td>\n",
       "      <td>0.010112</td>\n",
       "      <td>0.004373</td>\n",
       "      <td>-0.040701</td>\n",
       "      <td>-0.002124</td>\n",
       "      <td>0.001019</td>\n",
       "      <td>...</td>\n",
       "      <td>-0.014855</td>\n",
       "      <td>-0.010153</td>\n",
       "      <td>-0.028432</td>\n",
       "      <td>-0.028663</td>\n",
       "      <td>-0.005299</td>\n",
       "      <td>-0.003832</td>\n",
       "      <td>-0.004284</td>\n",
       "      <td>0.001445</td>\n",
       "      <td>0.015925</td>\n",
       "      <td>-0.003808</td>\n",
       "    </tr>\n",
       "    <tr>\n",
       "      <td>Military</td>\n",
       "      <td>NaN</td>\n",
       "      <td>-0.064085</td>\n",
       "      <td>-0.000951</td>\n",
       "      <td>-0.131373</td>\n",
       "      <td>-0.044002</td>\n",
       "      <td>0.026782</td>\n",
       "      <td>0.304012</td>\n",
       "      <td>-0.086888</td>\n",
       "      <td>0.014771</td>\n",
       "      <td>0.032393</td>\n",
       "      <td>...</td>\n",
       "      <td>-0.039344</td>\n",
       "      <td>-0.026890</td>\n",
       "      <td>-0.075304</td>\n",
       "      <td>-0.075915</td>\n",
       "      <td>-0.014035</td>\n",
       "      <td>-0.010149</td>\n",
       "      <td>-0.011347</td>\n",
       "      <td>0.007199</td>\n",
       "      <td>0.012461</td>\n",
       "      <td>0.025441</td>\n",
       "    </tr>\n",
       "    <tr>\n",
       "      <td>Military-Personal</td>\n",
       "      <td>NaN</td>\n",
       "      <td>-0.049864</td>\n",
       "      <td>-0.000295</td>\n",
       "      <td>-0.101163</td>\n",
       "      <td>-0.050513</td>\n",
       "      <td>0.025809</td>\n",
       "      <td>0.324487</td>\n",
       "      <td>-0.021341</td>\n",
       "      <td>-0.002256</td>\n",
       "      <td>0.035492</td>\n",
       "      <td>...</td>\n",
       "      <td>-0.037916</td>\n",
       "      <td>-0.025914</td>\n",
       "      <td>-0.072570</td>\n",
       "      <td>-0.073160</td>\n",
       "      <td>-0.013525</td>\n",
       "      <td>-0.009780</td>\n",
       "      <td>-0.010935</td>\n",
       "      <td>0.001713</td>\n",
       "      <td>-0.061461</td>\n",
       "      <td>-0.058167</td>\n",
       "    </tr>\n",
       "    <tr>\n",
       "      <td>Monarchy</td>\n",
       "      <td>NaN</td>\n",
       "      <td>-0.047338</td>\n",
       "      <td>-0.001804</td>\n",
       "      <td>-0.356883</td>\n",
       "      <td>-0.099636</td>\n",
       "      <td>0.031216</td>\n",
       "      <td>-0.153192</td>\n",
       "      <td>0.230253</td>\n",
       "      <td>-0.095160</td>\n",
       "      <td>-0.025667</td>\n",
       "      <td>...</td>\n",
       "      <td>-0.062494</td>\n",
       "      <td>-0.042712</td>\n",
       "      <td>-0.119614</td>\n",
       "      <td>-0.120586</td>\n",
       "      <td>-0.022293</td>\n",
       "      <td>-0.016120</td>\n",
       "      <td>-0.018024</td>\n",
       "      <td>0.039276</td>\n",
       "      <td>-0.009313</td>\n",
       "      <td>0.092244</td>\n",
       "    </tr>\n",
       "    <tr>\n",
       "      <td>Oligarchy</td>\n",
       "      <td>NaN</td>\n",
       "      <td>-0.080680</td>\n",
       "      <td>-0.001257</td>\n",
       "      <td>-0.080613</td>\n",
       "      <td>0.034368</td>\n",
       "      <td>0.012765</td>\n",
       "      <td>-0.046824</td>\n",
       "      <td>-0.027446</td>\n",
       "      <td>0.004147</td>\n",
       "      <td>0.017991</td>\n",
       "      <td>...</td>\n",
       "      <td>-0.018752</td>\n",
       "      <td>-0.012816</td>\n",
       "      <td>-0.035892</td>\n",
       "      <td>-0.036183</td>\n",
       "      <td>-0.006689</td>\n",
       "      <td>-0.004837</td>\n",
       "      <td>-0.005408</td>\n",
       "      <td>0.005523</td>\n",
       "      <td>-0.006716</td>\n",
       "      <td>-0.037991</td>\n",
       "    </tr>\n",
       "    <tr>\n",
       "      <td>Party-Military</td>\n",
       "      <td>NaN</td>\n",
       "      <td>-0.049554</td>\n",
       "      <td>0.000687</td>\n",
       "      <td>-0.025013</td>\n",
       "      <td>-0.140867</td>\n",
       "      <td>0.017228</td>\n",
       "      <td>0.224252</td>\n",
       "      <td>-0.028410</td>\n",
       "      <td>-0.007207</td>\n",
       "      <td>0.016402</td>\n",
       "      <td>...</td>\n",
       "      <td>-0.025309</td>\n",
       "      <td>-0.017297</td>\n",
       "      <td>-0.048441</td>\n",
       "      <td>-0.048834</td>\n",
       "      <td>-0.009028</td>\n",
       "      <td>-0.006528</td>\n",
       "      <td>-0.007299</td>\n",
       "      <td>0.003619</td>\n",
       "      <td>-0.033116</td>\n",
       "      <td>-0.024543</td>\n",
       "    </tr>\n",
       "    <tr>\n",
       "      <td>Party-Personal</td>\n",
       "      <td>NaN</td>\n",
       "      <td>-0.049461</td>\n",
       "      <td>-0.000600</td>\n",
       "      <td>-0.025854</td>\n",
       "      <td>-0.001523</td>\n",
       "      <td>0.028636</td>\n",
       "      <td>-0.032867</td>\n",
       "      <td>0.193574</td>\n",
       "      <td>-0.004508</td>\n",
       "      <td>-0.001897</td>\n",
       "      <td>...</td>\n",
       "      <td>1.000000</td>\n",
       "      <td>-0.030418</td>\n",
       "      <td>-0.085185</td>\n",
       "      <td>-0.085877</td>\n",
       "      <td>-0.015877</td>\n",
       "      <td>-0.011480</td>\n",
       "      <td>-0.012836</td>\n",
       "      <td>0.004896</td>\n",
       "      <td>-0.026197</td>\n",
       "      <td>0.156536</td>\n",
       "    </tr>\n",
       "    <tr>\n",
       "      <td>Party-Personal-Military Hybrid</td>\n",
       "      <td>NaN</td>\n",
       "      <td>-0.029538</td>\n",
       "      <td>-0.000052</td>\n",
       "      <td>0.073204</td>\n",
       "      <td>0.001213</td>\n",
       "      <td>0.020706</td>\n",
       "      <td>0.237759</td>\n",
       "      <td>0.105640</td>\n",
       "      <td>0.003629</td>\n",
       "      <td>-0.000321</td>\n",
       "      <td>...</td>\n",
       "      <td>-0.030418</td>\n",
       "      <td>1.000000</td>\n",
       "      <td>-0.058221</td>\n",
       "      <td>-0.058694</td>\n",
       "      <td>-0.010851</td>\n",
       "      <td>-0.007846</td>\n",
       "      <td>-0.008773</td>\n",
       "      <td>-0.002334</td>\n",
       "      <td>0.042207</td>\n",
       "      <td>0.062100</td>\n",
       "    </tr>\n",
       "    <tr>\n",
       "      <td>Personal Dictatorship</td>\n",
       "      <td>NaN</td>\n",
       "      <td>0.019011</td>\n",
       "      <td>0.000520</td>\n",
       "      <td>0.019811</td>\n",
       "      <td>-0.105689</td>\n",
       "      <td>0.057600</td>\n",
       "      <td>0.280827</td>\n",
       "      <td>0.156413</td>\n",
       "      <td>0.005318</td>\n",
       "      <td>0.064950</td>\n",
       "      <td>...</td>\n",
       "      <td>-0.085185</td>\n",
       "      <td>-0.058221</td>\n",
       "      <td>1.000000</td>\n",
       "      <td>-0.164369</td>\n",
       "      <td>-0.030388</td>\n",
       "      <td>-0.021973</td>\n",
       "      <td>-0.024568</td>\n",
       "      <td>0.029901</td>\n",
       "      <td>-0.022137</td>\n",
       "      <td>-0.040301</td>\n",
       "    </tr>\n",
       "    <tr>\n",
       "      <td>Presidential Democracy</td>\n",
       "      <td>NaN</td>\n",
       "      <td>0.145375</td>\n",
       "      <td>-0.000543</td>\n",
       "      <td>0.201417</td>\n",
       "      <td>0.089575</td>\n",
       "      <td>-0.072671</td>\n",
       "      <td>-0.106080</td>\n",
       "      <td>-0.181030</td>\n",
       "      <td>0.027966</td>\n",
       "      <td>-0.006277</td>\n",
       "      <td>...</td>\n",
       "      <td>-0.085877</td>\n",
       "      <td>-0.058694</td>\n",
       "      <td>-0.164369</td>\n",
       "      <td>1.000000</td>\n",
       "      <td>-0.030635</td>\n",
       "      <td>-0.022152</td>\n",
       "      <td>-0.024768</td>\n",
       "      <td>-0.120295</td>\n",
       "      <td>0.157453</td>\n",
       "      <td>-0.081563</td>\n",
       "    </tr>\n",
       "    <tr>\n",
       "      <td>Provisional - Civilian</td>\n",
       "      <td>NaN</td>\n",
       "      <td>0.021188</td>\n",
       "      <td>0.000666</td>\n",
       "      <td>-0.053276</td>\n",
       "      <td>0.008314</td>\n",
       "      <td>-0.010694</td>\n",
       "      <td>-0.006933</td>\n",
       "      <td>-0.036822</td>\n",
       "      <td>0.041729</td>\n",
       "      <td>0.039592</td>\n",
       "      <td>...</td>\n",
       "      <td>-0.015877</td>\n",
       "      <td>-0.010851</td>\n",
       "      <td>-0.030388</td>\n",
       "      <td>-0.030635</td>\n",
       "      <td>1.000000</td>\n",
       "      <td>-0.004095</td>\n",
       "      <td>-0.004579</td>\n",
       "      <td>-0.000046</td>\n",
       "      <td>-0.025814</td>\n",
       "      <td>-0.035097</td>\n",
       "    </tr>\n",
       "    <tr>\n",
       "      <td>Provisional - Military</td>\n",
       "      <td>NaN</td>\n",
       "      <td>-0.005079</td>\n",
       "      <td>0.000992</td>\n",
       "      <td>-0.062396</td>\n",
       "      <td>-0.033498</td>\n",
       "      <td>0.007815</td>\n",
       "      <td>0.051865</td>\n",
       "      <td>-0.041671</td>\n",
       "      <td>0.046642</td>\n",
       "      <td>0.031049</td>\n",
       "      <td>...</td>\n",
       "      <td>-0.011480</td>\n",
       "      <td>-0.007846</td>\n",
       "      <td>-0.021973</td>\n",
       "      <td>-0.022152</td>\n",
       "      <td>-0.004095</td>\n",
       "      <td>1.000000</td>\n",
       "      <td>-0.003311</td>\n",
       "      <td>0.002104</td>\n",
       "      <td>-0.020641</td>\n",
       "      <td>-0.019068</td>\n",
       "    </tr>\n",
       "    <tr>\n",
       "      <td>Warlordism</td>\n",
       "      <td>NaN</td>\n",
       "      <td>-0.006998</td>\n",
       "      <td>0.000124</td>\n",
       "      <td>-0.042362</td>\n",
       "      <td>0.013693</td>\n",
       "      <td>-0.002322</td>\n",
       "      <td>-0.029410</td>\n",
       "      <td>-0.029301</td>\n",
       "      <td>-0.006600</td>\n",
       "      <td>-0.006654</td>\n",
       "      <td>...</td>\n",
       "      <td>-0.012836</td>\n",
       "      <td>-0.008773</td>\n",
       "      <td>-0.024568</td>\n",
       "      <td>-0.024768</td>\n",
       "      <td>-0.004579</td>\n",
       "      <td>-0.003311</td>\n",
       "      <td>1.000000</td>\n",
       "      <td>-0.000683</td>\n",
       "      <td>-0.033267</td>\n",
       "      <td>0.039490</td>\n",
       "    </tr>\n",
       "    <tr>\n",
       "      <td>trade balance</td>\n",
       "      <td>NaN</td>\n",
       "      <td>-0.023581</td>\n",
       "      <td>0.000833</td>\n",
       "      <td>-0.057869</td>\n",
       "      <td>0.013962</td>\n",
       "      <td>-0.002117</td>\n",
       "      <td>0.013814</td>\n",
       "      <td>0.015972</td>\n",
       "      <td>-0.009421</td>\n",
       "      <td>0.002019</td>\n",
       "      <td>...</td>\n",
       "      <td>0.004896</td>\n",
       "      <td>-0.002334</td>\n",
       "      <td>0.029901</td>\n",
       "      <td>-0.120295</td>\n",
       "      <td>-0.000046</td>\n",
       "      <td>0.002104</td>\n",
       "      <td>-0.000683</td>\n",
       "      <td>1.000000</td>\n",
       "      <td>-0.027401</td>\n",
       "      <td>-0.003075</td>\n",
       "    </tr>\n",
       "    <tr>\n",
       "      <td>urban_percent</td>\n",
       "      <td>NaN</td>\n",
       "      <td>0.153147</td>\n",
       "      <td>-0.002463</td>\n",
       "      <td>0.065945</td>\n",
       "      <td>0.133294</td>\n",
       "      <td>-0.018609</td>\n",
       "      <td>-0.014174</td>\n",
       "      <td>0.010849</td>\n",
       "      <td>0.003829</td>\n",
       "      <td>-0.000607</td>\n",
       "      <td>...</td>\n",
       "      <td>-0.026197</td>\n",
       "      <td>0.042207</td>\n",
       "      <td>-0.022137</td>\n",
       "      <td>0.157453</td>\n",
       "      <td>-0.025814</td>\n",
       "      <td>-0.020641</td>\n",
       "      <td>-0.033267</td>\n",
       "      <td>-0.027401</td>\n",
       "      <td>1.000000</td>\n",
       "      <td>0.279060</td>\n",
       "    </tr>\n",
       "    <tr>\n",
       "      <td>mil_percent</td>\n",
       "      <td>NaN</td>\n",
       "      <td>-0.152098</td>\n",
       "      <td>-0.001940</td>\n",
       "      <td>-0.114767</td>\n",
       "      <td>0.062823</td>\n",
       "      <td>0.032366</td>\n",
       "      <td>0.042835</td>\n",
       "      <td>0.137477</td>\n",
       "      <td>-0.018084</td>\n",
       "      <td>-0.021237</td>\n",
       "      <td>...</td>\n",
       "      <td>0.156536</td>\n",
       "      <td>0.062100</td>\n",
       "      <td>-0.040301</td>\n",
       "      <td>-0.081563</td>\n",
       "      <td>-0.035097</td>\n",
       "      <td>-0.019068</td>\n",
       "      <td>0.039490</td>\n",
       "      <td>-0.003075</td>\n",
       "      <td>0.279060</td>\n",
       "      <td>1.000000</td>\n",
       "    </tr>\n",
       "  </tbody>\n",
       "</table>\n",
       "<p>60 rows × 60 columns</p>\n",
       "</div>"
      ],
      "text/plain": [
       "                                const      year     month   elected       age  \\\n",
       "const                             NaN       NaN       NaN       NaN       NaN   \n",
       "year                              NaN  1.000000 -0.003256  0.126118  0.084173   \n",
       "month                             NaN -0.003256  1.000000  0.001711 -0.024235   \n",
       "elected                           NaN  0.126118  0.001711  1.000000  0.185841   \n",
       "age                               NaN  0.084173 -0.024235  0.185841  1.000000   \n",
       "male                              NaN -0.069088 -0.001359 -0.042583 -0.000653   \n",
       "militarycareer                    NaN -0.071756 -0.000729 -0.089351 -0.111265   \n",
       "tenure_months                     NaN  0.079206  0.001078  0.073556  0.313949   \n",
       "anticipation                      NaN  0.024203  0.004843 -0.007224  0.028259   \n",
       "ref_ant                           NaN  0.008786  0.003749 -0.014020 -0.026167   \n",
       "leg_ant                           NaN -0.001462 -0.006340 -0.020561  0.018913   \n",
       "exec_ant                          NaN  0.027784  0.010834  0.013504  0.032583   \n",
       "irreg_lead_ant                    NaN -0.018475 -0.001697 -0.069283 -0.020293   \n",
       "election_now                      NaN  0.012872  0.014271  0.027116  0.012768   \n",
       "election_recent                   NaN  0.021818 -0.000088  0.123684  0.005575   \n",
       "leg_recent                        NaN -0.005154  0.010020  0.089105  0.005986   \n",
       "exec_recent                       NaN  0.030228 -0.008635  0.080702  0.011997   \n",
       "lead_recent                       NaN  0.018218  0.001006  0.123369  0.013066   \n",
       "ref_recent                        NaN  0.009937 -0.005747  0.024469 -0.025780   \n",
       "direct_recent                     NaN  0.026962 -0.002118  0.149591 -0.001068   \n",
       "indirect_recent                   NaN -0.012806  0.008341 -0.068759  0.015871   \n",
       "victory_recent                    NaN -0.011915 -0.001159  0.101048  0.014393   \n",
       "defeat_recent                     NaN  0.049067 -0.000184  0.066437 -0.012737   \n",
       "change_recent                     NaN  0.033919  0.005613  0.069635 -0.015701   \n",
       "nochange_recent                   NaN -0.003228 -0.006909  0.098138  0.019109   \n",
       "delayed                           NaN -0.002235  0.000977 -0.047727 -0.021505   \n",
       "lastelection                      NaN -0.012424 -0.004422 -0.374722 -0.031712   \n",
       "loss                              NaN  0.008320 -0.000136 -0.111818  0.156831   \n",
       "irregular                         NaN  0.129573  0.001953 -0.035394  0.140200   \n",
       "prev_conflict                     NaN  0.022646  0.008599 -0.060842  0.036747   \n",
       "pt_suc                            NaN -0.026830  0.001214 -0.013041 -0.010223   \n",
       "pt_attempt                        NaN -0.033373  0.002038 -0.021962 -0.021019   \n",
       "precip                            NaN -0.124692 -0.000629 -0.021898 -0.010028   \n",
       "imports                           NaN  0.202676 -0.001333  0.055128  0.055403   \n",
       "exports                           NaN  0.223525 -0.001216  0.041541  0.068741   \n",
       "milex                             NaN  0.069861 -0.001888  0.037221  0.072609   \n",
       "milper                            NaN -0.081489 -0.002018 -0.036072  0.181677   \n",
       "irst                              NaN  0.036408 -0.001184 -0.012419  0.127285   \n",
       "pec                               NaN  0.062314 -0.002019  0.025315  0.126848   \n",
       "upop                              NaN  0.077368 -0.001512 -0.029674  0.168716   \n",
       "cinc                              NaN -0.078739 -0.002003  0.001806  0.164499   \n",
       "population                        NaN  0.019392 -0.001417 -0.047004  0.176116   \n",
       "Dominant Party                    NaN -0.093917 -0.000741  0.065409  0.158518   \n",
       "Foreign/Occupied                  NaN  0.045327  0.000328 -0.051799  0.017804   \n",
       "Indirect Military                 NaN -0.039379 -0.001749 -0.018231 -0.040822   \n",
       "Military                          NaN -0.064085 -0.000951 -0.131373 -0.044002   \n",
       "Military-Personal                 NaN -0.049864 -0.000295 -0.101163 -0.050513   \n",
       "Monarchy                          NaN -0.047338 -0.001804 -0.356883 -0.099636   \n",
       "Oligarchy                         NaN -0.080680 -0.001257 -0.080613  0.034368   \n",
       "Party-Military                    NaN -0.049554  0.000687 -0.025013 -0.140867   \n",
       "Party-Personal                    NaN -0.049461 -0.000600 -0.025854 -0.001523   \n",
       "Party-Personal-Military Hybrid    NaN -0.029538 -0.000052  0.073204  0.001213   \n",
       "Personal Dictatorship             NaN  0.019011  0.000520  0.019811 -0.105689   \n",
       "Presidential Democracy            NaN  0.145375 -0.000543  0.201417  0.089575   \n",
       "Provisional - Civilian            NaN  0.021188  0.000666 -0.053276  0.008314   \n",
       "Provisional - Military            NaN -0.005079  0.000992 -0.062396 -0.033498   \n",
       "Warlordism                        NaN -0.006998  0.000124 -0.042362  0.013693   \n",
       "trade balance                     NaN -0.023581  0.000833 -0.057869  0.013962   \n",
       "urban_percent                     NaN  0.153147 -0.002463  0.065945  0.133294   \n",
       "mil_percent                       NaN -0.152098 -0.001940 -0.114767  0.062823   \n",
       "\n",
       "                                    male  militarycareer  tenure_months  \\\n",
       "const                                NaN             NaN            NaN   \n",
       "year                           -0.069088       -0.071756       0.079206   \n",
       "month                          -0.001359       -0.000729       0.001078   \n",
       "elected                        -0.042583       -0.089351       0.073556   \n",
       "age                            -0.000653       -0.111265       0.313949   \n",
       "male                            1.000000        0.075649       0.061107   \n",
       "militarycareer                  0.075649        1.000000       0.095246   \n",
       "tenure_months                   0.061107        0.095246       1.000000   \n",
       "anticipation                   -0.010818        0.007305      -0.013884   \n",
       "ref_ant                         0.007021        0.063465      -0.004200   \n",
       "leg_ant                        -0.030014       -0.069582      -0.050129   \n",
       "exec_ant                        0.008756        0.041768       0.025091   \n",
       "irreg_lead_ant                 -0.004542        0.073082      -0.019248   \n",
       "election_now                   -0.006503       -0.007788      -0.020522   \n",
       "election_recent                -0.004640       -0.025935      -0.084880   \n",
       "leg_recent                     -0.018958       -0.082074      -0.093479   \n",
       "exec_recent                     0.009014        0.021300      -0.025614   \n",
       "lead_recent                    -0.007223       -0.044151      -0.086522   \n",
       "ref_recent                      0.009549        0.056617      -0.013113   \n",
       "direct_recent                  -0.008580       -0.030731      -0.093872   \n",
       "indirect_recent                 0.011200        0.009883       0.017550   \n",
       "victory_recent                  0.010887        0.002417      -0.011796   \n",
       "defeat_recent                  -0.022772       -0.044417      -0.127588   \n",
       "change_recent                  -0.022552       -0.053437      -0.154027   \n",
       "nochange_recent                 0.013385        0.013360       0.017549   \n",
       "delayed                         0.002963        0.062640      -0.021195   \n",
       "lastelection                    0.027077        0.036630       0.282679   \n",
       "loss                            0.062695        0.038026       0.495957   \n",
       "irregular                      -0.010160       -0.244166       0.120122   \n",
       "prev_conflict                  -0.082172        0.083560      -0.032701   \n",
       "pt_suc                          0.002179        0.013900      -0.009670   \n",
       "pt_attempt                     -0.002129        0.029708      -0.016542   \n",
       "precip                          0.016120       -0.016472      -0.024292   \n",
       "imports                        -0.012452       -0.094807      -0.069877   \n",
       "exports                        -0.015068       -0.103518      -0.074130   \n",
       "milex                           0.002737       -0.036454      -0.034288   \n",
       "milper                         -0.020929        0.031702       0.017342   \n",
       "irst                            0.013226       -0.046798      -0.060893   \n",
       "pec                             0.003797       -0.051974      -0.051627   \n",
       "upop                           -0.038943       -0.031495      -0.042995   \n",
       "cinc                           -0.014041       -0.012855      -0.035858   \n",
       "population                     -0.078825       -0.018870      -0.019081   \n",
       "Dominant Party                  0.065232       -0.119540       0.154737   \n",
       "Foreign/Occupied                0.016547       -0.037764      -0.048892   \n",
       "Indirect Military               0.010112        0.004373      -0.040701   \n",
       "Military                        0.026782        0.304012      -0.086888   \n",
       "Military-Personal               0.025809        0.324487      -0.021341   \n",
       "Monarchy                        0.031216       -0.153192       0.230253   \n",
       "Oligarchy                       0.012765       -0.046824      -0.027446   \n",
       "Party-Military                  0.017228        0.224252      -0.028410   \n",
       "Party-Personal                  0.028636       -0.032867       0.193574   \n",
       "Party-Personal-Military Hybrid  0.020706        0.237759       0.105640   \n",
       "Personal Dictatorship           0.057600        0.280827       0.156413   \n",
       "Presidential Democracy         -0.072671       -0.106080      -0.181030   \n",
       "Provisional - Civilian         -0.010694       -0.006933      -0.036822   \n",
       "Provisional - Military          0.007815        0.051865      -0.041671   \n",
       "Warlordism                     -0.002322       -0.029410      -0.029301   \n",
       "trade balance                  -0.002117        0.013814       0.015972   \n",
       "urban_percent                  -0.018609       -0.014174       0.010849   \n",
       "mil_percent                     0.032366        0.042835       0.137477   \n",
       "\n",
       "                                anticipation   ref_ant  ...  Party-Personal  \\\n",
       "const                                    NaN       NaN  ...             NaN   \n",
       "year                                0.024203  0.008786  ...       -0.049461   \n",
       "month                               0.004843  0.003749  ...       -0.000600   \n",
       "elected                            -0.007224 -0.014020  ...       -0.025854   \n",
       "age                                 0.028259 -0.026167  ...       -0.001523   \n",
       "male                               -0.010818  0.007021  ...        0.028636   \n",
       "militarycareer                      0.007305  0.063465  ...       -0.032867   \n",
       "tenure_months                      -0.013884 -0.004200  ...        0.193574   \n",
       "anticipation                        1.000000  0.319575  ...       -0.004508   \n",
       "ref_ant                             0.319575  1.000000  ...       -0.001897   \n",
       "leg_ant                             0.597897 -0.008601  ...       -0.025331   \n",
       "exec_ant                            0.697585  0.006352  ...        0.017461   \n",
       "irreg_lead_ant                      0.402296  0.024348  ...        0.019694   \n",
       "election_now                        0.419921  0.130583  ...       -0.007430   \n",
       "election_recent                    -0.067319 -0.012459  ...       -0.012704   \n",
       "leg_recent                         -0.067868 -0.021116  ...       -0.035604   \n",
       "exec_recent                        -0.050657 -0.006316  ...        0.017266   \n",
       "lead_recent                        -0.086111 -0.019930  ...       -0.013321   \n",
       "ref_recent                          0.038446  0.018727  ...        0.000177   \n",
       "direct_recent                      -0.059634 -0.009581  ...       -0.026040   \n",
       "indirect_recent                    -0.029880 -0.010188  ...        0.034460   \n",
       "victory_recent                     -0.068160 -0.008105  ...        0.013575   \n",
       "defeat_recent                      -0.034515 -0.008114  ...       -0.038888   \n",
       "change_recent                      -0.058587 -0.014754  ...       -0.045134   \n",
       "nochange_recent                    -0.048838 -0.002517  ...        0.022061   \n",
       "delayed                             0.034552  0.010121  ...       -0.001255   \n",
       "lastelection                       -0.082193 -0.036554  ...       -0.007534   \n",
       "loss                               -0.045175 -0.034314  ...        0.091091   \n",
       "irregular                          -0.047037 -0.105975  ...       -0.088490   \n",
       "prev_conflict                      -0.002027  0.013316  ...       -0.024432   \n",
       "pt_suc                              0.009245 -0.003101  ...       -0.001491   \n",
       "pt_attempt                          0.012676 -0.003026  ...       -0.004254   \n",
       "precip                              0.002500  0.010704  ...        0.021852   \n",
       "imports                             0.005113 -0.018358  ...       -0.045211   \n",
       "exports                             0.002336 -0.020290  ...       -0.049998   \n",
       "milex                               0.010165 -0.010416  ...       -0.026904   \n",
       "milper                              0.008567 -0.008524  ...        0.009064   \n",
       "irst                                0.010352 -0.013289  ...       -0.034987   \n",
       "pec                                 0.012783 -0.011148  ...       -0.035277   \n",
       "upop                                0.006703 -0.011334  ...       -0.042059   \n",
       "cinc                                0.009535 -0.015282  ...       -0.035306   \n",
       "population                          0.003778 -0.011597  ...       -0.038505   \n",
       "Dominant Party                      0.001228 -0.027195  ...       -0.095829   \n",
       "Foreign/Occupied                    0.005247 -0.004159  ...       -0.024308   \n",
       "Indirect Military                  -0.002124  0.001019  ...       -0.014855   \n",
       "Military                            0.014771  0.032393  ...       -0.039344   \n",
       "Military-Personal                  -0.002256  0.035492  ...       -0.037916   \n",
       "Monarchy                           -0.095160 -0.025667  ...       -0.062494   \n",
       "Oligarchy                           0.004147  0.017991  ...       -0.018752   \n",
       "Party-Military                     -0.007207  0.016402  ...       -0.025309   \n",
       "Party-Personal                     -0.004508 -0.001897  ...        1.000000   \n",
       "Party-Personal-Military Hybrid      0.003629 -0.000321  ...       -0.030418   \n",
       "Personal Dictatorship               0.005318  0.064950  ...       -0.085185   \n",
       "Presidential Democracy              0.027966 -0.006277  ...       -0.085877   \n",
       "Provisional - Civilian              0.041729  0.039592  ...       -0.015877   \n",
       "Provisional - Military              0.046642  0.031049  ...       -0.011480   \n",
       "Warlordism                         -0.006600 -0.006654  ...       -0.012836   \n",
       "trade balance                      -0.009421  0.002019  ...        0.004896   \n",
       "urban_percent                       0.003829 -0.000607  ...       -0.026197   \n",
       "mil_percent                        -0.018084 -0.021237  ...        0.156536   \n",
       "\n",
       "                                Party-Personal-Military Hybrid  \\\n",
       "const                                                      NaN   \n",
       "year                                                 -0.029538   \n",
       "month                                                -0.000052   \n",
       "elected                                               0.073204   \n",
       "age                                                   0.001213   \n",
       "male                                                  0.020706   \n",
       "militarycareer                                        0.237759   \n",
       "tenure_months                                         0.105640   \n",
       "anticipation                                          0.003629   \n",
       "ref_ant                                              -0.000321   \n",
       "leg_ant                                              -0.029503   \n",
       "exec_ant                                              0.030925   \n",
       "irreg_lead_ant                                       -0.005023   \n",
       "election_now                                         -0.000325   \n",
       "election_recent                                      -0.000886   \n",
       "leg_recent                                           -0.033113   \n",
       "exec_recent                                           0.028105   \n",
       "lead_recent                                          -0.003637   \n",
       "ref_recent                                            0.005578   \n",
       "direct_recent                                        -0.005768   \n",
       "indirect_recent                                       0.016940   \n",
       "victory_recent                                        0.016804   \n",
       "defeat_recent                                        -0.023298   \n",
       "change_recent                                        -0.028569   \n",
       "nochange_recent                                       0.023064   \n",
       "delayed                                              -0.005685   \n",
       "lastelection                                         -0.021523   \n",
       "loss                                                  0.058322   \n",
       "irregular                                            -0.026075   \n",
       "prev_conflict                                         0.003494   \n",
       "pt_suc                                                0.000699   \n",
       "pt_attempt                                           -0.000023   \n",
       "precip                                                0.003788   \n",
       "imports                                              -0.021760   \n",
       "exports                                              -0.025819   \n",
       "milex                                                -0.013808   \n",
       "milper                                                0.025229   \n",
       "irst                                                 -0.027173   \n",
       "pec                                                  -0.016999   \n",
       "upop                                                  0.016883   \n",
       "cinc                                                 -0.005904   \n",
       "population                                            0.022245   \n",
       "Dominant Party                                       -0.065496   \n",
       "Foreign/Occupied                                     -0.016614   \n",
       "Indirect Military                                    -0.010153   \n",
       "Military                                             -0.026890   \n",
       "Military-Personal                                    -0.025914   \n",
       "Monarchy                                             -0.042712   \n",
       "Oligarchy                                            -0.012816   \n",
       "Party-Military                                       -0.017297   \n",
       "Party-Personal                                       -0.030418   \n",
       "Party-Personal-Military Hybrid                        1.000000   \n",
       "Personal Dictatorship                                -0.058221   \n",
       "Presidential Democracy                               -0.058694   \n",
       "Provisional - Civilian                               -0.010851   \n",
       "Provisional - Military                               -0.007846   \n",
       "Warlordism                                           -0.008773   \n",
       "trade balance                                        -0.002334   \n",
       "urban_percent                                         0.042207   \n",
       "mil_percent                                           0.062100   \n",
       "\n",
       "                                Personal Dictatorship  Presidential Democracy  \\\n",
       "const                                             NaN                     NaN   \n",
       "year                                         0.019011                0.145375   \n",
       "month                                        0.000520               -0.000543   \n",
       "elected                                      0.019811                0.201417   \n",
       "age                                         -0.105689                0.089575   \n",
       "male                                         0.057600               -0.072671   \n",
       "militarycareer                               0.280827               -0.106080   \n",
       "tenure_months                                0.156413               -0.181030   \n",
       "anticipation                                 0.005318                0.027966   \n",
       "ref_ant                                      0.064950               -0.006277   \n",
       "leg_ant                                     -0.076673               -0.079029   \n",
       "exec_ant                                     0.044473                0.111287   \n",
       "irreg_lead_ant                               0.037313               -0.023855   \n",
       "election_now                                -0.007662                0.011145   \n",
       "election_recent                             -0.016035                0.039570   \n",
       "leg_recent                                  -0.086879               -0.088533   \n",
       "exec_recent                                  0.032172                0.147456   \n",
       "lead_recent                                 -0.039742                0.042817   \n",
       "ref_recent                                   0.067885                0.002433   \n",
       "direct_recent                               -0.014307                0.043827   \n",
       "indirect_recent                             -0.007900               -0.011595   \n",
       "victory_recent                               0.019489               -0.025830   \n",
       "defeat_recent                               -0.052370                0.098688   \n",
       "change_recent                               -0.068037                0.108053   \n",
       "nochange_recent                              0.036540               -0.039708   \n",
       "delayed                                      0.024172               -0.023143   \n",
       "lastelection                                 0.026302               -0.116093   \n",
       "loss                                         0.033053               -0.241587   \n",
       "irregular                                   -0.238928               -0.021770   \n",
       "prev_conflict                                0.010043               -0.015288   \n",
       "pt_suc                                       0.008249               -0.002693   \n",
       "pt_attempt                                   0.018489               -0.000407   \n",
       "precip                                      -0.040100               -0.023510   \n",
       "imports                                     -0.081486                0.117639   \n",
       "exports                                     -0.082225                0.089840   \n",
       "milex                                       -0.046551                0.136256   \n",
       "milper                                      -0.074115                0.046303   \n",
       "irst                                        -0.071644                0.081098   \n",
       "pec                                         -0.066320                0.138188   \n",
       "upop                                        -0.067129                0.065574   \n",
       "cinc                                        -0.082210                0.106783   \n",
       "population                                  -0.063769                0.015539   \n",
       "Dominant Party                              -0.183417               -0.184908   \n",
       "Foreign/Occupied                            -0.046526               -0.046904   \n",
       "Indirect Military                           -0.028432               -0.028663   \n",
       "Military                                    -0.075304               -0.075915   \n",
       "Military-Personal                           -0.072570               -0.073160   \n",
       "Monarchy                                    -0.119614               -0.120586   \n",
       "Oligarchy                                   -0.035892               -0.036183   \n",
       "Party-Military                              -0.048441               -0.048834   \n",
       "Party-Personal                              -0.085185               -0.085877   \n",
       "Party-Personal-Military Hybrid              -0.058221               -0.058694   \n",
       "Personal Dictatorship                        1.000000               -0.164369   \n",
       "Presidential Democracy                      -0.164369                1.000000   \n",
       "Provisional - Civilian                      -0.030388               -0.030635   \n",
       "Provisional - Military                      -0.021973               -0.022152   \n",
       "Warlordism                                  -0.024568               -0.024768   \n",
       "trade balance                                0.029901               -0.120295   \n",
       "urban_percent                               -0.022137                0.157453   \n",
       "mil_percent                                 -0.040301               -0.081563   \n",
       "\n",
       "                                Provisional - Civilian  \\\n",
       "const                                              NaN   \n",
       "year                                          0.021188   \n",
       "month                                         0.000666   \n",
       "elected                                      -0.053276   \n",
       "age                                           0.008314   \n",
       "male                                         -0.010694   \n",
       "militarycareer                               -0.006933   \n",
       "tenure_months                                -0.036822   \n",
       "anticipation                                  0.041729   \n",
       "ref_ant                                       0.039592   \n",
       "leg_ant                                      -0.003845   \n",
       "exec_ant                                      0.043427   \n",
       "irreg_lead_ant                                0.089466   \n",
       "election_now                                  0.022311   \n",
       "election_recent                               0.022841   \n",
       "leg_recent                                   -0.006882   \n",
       "exec_recent                                   0.024316   \n",
       "lead_recent                                   0.012668   \n",
       "ref_recent                                    0.036606   \n",
       "direct_recent                                 0.021049   \n",
       "indirect_recent                               0.001179   \n",
       "victory_recent                               -0.001678   \n",
       "defeat_recent                                 0.038726   \n",
       "change_recent                                 0.028313   \n",
       "nochange_recent                               0.006553   \n",
       "delayed                                       0.040896   \n",
       "lastelection                                 -0.027618   \n",
       "loss                                         -0.090099   \n",
       "irregular                                    -0.089776   \n",
       "prev_conflict                                 0.004120   \n",
       "pt_suc                                        0.015855   \n",
       "pt_attempt                                    0.024436   \n",
       "precip                                       -0.019269   \n",
       "imports                                      -0.016208   \n",
       "exports                                      -0.018598   \n",
       "milex                                        -0.011361   \n",
       "milper                                       -0.019824   \n",
       "irst                                         -0.015121   \n",
       "pec                                          -0.016618   \n",
       "upop                                         -0.017277   \n",
       "cinc                                         -0.019176   \n",
       "population                                   -0.016133   \n",
       "Dominant Party                               -0.034185   \n",
       "Foreign/Occupied                             -0.008671   \n",
       "Indirect Military                            -0.005299   \n",
       "Military                                     -0.014035   \n",
       "Military-Personal                            -0.013525   \n",
       "Monarchy                                     -0.022293   \n",
       "Oligarchy                                    -0.006689   \n",
       "Party-Military                               -0.009028   \n",
       "Party-Personal                               -0.015877   \n",
       "Party-Personal-Military Hybrid               -0.010851   \n",
       "Personal Dictatorship                        -0.030388   \n",
       "Presidential Democracy                       -0.030635   \n",
       "Provisional - Civilian                        1.000000   \n",
       "Provisional - Military                       -0.004095   \n",
       "Warlordism                                   -0.004579   \n",
       "trade balance                                -0.000046   \n",
       "urban_percent                                -0.025814   \n",
       "mil_percent                                  -0.035097   \n",
       "\n",
       "                                Provisional - Military  Warlordism  \\\n",
       "const                                              NaN         NaN   \n",
       "year                                         -0.005079   -0.006998   \n",
       "month                                         0.000992    0.000124   \n",
       "elected                                      -0.062396   -0.042362   \n",
       "age                                          -0.033498    0.013693   \n",
       "male                                          0.007815   -0.002322   \n",
       "militarycareer                                0.051865   -0.029410   \n",
       "tenure_months                                -0.041671   -0.029301   \n",
       "anticipation                                  0.046642   -0.006600   \n",
       "ref_ant                                       0.031049   -0.006654   \n",
       "leg_ant                                      -0.004938    0.001020   \n",
       "exec_ant                                      0.052439   -0.006947   \n",
       "irreg_lead_ant                                0.108315    0.004292   \n",
       "election_now                                  0.015641   -0.005428   \n",
       "election_recent                               0.018462   -0.009576   \n",
       "leg_recent                                   -0.006919   -0.001134   \n",
       "exec_recent                                   0.016987   -0.013975   \n",
       "lead_recent                                   0.007315   -0.010977   \n",
       "ref_recent                                    0.036382    0.001151   \n",
       "direct_recent                                 0.016835   -0.008079   \n",
       "indirect_recent                               0.008109   -0.005668   \n",
       "victory_recent                                0.013022   -0.003047   \n",
       "defeat_recent                                 0.011790   -0.011793   \n",
       "change_recent                                 0.021085   -0.013148   \n",
       "nochange_recent                               0.005959   -0.001025   \n",
       "delayed                                       0.048681    0.024146   \n",
       "lastelection                                 -0.011480    0.010204   \n",
       "loss                                         -0.041151   -0.025679   \n",
       "irregular                                    -0.067770   -0.045129   \n",
       "prev_conflict                                -0.012888    0.059436   \n",
       "pt_suc                                        0.020326    0.000617   \n",
       "pt_attempt                                    0.020731    0.012944   \n",
       "precip                                        0.017213    0.003572   \n",
       "imports                                      -0.011267   -0.013375   \n",
       "exports                                      -0.012129   -0.015589   \n",
       "milex                                        -0.008070   -0.009316   \n",
       "milper                                       -0.012165   -0.015313   \n",
       "irst                                         -0.012400   -0.013832   \n",
       "pec                                          -0.011803   -0.014960   \n",
       "upop                                         -0.009205   -0.015622   \n",
       "cinc                                         -0.012133   -0.016413   \n",
       "population                                   -0.004955   -0.014002   \n",
       "Dominant Party                               -0.024719   -0.027638   \n",
       "Foreign/Occupied                             -0.006270   -0.007011   \n",
       "Indirect Military                            -0.003832   -0.004284   \n",
       "Military                                     -0.010149   -0.011347   \n",
       "Military-Personal                            -0.009780   -0.010935   \n",
       "Monarchy                                     -0.016120   -0.018024   \n",
       "Oligarchy                                    -0.004837   -0.005408   \n",
       "Party-Military                               -0.006528   -0.007299   \n",
       "Party-Personal                               -0.011480   -0.012836   \n",
       "Party-Personal-Military Hybrid               -0.007846   -0.008773   \n",
       "Personal Dictatorship                        -0.021973   -0.024568   \n",
       "Presidential Democracy                       -0.022152   -0.024768   \n",
       "Provisional - Civilian                       -0.004095   -0.004579   \n",
       "Provisional - Military                        1.000000   -0.003311   \n",
       "Warlordism                                   -0.003311    1.000000   \n",
       "trade balance                                 0.002104   -0.000683   \n",
       "urban_percent                                -0.020641   -0.033267   \n",
       "mil_percent                                  -0.019068    0.039490   \n",
       "\n",
       "                                trade balance  urban_percent  mil_percent  \n",
       "const                                     NaN            NaN          NaN  \n",
       "year                                -0.023581       0.153147    -0.152098  \n",
       "month                                0.000833      -0.002463    -0.001940  \n",
       "elected                             -0.057869       0.065945    -0.114767  \n",
       "age                                  0.013962       0.133294     0.062823  \n",
       "male                                -0.002117      -0.018609     0.032366  \n",
       "militarycareer                       0.013814      -0.014174     0.042835  \n",
       "tenure_months                        0.015972       0.010849     0.137477  \n",
       "anticipation                        -0.009421       0.003829    -0.018084  \n",
       "ref_ant                              0.002019      -0.000607    -0.021237  \n",
       "leg_ant                              0.004088      -0.019971     0.011586  \n",
       "exec_ant                            -0.017162       0.023762    -0.024927  \n",
       "irreg_lead_ant                       0.005863      -0.011729    -0.004919  \n",
       "election_now                        -0.002176       0.006028    -0.008659  \n",
       "election_recent                     -0.004517       0.023433    -0.015923  \n",
       "leg_recent                           0.007936       0.005529     0.015837  \n",
       "exec_recent                         -0.015468       0.027803    -0.027068  \n",
       "lead_recent                         -0.005473       0.024218    -0.008161  \n",
       "ref_recent                           0.002420       0.002595    -0.022913  \n",
       "direct_recent                       -0.007551       0.022191    -0.027494  \n",
       "indirect_recent                      0.008514       0.004518     0.035569  \n",
       "victory_recent                       0.003342       0.010498    -0.000824  \n",
       "defeat_recent                       -0.012129       0.024814    -0.024343  \n",
       "change_recent                       -0.012766       0.020180    -0.033010  \n",
       "nochange_recent                      0.005047       0.012796     0.006948  \n",
       "delayed                              0.000568      -0.004052    -0.008244  \n",
       "lastelection                         0.031782      -0.032115     0.073909  \n",
       "loss                                 0.053057       0.021328     0.148839  \n",
       "irregular                           -0.063471       0.111546     0.047565  \n",
       "prev_conflict                       -0.055940      -0.005277     0.041777  \n",
       "pt_suc                               0.000983      -0.012917    -0.007451  \n",
       "pt_attempt                           0.001424      -0.010938    -0.007311  \n",
       "precip                               0.000979      -0.009148     0.042633  \n",
       "imports                             -0.529447       0.230349    -0.014704  \n",
       "exports                             -0.232686       0.253819    -0.018008  \n",
       "milex                               -0.667077       0.150838     0.041340  \n",
       "milper                              -0.098975       0.117289     0.200011  \n",
       "irst                                -0.002910       0.193156     0.033450  \n",
       "pec                                 -0.343388       0.184578     0.038146  \n",
       "upop                                -0.100905       0.200902    -0.010792  \n",
       "cinc                                -0.183505       0.149181     0.088681  \n",
       "population                          -0.039943       0.047499    -0.031969  \n",
       "Dominant Party                       0.025423      -0.058974     0.064623  \n",
       "Foreign/Occupied                    -0.003262       0.033506     0.077884  \n",
       "Indirect Military                    0.001445       0.015925    -0.003808  \n",
       "Military                             0.007199       0.012461     0.025441  \n",
       "Military-Personal                    0.001713      -0.061461    -0.058167  \n",
       "Monarchy                             0.039276      -0.009313     0.092244  \n",
       "Oligarchy                            0.005523      -0.006716    -0.037991  \n",
       "Party-Military                       0.003619      -0.033116    -0.024543  \n",
       "Party-Personal                       0.004896      -0.026197     0.156536  \n",
       "Party-Personal-Military Hybrid      -0.002334       0.042207     0.062100  \n",
       "Personal Dictatorship                0.029901      -0.022137    -0.040301  \n",
       "Presidential Democracy              -0.120295       0.157453    -0.081563  \n",
       "Provisional - Civilian              -0.000046      -0.025814    -0.035097  \n",
       "Provisional - Military               0.002104      -0.020641    -0.019068  \n",
       "Warlordism                          -0.000683      -0.033267     0.039490  \n",
       "trade balance                        1.000000      -0.027401    -0.003075  \n",
       "urban_percent                       -0.027401       1.000000     0.279060  \n",
       "mil_percent                         -0.003075       0.279060     1.000000  \n",
       "\n",
       "[60 rows x 60 columns]"
      ]
     },
     "execution_count": 196,
     "metadata": {},
     "output_type": "execute_result"
    }
   ],
   "source": [
    "X_const.corr()"
   ]
  },
  {
   "cell_type": "code",
   "execution_count": 214,
   "metadata": {},
   "outputs": [],
   "source": [
    "def variance_inflation_factors(exog_df):\n",
    "    '''\n",
    "    Parameters\n",
    "    ----------\n",
    "    exog_df : dataframe, (nobs, k_vars)\n",
    "        design matrix with all explanatory variables, as for example used in\n",
    "        regression.\n",
    "\n",
    "    Returns\n",
    "    -------\n",
    "    vif : Series\n",
    "        variance inflation factors\n",
    "    '''\n",
    "    exog_df = add_constant(exog_df)\n",
    "    vifs = pd.Series(\n",
    "        [1 / (1. - OLS(exog_df[col].values, \n",
    "                       exog_df.loc[:, exog_df.columns != col].values).fit().rsquared) \n",
    "         for col in exog_df],\n",
    "        index=exog_df.columns,\n",
    "        name='VIF'\n",
    "    )\n",
    "    return vifs.sort_values()"
   ]
  },
  {
   "cell_type": "code",
   "execution_count": 201,
   "metadata": {},
   "outputs": [
    {
     "name": "stderr",
     "output_type": "stream",
     "text": [
      "/Users/taylorbritt/opt/anaconda3/lib/python3.7/site-packages/ipykernel_launcher.py:18: RuntimeWarning: divide by zero encountered in double_scalars\n"
     ]
    }
   ],
   "source": [
    "vifs = variance_inflation_factors(X_train)"
   ]
  },
  {
   "cell_type": "code",
   "execution_count": 217,
   "metadata": {},
   "outputs": [
    {
     "name": "stderr",
     "output_type": "stream",
     "text": [
      "/Users/taylorbritt/opt/anaconda3/lib/python3.7/site-packages/ipykernel_launcher.py:18: RuntimeWarning: divide by zero encountered in double_scalars\n"
     ]
    }
   ],
   "source": [
    "vifs_d = variance_inflation_factors(X_train_d)"
   ]
  },
  {
   "cell_type": "code",
   "execution_count": 239,
   "metadata": {},
   "outputs": [],
   "source": [
    "VIFdrops = ['election_recent', 'imports', 'exports', 'victory_recent', 'upop', 'direct_recent', 'leg_recent', 'pec', 'anticipation', 'cinc', 'lead_recent']"
   ]
  },
  {
   "cell_type": "code",
   "execution_count": 240,
   "metadata": {},
   "outputs": [],
   "source": [
    "df_vif = df.drop(VIFdrops, axis =1)"
   ]
  },
  {
   "cell_type": "code",
   "execution_count": 242,
   "metadata": {},
   "outputs": [],
   "source": [
    "X_const_vif = add_constant(df_vif)\n",
    "X_train_vif, X_test_vif, y_train_vif, y_test_vif = splitter(X_const_vif, target = 'pt_attempt', test_size = .25, random_state = 29)\n"
   ]
  },
  {
   "cell_type": "code",
   "execution_count": 243,
   "metadata": {},
   "outputs": [],
   "source": [
    "sm = SMOTE(random_state=27, ratio=1.0)\n",
    "X_train_sm_vif, y_train_sm_vif = sm.fit_sample(X_train_vif, y_train_vif)"
   ]
  },
  {
   "cell_type": "code",
   "execution_count": 244,
   "metadata": {},
   "outputs": [],
   "source": [
    "logregcv = LogisticRegressionCV(cv=5, random_state=29).fit(X_train_sm_vif, y_train_sm_vif)"
   ]
  },
  {
   "cell_type": "code",
   "execution_count": null,
   "metadata": {},
   "outputs": [],
   "source": []
  },
  {
   "cell_type": "code",
   "execution_count": 247,
   "metadata": {},
   "outputs": [
    {
     "name": "stdout",
     "output_type": "stream",
     "text": [
      "accuracy = 0.31148592559052146\n",
      "recall = 0.918918918918919\n",
      "precision = 0.0055616139585605235\n",
      "f1 score = 0.011056311311040052\n"
     ]
    }
   ],
   "source": [
    "metric_test(logregcv, X_test_vif, y_test_vif)"
   ]
  },
  {
   "cell_type": "code",
   "execution_count": 253,
   "metadata": {},
   "outputs": [
    {
     "data": {
      "text/plain": [
       "47"
      ]
     },
     "execution_count": 253,
     "metadata": {},
     "output_type": "execute_result"
    }
   ],
   "source": [
    "logregcv.coef_[0]"
   ]
  },
  {
   "cell_type": "code",
   "execution_count": 255,
   "metadata": {},
   "outputs": [
    {
     "data": {
      "text/plain": [
       "(158348, 47)"
      ]
     },
     "execution_count": 255,
     "metadata": {},
     "output_type": "execute_result"
    }
   ],
   "source": [
    "X_train_sm_vif.shape"
   ]
  },
  {
   "cell_type": "code",
   "execution_count": 261,
   "metadata": {},
   "outputs": [],
   "source": [
    "predicitons = zip(X_train_vif.columns,logregcv.coef_[0])"
   ]
  },
  {
   "cell_type": "code",
   "execution_count": null,
   "metadata": {},
   "outputs": [],
   "source": [
    "def get_feature_weights(model, X_train):\n",
    "    d_log_vals = {}\n",
    "    for idx, feat in enumerate(model.coef_[0]):\n",
    "        d_log_vals[str(X_train.columns[idx])] = feat  \n",
    "    s_log_vals = (pd.Series(d_log_vals)).sort_values()\n",
    "\n"
   ]
  },
  {
   "cell_type": "code",
   "execution_count": 284,
   "metadata": {},
   "outputs": [
    {
     "data": {
      "text/plain": [
       "irst                             -1.420622e-04\n",
       "tenure_months                    -3.002587e-06\n",
       "trade balance                    -1.896186e-06\n",
       "milper                           -7.083675e-07\n",
       "irregular                        -6.957230e-08\n",
       "milex                            -2.263141e-08\n",
       "elected                          -1.629130e-08\n",
       "Dominant Party                   -1.357426e-08\n",
       "Monarchy                         -3.810551e-09\n",
       "leg_ant                          -1.893530e-09\n",
       "Party-Personal                   -1.846212e-09\n",
       "indirect_recent                  -1.291765e-09\n",
       "nochange_recent                  -1.150821e-09\n",
       "ref_ant                          -1.133268e-09\n",
       "Foreign/Occupied                 -6.272988e-10\n",
       "mil_percent                       9.295249e-12\n",
       "Oligarchy                         8.932235e-11\n",
       "Party-Personal-Military Hybrid    1.276042e-10\n",
       "population                        6.351166e-10\n",
       "election_now                      1.517387e-09\n",
       "urban_percent                     1.703624e-09\n",
       "precip                            2.067465e-09\n",
       "Warlordism                        2.781769e-09\n",
       "Presidential Democracy            3.023234e-09\n",
       "Provisional - Military            3.028570e-09\n",
       "loss                              3.119190e-09\n",
       "ref_recent                        3.148925e-09\n",
       "Party-Military                    3.229483e-09\n",
       "delayed                           3.855038e-09\n",
       "exec_recent                       3.867924e-09\n",
       "change_recent                     4.208786e-09\n",
       "defeat_recent                     4.811223e-09\n",
       "Provisional - Civilian            5.152196e-09\n",
       "Indirect Military                 5.321119e-09\n",
       "Military-Personal                 1.366943e-08\n",
       "irreg_lead_ant                    1.461347e-08\n",
       "Personal Dictatorship             1.539955e-08\n",
       "Military                          1.849159e-08\n",
       "male                              1.866815e-08\n",
       "exec_ant                          1.907437e-08\n",
       "const                             2.017954e-08\n",
       "prev_conflict                     2.604096e-08\n",
       "militarycareer                    4.006551e-08\n",
       "lastelection                      7.184674e-08\n",
       "month                             1.777508e-07\n",
       "age                               5.895598e-07\n",
       "year                              3.857944e-05\n",
       "dtype: float64"
      ]
     },
     "execution_count": 284,
     "metadata": {},
     "output_type": "execute_result"
    }
   ],
   "source": [
    "s_log_vals"
   ]
  },
  {
   "cell_type": "code",
   "execution_count": 279,
   "metadata": {},
   "outputs": [],
   "source": [
    "preds = logregcv.predict(X_test_vif)"
   ]
  },
  {
   "cell_type": "code",
   "execution_count": 281,
   "metadata": {},
   "outputs": [
    {
     "data": {
      "text/plain": [
       "18340.0"
      ]
     },
     "execution_count": 281,
     "metadata": {},
     "output_type": "execute_result"
    }
   ],
   "source": [
    "preds.sum()"
   ]
  },
  {
   "cell_type": "code",
   "execution_count": 282,
   "metadata": {},
   "outputs": [
    {
     "data": {
      "text/plain": [
       "26502"
      ]
     },
     "execution_count": 282,
     "metadata": {},
     "output_type": "execute_result"
    }
   ],
   "source": [
    "len(preds)"
   ]
  },
  {
   "cell_type": "code",
   "execution_count": 285,
   "metadata": {},
   "outputs": [
    {
     "name": "stderr",
     "output_type": "stream",
     "text": [
      "/Users/taylorbritt/opt/anaconda3/lib/python3.7/site-packages/sklearn/linear_model/logistic.py:432: FutureWarning: Default solver will be changed to 'lbfgs' in 0.22. Specify a solver to silence this warning.\n",
      "  FutureWarning)\n"
     ]
    }
   ],
   "source": [
    "smote_log_vif = LogisticRegression().fit(X_train_sm_vif, y_train_sm_vif)"
   ]
  },
  {
   "cell_type": "code",
   "execution_count": 286,
   "metadata": {},
   "outputs": [
    {
     "name": "stdout",
     "output_type": "stream",
     "text": [
      "accuracy = 0.621462531129726\n",
      "recall = 0.5135135135135135\n",
      "precision = 0.005680119581464873\n",
      "f1 score = 0.011235955056179775\n"
     ]
    }
   ],
   "source": [
    "metric_test(smote_log_vif, X_test_vif, y_test_vif)"
   ]
  },
  {
   "cell_type": "code",
   "execution_count": 288,
   "metadata": {},
   "outputs": [],
   "source": [
    "preds_log_sm = smote_log_vif.predict(X_test_vif)"
   ]
  },
  {
   "cell_type": "code",
   "execution_count": 290,
   "metadata": {},
   "outputs": [
    {
     "data": {
      "text/plain": [
       "26502"
      ]
     },
     "execution_count": 290,
     "metadata": {},
     "output_type": "execute_result"
    }
   ],
   "source": [
    "len(preds_log_sm)"
   ]
  },
  {
   "cell_type": "code",
   "execution_count": 291,
   "metadata": {},
   "outputs": [
    {
     "data": {
      "text/plain": [
       "10035.0"
      ]
     },
     "execution_count": 291,
     "metadata": {},
     "output_type": "execute_result"
    }
   ],
   "source": [
    "sum(preds_log_sm)"
   ]
  },
  {
   "cell_type": "code",
   "execution_count": 295,
   "metadata": {},
   "outputs": [],
   "source": [
    "from sklearn.preprocessing import StandardScaler"
   ]
  },
  {
   "cell_type": "code",
   "execution_count": null,
   "metadata": {},
   "outputs": [],
   "source": []
  },
  {
   "cell_type": "code",
   "execution_count": 328,
   "metadata": {},
   "outputs": [],
   "source": [
    "sm2 = SMOTE(sampling_strategy = .8, random_state=27)\n",
    "X_train_sm2, y_train_sm2 = sm2.fit_sample(X_train, y_train)"
   ]
  },
  {
   "cell_type": "code",
   "execution_count": 329,
   "metadata": {},
   "outputs": [
    {
     "data": {
      "text/plain": [
       "(142513, 58)"
      ]
     },
     "execution_count": 329,
     "metadata": {},
     "output_type": "execute_result"
    }
   ],
   "source": [
    "X_train_sm2.shape"
   ]
  },
  {
   "cell_type": "code",
   "execution_count": 330,
   "metadata": {},
   "outputs": [
    {
     "data": {
      "text/plain": [
       "63339.0"
      ]
     },
     "execution_count": 330,
     "metadata": {},
     "output_type": "execute_result"
    }
   ],
   "source": [
    "y_train_sm2.sum()"
   ]
  },
  {
   "cell_type": "code",
   "execution_count": 331,
   "metadata": {},
   "outputs": [
    {
     "data": {
      "text/plain": [
       "332.0"
      ]
     },
     "execution_count": 331,
     "metadata": {},
     "output_type": "execute_result"
    }
   ],
   "source": [
    "y_train.sum()"
   ]
  },
  {
   "cell_type": "code",
   "execution_count": 332,
   "metadata": {},
   "outputs": [],
   "source": [
    "logregcv_sm2 = LogisticRegressionCV(cv=5, random_state=29, fit_intercept = False, max_iter = 500).fit(X_train_sm2, y_train_sm2)"
   ]
  },
  {
   "cell_type": "code",
   "execution_count": 333,
   "metadata": {},
   "outputs": [
    {
     "name": "stdout",
     "output_type": "stream",
     "text": [
      "accuracy = 0.5601086710436948\n",
      "recall = 0.7747747747747747\n",
      "precision = 0.007338510111784282\n",
      "f1 score = 0.014539306846999153\n"
     ]
    }
   ],
   "source": [
    "metric_test(logregcv_sm2, X_test, y_test)"
   ]
  },
  {
   "cell_type": "code",
   "execution_count": 354,
   "metadata": {},
   "outputs": [],
   "source": [
    "smote_ratios57 = np.arange(.5, 1, .05)"
   ]
  },
  {
   "cell_type": "code",
   "execution_count": 355,
   "metadata": {},
   "outputs": [
    {
     "data": {
      "text/plain": [
       "array([0.5 , 0.55, 0.6 , 0.65, 0.7 , 0.75, 0.8 , 0.85, 0.9 , 0.95])"
      ]
     },
     "execution_count": 355,
     "metadata": {},
     "output_type": "execute_result"
    }
   ],
   "source": [
    "smote_ratios57"
   ]
  },
  {
   "cell_type": "code",
   "execution_count": 356,
   "metadata": {},
   "outputs": [
    {
     "name": "stdout",
     "output_type": "stream",
     "text": [
      "===\n",
      "0.5\n",
      "===\n",
      "accuracy = 0.9816994943777828\n",
      "recall = 0.04504504504504504\n",
      "precision = 0.013020833333333334\n",
      "f1 score = 0.020202020202020204\n",
      "accuracy + recall = 1.0267445394228278\n",
      "===\n",
      "0.55\n",
      "===\n",
      "accuracy = 0.9751339521545543\n",
      "recall = 0.08108108108108109\n",
      "precision = 0.015901060070671377\n",
      "f1 score = 0.02658788774002954\n",
      "accuracy + recall = 1.0562150332356355\n",
      "===\n",
      "0.6000000000000001\n",
      "===\n",
      "accuracy = 0.959814353633688\n",
      "recall = 0.09009009009009009\n",
      "precision = 0.01026694045174538\n",
      "f1 score = 0.018433179723502304\n",
      "accuracy + recall = 1.0499044437237781\n",
      "===\n",
      "0.6500000000000001\n",
      "===\n",
      "accuracy = 0.9153648781224059\n",
      "recall = 0.21621621621621623\n",
      "precision = 0.011009174311926606\n",
      "f1 score = 0.020951549541684853\n",
      "accuracy + recall = 1.131581094338622\n",
      "===\n",
      "0.7000000000000002\n",
      "===\n",
      "accuracy = 0.7261338766885518\n",
      "recall = 0.5225225225225225\n",
      "precision = 0.007985680848134379\n",
      "f1 score = 0.015730946569026308\n",
      "accuracy + recall = 1.2486563992110744\n",
      "===\n",
      "0.7500000000000002\n",
      "===\n",
      "accuracy = 0.6390083767262849\n",
      "recall = 0.6936936936936937\n",
      "precision = 0.00801248699271592\n",
      "f1 score = 0.01584199156465384\n",
      "accuracy + recall = 1.3327020704199786\n",
      "===\n",
      "0.8000000000000003\n",
      "===\n",
      "accuracy = 0.5601086710436948\n",
      "recall = 0.7747747747747747\n",
      "precision = 0.007338510111784282\n",
      "f1 score = 0.014539306846999153\n",
      "accuracy + recall = 1.3348834458184695\n",
      "===\n",
      "0.8500000000000003\n",
      "===\n",
      "accuracy = 0.5216964757376802\n",
      "recall = 0.8108108108108109\n",
      "precision = 0.007061592781482934\n",
      "f1 score = 0.014001244555071563\n",
      "accuracy + recall = 1.332507286548491\n",
      "===\n",
      "0.9000000000000004\n",
      "===\n",
      "accuracy = 0.4669836238774432\n",
      "recall = 0.8468468468468469\n",
      "precision = 0.006618320073223966\n",
      "f1 score = 0.013133994690512784\n",
      "accuracy + recall = 1.31383047072429\n",
      "===\n",
      "0.9500000000000004\n",
      "===\n",
      "accuracy = 0.4445324881141046\n",
      "recall = 0.8558558558558559\n",
      "precision = 0.006418918918918919\n",
      "f1 score = 0.012742270806786936\n",
      "accuracy + recall = 1.3003883439699604\n"
     ]
    }
   ],
   "source": [
    "for ratio in smote_ratios57:\n",
    "    sm_ = SMOTE(sampling_strategy = ratio, random_state=27)\n",
    "    X_train_sm_, y_train_sm_ = sm_.fit_sample(X_train, y_train)\n",
    "    logregcv_sm_ = LogisticRegressionCV(cv=5, random_state=29, fit_intercept = False, max_iter = 500).fit(X_train_sm_, y_train_sm_)\n",
    "    print('===')\n",
    "    print(ratio)\n",
    "    print('===')\n",
    "    metric_test(logregcv_sm_, X_test, y_test)\n",
    "    "
   ]
  },
  {
   "cell_type": "code",
   "execution_count": 357,
   "metadata": {},
   "outputs": [],
   "source": [
    "sm7 = SMOTE(random_state=27, ratio=.7)\n",
    "X_train_sm_vif7, y_train_sm_vif7 = sm7.fit_sample(X_train_vif, y_train_vif)"
   ]
  },
  {
   "cell_type": "code",
   "execution_count": null,
   "metadata": {},
   "outputs": [],
   "source": []
  },
  {
   "cell_type": "code",
   "execution_count": 419,
   "metadata": {},
   "outputs": [],
   "source": [
    "sm1 = SMOTE(random_state=27, ratio=1)\n",
    "X_train_sm_vif1, y_train_sm_vif1 = sm1.fit_sample(X_train_vif, y_train_vif)"
   ]
  },
  {
   "cell_type": "code",
   "execution_count": null,
   "metadata": {},
   "outputs": [],
   "source": []
  },
  {
   "cell_type": "code",
   "execution_count": 420,
   "metadata": {},
   "outputs": [
    {
     "name": "stderr",
     "output_type": "stream",
     "text": [
      "/Users/taylorbritt/opt/anaconda3/lib/python3.7/site-packages/sklearn/linear_model/logistic.py:432: FutureWarning: Default solver will be changed to 'lbfgs' in 0.22. Specify a solver to silence this warning.\n",
      "  FutureWarning)\n"
     ]
    }
   ],
   "source": [
    "smote_log_vif1 = LogisticRegression().fit(X_train_sm_vif1, y_train_sm_vif1)"
   ]
  },
  {
   "cell_type": "code",
   "execution_count": 431,
   "metadata": {},
   "outputs": [],
   "source": [
    "def get_feature_weights(log_model):\n",
    "    d_log_vals = {}\n",
    "    for idx, feat in enumerate(log_model.coef_[0]):\n",
    "        d_log_vals[str(X_train_vif.columns[idx])] = feat  \n",
    "    s_log_vals = pd.Series(d_log_vals)\n",
    "    return s_log_vals.sort_values()"
   ]
  },
  {
   "cell_type": "code",
   "execution_count": 422,
   "metadata": {},
   "outputs": [
    {
     "name": "stdout",
     "output_type": "stream",
     "text": [
      "accuracy = 0.621462531129726\n",
      "recall = 0.5135135135135135\n",
      "precision = 0.005680119581464873\n",
      "f1 score = 0.011235955056179775\n",
      "accuracy + recall = 1.1349760446432395\n"
     ]
    }
   ],
   "source": [
    "metric_test(smote_log_vif1, X_test_vif, y_test_vif)"
   ]
  },
  {
   "cell_type": "code",
   "execution_count": 432,
   "metadata": {},
   "outputs": [],
   "source": [
    "s_log_vals = get_feature_weights(smote_log_vif1)"
   ]
  },
  {
   "cell_type": "code",
   "execution_count": 433,
   "metadata": {},
   "outputs": [
    {
     "name": "stdout",
     "output_type": "stream",
     "text": [
      "irst                             -1.799650e-05\n",
      "tenure_months                    -3.739307e-07\n",
      "milex                            -1.056198e-07\n",
      "milper                           -8.975321e-08\n",
      "irregular                        -8.568715e-09\n",
      "elected                          -2.060783e-09\n",
      "Dominant Party                   -1.715749e-09\n",
      "Monarchy                         -4.658491e-10\n",
      "population                       -4.486849e-10\n",
      "leg_ant                          -2.453987e-10\n",
      "Party-Personal                   -2.303301e-10\n",
      "indirect_recent                  -1.656171e-10\n",
      "nochange_recent                  -1.506943e-10\n",
      "ref_ant                          -1.410457e-10\n",
      "Foreign/Occupied                 -8.086754e-11\n",
      "mil_percent                       1.305294e-12\n",
      "Oligarchy                         1.162991e-11\n",
      "Party-Personal-Military Hybrid    1.626390e-11\n",
      "election_now                      1.910895e-10\n",
      "urban_percent                     2.260903e-10\n",
      "precip                            2.688585e-10\n",
      "Warlordism                        3.481813e-10\n",
      "Presidential Democracy            3.829177e-10\n",
      "Provisional - Military            3.845336e-10\n",
      "ref_recent                        3.977586e-10\n",
      "Party-Military                    4.072103e-10\n",
      "delayed                           4.822426e-10\n",
      "exec_recent                       4.825738e-10\n",
      "change_recent                     5.336822e-10\n",
      "defeat_recent                     6.123102e-10\n",
      "loss                              6.385720e-10\n",
      "Provisional - Civilian            6.556582e-10\n",
      "Indirect Military                 6.749058e-10\n",
      "Military-Personal                 1.742433e-09\n",
      "irreg_lead_ant                    1.840934e-09\n",
      "Personal Dictatorship             1.964380e-09\n",
      "Military                          2.350493e-09\n",
      "male                              2.415932e-09\n",
      "exec_ant                          2.416269e-09\n",
      "const                             2.606441e-09\n",
      "prev_conflict                     3.325572e-09\n",
      "militarycareer                    5.104729e-09\n",
      "lastelection                      9.328811e-09\n",
      "trade balance                     1.246859e-08\n",
      "month                             2.278852e-08\n",
      "age                               7.754241e-08\n",
      "year                              4.986807e-06\n",
      "dtype: float64\n"
     ]
    }
   ],
   "source": [
    "print(s_log_vals)"
   ]
  },
  {
   "cell_type": "code",
   "execution_count": 427,
   "metadata": {},
   "outputs": [
    {
     "data": {
      "text/plain": [
       "array([ 2.60644051e-09,  4.98680689e-06,  2.27885173e-08, -2.06078278e-09,\n",
       "        7.75424102e-08,  2.41593185e-09,  5.10472865e-09, -3.73930728e-07,\n",
       "       -1.41045729e-10, -2.45398718e-10,  2.41626907e-09,  1.84093351e-09,\n",
       "        1.91089537e-10,  4.82573831e-10,  3.97758582e-10, -1.65617076e-10,\n",
       "        6.12310217e-10,  5.33682175e-10, -1.50694288e-10,  4.82242637e-10,\n",
       "        9.32881118e-09,  6.38571994e-10, -8.56871495e-09,  3.32557204e-09,\n",
       "        2.68858516e-10, -1.05619850e-07, -8.97532132e-08, -1.79964958e-05,\n",
       "       -4.48684929e-10, -1.71574862e-09, -8.08675361e-11,  6.74905784e-10,\n",
       "        2.35049304e-09,  1.74243332e-09, -4.65849146e-10,  1.16299054e-11,\n",
       "        4.07210263e-10, -2.30330118e-10,  1.62638952e-11,  1.96437985e-09,\n",
       "        3.82917668e-10,  6.55658189e-10,  3.84533609e-10,  3.48181284e-10,\n",
       "        1.24685910e-08,  2.26090348e-10,  1.30529414e-12])"
      ]
     },
     "execution_count": 427,
     "metadata": {},
     "output_type": "execute_result"
    }
   ],
   "source": [
    "smote_log_vif1.coef_[0]"
   ]
  },
  {
   "cell_type": "code",
   "execution_count": 428,
   "metadata": {},
   "outputs": [],
   "source": [
    "d_log_vals = {}\n",
    "for idx, feat in enumerate(smote_log_vif1.coef_[0]):\n",
    "        d_log_vals[str(X_train_vif.columns[idx])] = feat"
   ]
  },
  {
   "cell_type": "code",
   "execution_count": 430,
   "metadata": {},
   "outputs": [],
   "source": [
    "d_log_vals\n",
    "s_log_vals = pd.Series(d_log_vals)"
   ]
  },
  {
   "cell_type": "code",
   "execution_count": 434,
   "metadata": {},
   "outputs": [
    {
     "data": {
      "text/plain": [
       "irst                             -1.799650e-05\n",
       "tenure_months                    -3.739307e-07\n",
       "milex                            -1.056198e-07\n",
       "milper                           -8.975321e-08\n",
       "irregular                        -8.568715e-09\n",
       "elected                          -2.060783e-09\n",
       "Dominant Party                   -1.715749e-09\n",
       "Monarchy                         -4.658491e-10\n",
       "population                       -4.486849e-10\n",
       "leg_ant                          -2.453987e-10\n",
       "Party-Personal                   -2.303301e-10\n",
       "indirect_recent                  -1.656171e-10\n",
       "nochange_recent                  -1.506943e-10\n",
       "ref_ant                          -1.410457e-10\n",
       "Foreign/Occupied                 -8.086754e-11\n",
       "mil_percent                       1.305294e-12\n",
       "Oligarchy                         1.162991e-11\n",
       "Party-Personal-Military Hybrid    1.626390e-11\n",
       "election_now                      1.910895e-10\n",
       "urban_percent                     2.260903e-10\n",
       "precip                            2.688585e-10\n",
       "Warlordism                        3.481813e-10\n",
       "Presidential Democracy            3.829177e-10\n",
       "Provisional - Military            3.845336e-10\n",
       "ref_recent                        3.977586e-10\n",
       "Party-Military                    4.072103e-10\n",
       "delayed                           4.822426e-10\n",
       "exec_recent                       4.825738e-10\n",
       "change_recent                     5.336822e-10\n",
       "defeat_recent                     6.123102e-10\n",
       "loss                              6.385720e-10\n",
       "Provisional - Civilian            6.556582e-10\n",
       "Indirect Military                 6.749058e-10\n",
       "Military-Personal                 1.742433e-09\n",
       "irreg_lead_ant                    1.840934e-09\n",
       "Personal Dictatorship             1.964380e-09\n",
       "Military                          2.350493e-09\n",
       "male                              2.415932e-09\n",
       "exec_ant                          2.416269e-09\n",
       "const                             2.606441e-09\n",
       "prev_conflict                     3.325572e-09\n",
       "militarycareer                    5.104729e-09\n",
       "lastelection                      9.328811e-09\n",
       "trade balance                     1.246859e-08\n",
       "month                             2.278852e-08\n",
       "age                               7.754241e-08\n",
       "year                              4.986807e-06\n",
       "dtype: float64"
      ]
     },
     "execution_count": 434,
     "metadata": {},
     "output_type": "execute_result"
    }
   ],
   "source": [
    "s_log_vals "
   ]
  },
  {
   "cell_type": "code",
   "execution_count": 435,
   "metadata": {},
   "outputs": [],
   "source": [
    "scaler = StandardScaler()"
   ]
  },
  {
   "cell_type": "code",
   "execution_count": 437,
   "metadata": {},
   "outputs": [],
   "source": [
    "df2 = pd.read_pickle('../data/pickles/df_one_hot_num.pkl')\n",
    "_targets = ['pt_attempt', 'pt_suc']\n",
    "y2 = df['pt_attempt']\n",
    "X2 = df.drop(_targets, axis = 1)\n"
   ]
  },
  {
   "cell_type": "code",
   "execution_count": 438,
   "metadata": {},
   "outputs": [],
   "source": [
    "scaler = StandardScaler().fit_transform(X2)"
   ]
  },
  {
   "cell_type": "code",
   "execution_count": 446,
   "metadata": {},
   "outputs": [],
   "source": [
    "X_train_sc, X_test_sc, y_train_sc, y_test_sc = train_test_split(scaler, y2, test_size= .25, random_state= 29, stratify = y2 )"
   ]
  },
  {
   "cell_type": "code",
   "execution_count": 447,
   "metadata": {},
   "outputs": [
    {
     "data": {
      "text/plain": [
       "array([[ 4.43140165e-01,  1.41299483e-01, -1.36084557e+00, ...,\n",
       "         2.01557612e-02, -8.71140011e-01, -4.37737768e-01],\n",
       "       [ 9.32869220e-01,  1.01019417e+00,  7.34837236e-01, ...,\n",
       "        -4.46212490e-02,  9.18111818e-01, -4.05537527e-01],\n",
       "       [ 9.32869220e-01, -4.37963644e-01,  7.34837236e-01, ...,\n",
       "         2.57808600e+00,  6.19758852e-01, -2.36080069e-01],\n",
       "       ...,\n",
       "       [-8.42398605e-01, -1.01722677e+00,  7.34837236e-01, ...,\n",
       "         2.43308426e-02, -1.30064059e-01, -4.95581068e-01],\n",
       "       [ 9.94085352e-01, -1.30685833e+00,  7.34837236e-01, ...,\n",
       "        -8.37640260e-02,  2.81770754e+00, -3.18178243e-01],\n",
       "       [ 1.37059505e-01,  1.01019417e+00,  7.34837236e-01, ...,\n",
       "         1.84216479e-03, -5.94412665e-01, -5.19803977e-01]])"
      ]
     },
     "execution_count": 447,
     "metadata": {},
     "output_type": "execute_result"
    }
   ],
   "source": [
    "X_train_sc"
   ]
  },
  {
   "cell_type": "code",
   "execution_count": 450,
   "metadata": {},
   "outputs": [
    {
     "ename": "SyntaxError",
     "evalue": "invalid syntax (<ipython-input-450-dc0eddc5c117>, line 1)",
     "output_type": "error",
     "traceback": [
      "\u001b[0;36m  File \u001b[0;32m\"<ipython-input-450-dc0eddc5c117>\"\u001b[0;36m, line \u001b[0;32m1\u001b[0m\n\u001b[0;31m    lasso = LogisticRegressionCV((*, Cs=10, fit_intercept=True, cv=10, dual=False, penalty='l2', scoring='recall', solver='liblinear', tol=0.0001, max_iter=100, class_weight=None, n_jobs=None, verbose=0, refit=True, intercept_scaling=1.0, multi_class='auto', random_state = 29, l1_ratios=None)\u001b[0m\n\u001b[0m                                   ^\u001b[0m\n\u001b[0;31mSyntaxError\u001b[0m\u001b[0;31m:\u001b[0m invalid syntax\n"
     ]
    }
   ],
   "source": []
  },
  {
   "cell_type": "code",
   "execution_count": 458,
   "metadata": {},
   "outputs": [],
   "source": [
    "lasso = LogisticRegressionCV(\n",
    "     cv=10, dual=False,\n",
    "     penalty='l2', \n",
    "     scoring='recall',\n",
    "     solver='liblinear', \n",
    "     tol=0.0001, max_iter=100).fit(X_train_sc, y_train_sc)"
   ]
  },
  {
   "cell_type": "code",
   "execution_count": 459,
   "metadata": {},
   "outputs": [],
   "source": [
    "def get_feature_weights_scaled(log_model):\n",
    "    d_log_vals = {}\n",
    "    for idx, feat in enumerate(log_model.coef_[0]):\n",
    "        d_log_vals[str(X_train.columns[idx])] = feat  \n",
    "    s_log_vals = pd.Series(d_log_vals)\n",
    "    return s_log_vals.sort_values()"
   ]
  },
  {
   "cell_type": "code",
   "execution_count": 530,
   "metadata": {},
   "outputs": [],
   "source": [
    "def get_feature_weights_vif(log_model):\n",
    "    d_log_vals = {}\n",
    "    for idx, feat in enumerate(log_model.coef_[0]):\n",
    "        d_log_vals[str(X_vif[idx])] = feat  \n",
    "    s_log_vals = pd.Series(d_log_vals)\n",
    "    return s_log_vals.sort_values()"
   ]
  },
  {
   "cell_type": "code",
   "execution_count": 467,
   "metadata": {},
   "outputs": [],
   "source": [
    "X_test_noc = X_test.drop('const', axis = 1)"
   ]
  },
  {
   "cell_type": "code",
   "execution_count": 468,
   "metadata": {},
   "outputs": [
    {
     "data": {
      "text/plain": [
       "array([0., 0., 0., ..., 0., 0., 0.])"
      ]
     },
     "execution_count": 468,
     "metadata": {},
     "output_type": "execute_result"
    }
   ],
   "source": [
    "lasso.predict(X_test_noc)"
   ]
  },
  {
   "cell_type": "code",
   "execution_count": 473,
   "metadata": {},
   "outputs": [
    {
     "data": {
      "text/plain": [
       "0.0"
      ]
     },
     "execution_count": 473,
     "metadata": {},
     "output_type": "execute_result"
    }
   ],
   "source": [
    "sum(lasso.predict(X_test_sc))"
   ]
  },
  {
   "cell_type": "code",
   "execution_count": 474,
   "metadata": {},
   "outputs": [
    {
     "data": {
      "text/plain": [
       "loss                             -0.008149\n",
       "const                            -0.008132\n",
       "anticipation                     -0.003528\n",
       "month                            -0.002462\n",
       "prev_conflict                    -0.002237\n",
       "elected                          -0.002185\n",
       "lastelection                     -0.002104\n",
       "Dominant Party                   -0.001586\n",
       "population                       -0.001435\n",
       "ref_ant                          -0.001297\n",
       "milper                           -0.001093\n",
       "Military-Personal                -0.001066\n",
       "indirect_recent                  -0.001065\n",
       "direct_recent                    -0.000902\n",
       "Monarchy                         -0.000674\n",
       "milex                            -0.000629\n",
       "militarycareer                   -0.000601\n",
       "Warlordism                       -0.000563\n",
       "imports                          -0.000532\n",
       "exec_recent                      -0.000506\n",
       "leg_recent                       -0.000454\n",
       "pec                              -0.000383\n",
       "cinc                             -0.000363\n",
       "Oligarchy                        -0.000346\n",
       "defeat_recent                    -0.000321\n",
       "precip                           -0.000280\n",
       "election_recent                  -0.000243\n",
       "election_now                     -0.000243\n",
       "exports                          -0.000189\n",
       "irst                             -0.000139\n",
       "ref_recent                        0.000108\n",
       "irreg_lead_ant                    0.000281\n",
       "Party-Military                    0.000326\n",
       "upop                              0.000337\n",
       "trade balance                     0.000361\n",
       "change_recent                     0.000386\n",
       "age                               0.000448\n",
       "Personal Dictatorship             0.000636\n",
       "tenure_months                     0.000760\n",
       "victory_recent                    0.000854\n",
       "year                              0.001100\n",
       "delayed                           0.001123\n",
       "Party-Personal                    0.001249\n",
       "irregular                         0.001405\n",
       "nochange_recent                   0.001680\n",
       "urban_percent                     0.001721\n",
       "lead_recent                       0.002342\n",
       "Provisional - Civilian            0.002356\n",
       "Provisional - Military            0.002712\n",
       "leg_ant                           0.003430\n",
       "male                              0.003514\n",
       "Party-Personal-Military Hybrid    0.003759\n",
       "Presidential Democracy            0.004157\n",
       "Foreign/Occupied                  0.004264\n",
       "exec_ant                          0.004697\n",
       "Military                          0.006045\n",
       "Indirect Military                 0.006296\n",
       "dtype: float64"
      ]
     },
     "execution_count": 474,
     "metadata": {},
     "output_type": "execute_result"
    }
   ],
   "source": [
    "get_feature_weights_scaled(lasso)"
   ]
  },
  {
   "cell_type": "code",
   "execution_count": 482,
   "metadata": {},
   "outputs": [],
   "source": [
    "sm_scaled = SMOTE(random_state=29, ratio=1.0)\n",
    "X_train_sm_scaled, y_train_sm_scaled = sm_scaled.fit_sample(X_train_sc, y_train_sc)"
   ]
  },
  {
   "cell_type": "code",
   "execution_count": 483,
   "metadata": {},
   "outputs": [
    {
     "data": {
      "text/plain": [
       "(158348, 57)"
      ]
     },
     "execution_count": 483,
     "metadata": {},
     "output_type": "execute_result"
    }
   ],
   "source": [
    "X_train_sm_scaled.shape"
   ]
  },
  {
   "cell_type": "code",
   "execution_count": 491,
   "metadata": {},
   "outputs": [
    {
     "name": "stderr",
     "output_type": "stream",
     "text": [
      "/Users/taylorbritt/opt/anaconda3/lib/python3.7/site-packages/sklearn/linear_model/sag.py:337: ConvergenceWarning: The max_iter was reached which means the coef_ did not converge\n",
      "  \"the coef_ did not converge\", ConvergenceWarning)\n",
      "/Users/taylorbritt/opt/anaconda3/lib/python3.7/site-packages/sklearn/linear_model/sag.py:337: ConvergenceWarning: The max_iter was reached which means the coef_ did not converge\n",
      "  \"the coef_ did not converge\", ConvergenceWarning)\n",
      "/Users/taylorbritt/opt/anaconda3/lib/python3.7/site-packages/sklearn/linear_model/sag.py:337: ConvergenceWarning: The max_iter was reached which means the coef_ did not converge\n",
      "  \"the coef_ did not converge\", ConvergenceWarning)\n",
      "/Users/taylorbritt/opt/anaconda3/lib/python3.7/site-packages/sklearn/linear_model/sag.py:337: ConvergenceWarning: The max_iter was reached which means the coef_ did not converge\n",
      "  \"the coef_ did not converge\", ConvergenceWarning)\n",
      "/Users/taylorbritt/opt/anaconda3/lib/python3.7/site-packages/sklearn/linear_model/sag.py:337: ConvergenceWarning: The max_iter was reached which means the coef_ did not converge\n",
      "  \"the coef_ did not converge\", ConvergenceWarning)\n",
      "/Users/taylorbritt/opt/anaconda3/lib/python3.7/site-packages/sklearn/linear_model/sag.py:337: ConvergenceWarning: The max_iter was reached which means the coef_ did not converge\n",
      "  \"the coef_ did not converge\", ConvergenceWarning)\n"
     ]
    }
   ],
   "source": [
    "elastic_scaled = LogisticRegressionCV(\n",
    "     cv=5, dual=False,\n",
    "     penalty='elasticnet', \n",
    "     scoring='recall',\n",
    "     solver='saga', \n",
    "    n_jobs = 2,\n",
    "     tol=0.0001,\n",
    "    max_iter=100,\n",
    "    l1_ratios = [.5]).fit(X_train_sm_scaled, y_train_sm_scaled)"
   ]
  },
  {
   "cell_type": "code",
   "execution_count": 493,
   "metadata": {},
   "outputs": [
    {
     "data": {
      "text/plain": [
       "imports                          -6.083747\n",
       "precip                           -4.659636\n",
       "milper                           -2.952584\n",
       "upop                             -2.226070\n",
       "election_now                     -1.997075\n",
       "ref_ant                          -1.042347\n",
       "leg_ant                          -0.914033\n",
       "direct_recent                    -0.862789\n",
       "exec_recent                      -0.831479\n",
       "loss                             -0.808739\n",
       "Warlordism                       -0.743008\n",
       "anticipation                     -0.726449\n",
       "lead_recent                      -0.580045\n",
       "const                            -0.532434\n",
       "milex                            -0.511834\n",
       "election_recent                  -0.439320\n",
       "leg_recent                       -0.374777\n",
       "militarycareer                   -0.138766\n",
       "population                       -0.112918\n",
       "lastelection                     -0.086734\n",
       "Military-Personal                -0.070238\n",
       "Dominant Party                   -0.059398\n",
       "age                              -0.058332\n",
       "prev_conflict                    -0.055668\n",
       "urban_percent                    -0.028909\n",
       "Monarchy                         -0.017428\n",
       "irreg_lead_ant                   -0.014483\n",
       "month                             0.022634\n",
       "male                              0.023520\n",
       "exec_ant                          0.025212\n",
       "Party-Military                    0.032740\n",
       "nochange_recent                   0.050083\n",
       "Provisional - Civilian            0.051346\n",
       "elected                           0.056949\n",
       "year                              0.069932\n",
       "Party-Personal                    0.076197\n",
       "Provisional - Military            0.087734\n",
       "Foreign/Occupied                  0.095278\n",
       "irregular                         0.103103\n",
       "indirect_recent                   0.107122\n",
       "Oligarchy                         0.127341\n",
       "Presidential Democracy            0.134844\n",
       "trade balance                     0.137390\n",
       "Military                          0.228342\n",
       "Indirect Military                 0.244700\n",
       "Party-Personal-Military Hybrid    0.247004\n",
       "Personal Dictatorship             0.253367\n",
       "cinc                              0.268749\n",
       "victory_recent                    0.282623\n",
       "exports                           0.535903\n",
       "delayed                           0.753130\n",
       "pec                               0.980043\n",
       "defeat_recent                     1.008264\n",
       "change_recent                     1.217421\n",
       "tenure_months                     1.472550\n",
       "ref_recent                        1.758854\n",
       "irst                              3.208017\n",
       "dtype: float64"
      ]
     },
     "execution_count": 493,
     "metadata": {},
     "output_type": "execute_result"
    }
   ],
   "source": [
    "get_feature_weights_scaled(elastic_scaled)"
   ]
  },
  {
   "cell_type": "code",
   "execution_count": 497,
   "metadata": {},
   "outputs": [
    {
     "name": "stdout",
     "output_type": "stream",
     "text": [
      "accuracy = 0.715870500339597\n",
      "recall = 0.7387387387387387\n",
      "precision = 0.010813662138995121\n",
      "f1 score = 0.021315310631661033\n",
      "accuracy + recall = 1.4546092390783358\n"
     ]
    }
   ],
   "source": [
    "metric_test(elastic_scaled, X_test_sc, y_test_sc)"
   ]
  },
  {
   "cell_type": "code",
   "execution_count": 509,
   "metadata": {},
   "outputs": [
    {
     "name": "stderr",
     "output_type": "stream",
     "text": [
      "/Users/taylorbritt/opt/anaconda3/lib/python3.7/site-packages/sklearn/linear_model/sag.py:337: ConvergenceWarning: The max_iter was reached which means the coef_ did not converge\n",
      "  \"the coef_ did not converge\", ConvergenceWarning)\n",
      "/Users/taylorbritt/opt/anaconda3/lib/python3.7/site-packages/sklearn/linear_model/sag.py:337: ConvergenceWarning: The max_iter was reached which means the coef_ did not converge\n",
      "  \"the coef_ did not converge\", ConvergenceWarning)\n",
      "/Users/taylorbritt/opt/anaconda3/lib/python3.7/site-packages/sklearn/linear_model/sag.py:337: ConvergenceWarning: The max_iter was reached which means the coef_ did not converge\n",
      "  \"the coef_ did not converge\", ConvergenceWarning)\n"
     ]
    },
    {
     "name": "stdout",
     "output_type": "stream",
     "text": [
      "accuracy = 0.715870500339597\n",
      "recall = 0.7387387387387387\n",
      "precision = 0.010813662138995121\n",
      "f1 score = 0.021315310631661033\n",
      "accuracy + recall = 1.4546092390783358\n"
     ]
    },
    {
     "name": "stderr",
     "output_type": "stream",
     "text": [
      "/Users/taylorbritt/opt/anaconda3/lib/python3.7/site-packages/sklearn/linear_model/sag.py:337: ConvergenceWarning: The max_iter was reached which means the coef_ did not converge\n",
      "  \"the coef_ did not converge\", ConvergenceWarning)\n"
     ]
    }
   ],
   "source": [
    "lasso_scaled = LogisticRegressionCV(\n",
    "     cv=5, dual=False,\n",
    "     penalty='elasticnet', \n",
    "     scoring='recall',\n",
    "     solver='saga', \n",
    "    n_jobs = 2,\n",
    "     tol=0.0001,\n",
    "    max_iter=100,\n",
    "    l1_ratios = [1])\n",
    "\n",
    "lasso_scaled.fit(X_train_sm_scaled, y_train_sm_scaled)\n",
    "\n",
    "metric_test(lasso_scaled, X_test_sc, y_test_sc)\n",
    "\n"
   ]
  },
  {
   "cell_type": "code",
   "execution_count": 510,
   "metadata": {},
   "outputs": [
    {
     "data": {
      "text/plain": [
       "imports                          -7.178799\n",
       "precip                           -3.402279\n",
       "milper                           -2.950719\n",
       "upop                             -2.226838\n",
       "election_now                     -1.996859\n",
       "exec_recent                      -1.051446\n",
       "ref_ant                          -1.038200\n",
       "leg_ant                          -0.909263\n",
       "direct_recent                    -0.858653\n",
       "loss                             -0.808739\n",
       "anticipation                     -0.724176\n",
       "lead_recent                      -0.580044\n",
       "const                            -0.532443\n",
       "milex                            -0.511461\n",
       "Warlordism                       -0.332394\n",
       "election_recent                  -0.279521\n",
       "leg_recent                       -0.214957\n",
       "militarycareer                   -0.138777\n",
       "population                       -0.112909\n",
       "lastelection                     -0.086740\n",
       "Military-Personal                -0.070229\n",
       "Dominant Party                   -0.059394\n",
       "age                              -0.058336\n",
       "prev_conflict                    -0.055670\n",
       "urban_percent                    -0.028926\n",
       "Monarchy                         -0.017431\n",
       "irreg_lead_ant                   -0.014472\n",
       "month                             0.022637\n",
       "male                              0.023515\n",
       "exec_ant                          0.025211\n",
       "Party-Military                    0.032744\n",
       "nochange_recent                   0.050084\n",
       "Provisional - Civilian            0.051342\n",
       "elected                           0.056949\n",
       "year                              0.069933\n",
       "Party-Personal                    0.076214\n",
       "Provisional - Military            0.087736\n",
       "Foreign/Occupied                  0.095285\n",
       "irregular                         0.103110\n",
       "indirect_recent                   0.104186\n",
       "Oligarchy                         0.127344\n",
       "Presidential Democracy            0.134845\n",
       "trade balance                     0.137405\n",
       "Military                          0.228347\n",
       "Indirect Military                 0.244703\n",
       "Party-Personal-Military Hybrid    0.247018\n",
       "Personal Dictatorship             0.253369\n",
       "cinc                              0.268967\n",
       "victory_recent                    0.280540\n",
       "exports                           0.532959\n",
       "delayed                           0.753141\n",
       "pec                               0.979728\n",
       "defeat_recent                     1.010435\n",
       "change_recent                     1.220030\n",
       "tenure_months                     1.466080\n",
       "ref_recent                        1.758841\n",
       "irst                              3.207955\n",
       "dtype: float64"
      ]
     },
     "execution_count": 510,
     "metadata": {},
     "output_type": "execute_result"
    }
   ],
   "source": [
    "get_feature_weights_scaled(lasso_scaled)"
   ]
  },
  {
   "cell_type": "code",
   "execution_count": 505,
   "metadata": {},
   "outputs": [
    {
     "name": "stderr",
     "output_type": "stream",
     "text": [
      "/Users/taylorbritt/opt/anaconda3/lib/python3.7/site-packages/sklearn/linear_model/sag.py:337: ConvergenceWarning: The max_iter was reached which means the coef_ did not converge\n",
      "  \"the coef_ did not converge\", ConvergenceWarning)\n",
      "/Users/taylorbritt/opt/anaconda3/lib/python3.7/site-packages/sklearn/linear_model/sag.py:337: ConvergenceWarning: The max_iter was reached which means the coef_ did not converge\n",
      "  \"the coef_ did not converge\", ConvergenceWarning)\n",
      "/Users/taylorbritt/opt/anaconda3/lib/python3.7/site-packages/sklearn/linear_model/sag.py:337: ConvergenceWarning: The max_iter was reached which means the coef_ did not converge\n",
      "  \"the coef_ did not converge\", ConvergenceWarning)\n",
      "/Users/taylorbritt/opt/anaconda3/lib/python3.7/site-packages/sklearn/linear_model/sag.py:337: ConvergenceWarning: The max_iter was reached which means the coef_ did not converge\n",
      "  \"the coef_ did not converge\", ConvergenceWarning)\n",
      "/Users/taylorbritt/opt/anaconda3/lib/python3.7/site-packages/sklearn/linear_model/sag.py:337: ConvergenceWarning: The max_iter was reached which means the coef_ did not converge\n",
      "  \"the coef_ did not converge\", ConvergenceWarning)\n"
     ]
    },
    {
     "name": "stdout",
     "output_type": "stream",
     "text": [
      "accuracy = 0.715870500339597\n",
      "recall = 0.7387387387387387\n",
      "precision = 0.010813662138995121\n",
      "f1 score = 0.021315310631661033\n",
      "accuracy + recall = 1.4546092390783358\n"
     ]
    },
    {
     "name": "stderr",
     "output_type": "stream",
     "text": [
      "/Users/taylorbritt/opt/anaconda3/lib/python3.7/site-packages/sklearn/linear_model/sag.py:337: ConvergenceWarning: The max_iter was reached which means the coef_ did not converge\n",
      "  \"the coef_ did not converge\", ConvergenceWarning)\n"
     ]
    },
    {
     "data": {
      "text/plain": [
       "imports                          -7.179790\n",
       "precip                           -3.402549\n",
       "milper                           -2.950751\n",
       "upop                             -2.226685\n",
       "election_now                     -1.997033\n",
       "exec_recent                      -1.051551\n",
       "ref_ant                          -1.038053\n",
       "leg_ant                          -0.909095\n",
       "direct_recent                    -0.860256\n",
       "loss                             -0.808739\n",
       "anticipation                     -0.724096\n",
       "lead_recent                      -0.580090\n",
       "const                            -0.532432\n",
       "milex                            -0.511561\n",
       "Warlordism                       -0.332248\n",
       "election_recent                  -0.279533\n",
       "leg_recent                       -0.214971\n",
       "militarycareer                   -0.138778\n",
       "population                       -0.112910\n",
       "lastelection                     -0.086739\n",
       "Military-Personal                -0.070229\n",
       "Dominant Party                   -0.059395\n",
       "age                              -0.058338\n",
       "prev_conflict                    -0.055671\n",
       "urban_percent                    -0.028919\n",
       "Monarchy                         -0.017430\n",
       "irreg_lead_ant                   -0.014474\n",
       "month                             0.022638\n",
       "male                              0.023517\n",
       "exec_ant                          0.025210\n",
       "Party-Military                    0.032743\n",
       "nochange_recent                   0.050083\n",
       "Provisional - Civilian            0.051345\n",
       "elected                           0.056953\n",
       "year                              0.069932\n",
       "Party-Personal                    0.076211\n",
       "Provisional - Military            0.087736\n",
       "Foreign/Occupied                  0.095283\n",
       "irregular                         0.103111\n",
       "indirect_recent                   0.104514\n",
       "Oligarchy                         0.127345\n",
       "Presidential Democracy            0.134844\n",
       "trade balance                     0.137410\n",
       "Military                          0.228347\n",
       "Indirect Military                 0.244702\n",
       "Party-Personal-Military Hybrid    0.247014\n",
       "Personal Dictatorship             0.253372\n",
       "cinc                              0.268917\n",
       "victory_recent                    0.280772\n",
       "exports                           0.533626\n",
       "delayed                           0.753143\n",
       "pec                               0.979898\n",
       "defeat_recent                     1.010269\n",
       "change_recent                     1.219832\n",
       "tenure_months                     1.465852\n",
       "ref_recent                        1.759000\n",
       "irst                              3.207715\n",
       "dtype: float64"
      ]
     },
     "execution_count": 505,
     "metadata": {},
     "output_type": "execute_result"
    }
   ],
   "source": [
    "ridge_scaled = LogisticRegressionCV(\n",
    "     cv=5, dual=False,\n",
    "     penalty='l1', \n",
    "     scoring='recall',\n",
    "     solver='saga', \n",
    "    n_jobs = 2,\n",
    "     tol=0.0001,\n",
    "    max_iter=100,)\n",
    "\n",
    "ridge_scaled.fit(X_train_sm_scaled, y_train_sm_scaled)\n",
    "\n",
    "metric_test(ridge_scaled, X_test_sc, y_test_sc)\n",
    "get_feature_weights_scaled(ridge_scaled)\n"
   ]
  },
  {
   "cell_type": "code",
   "execution_count": 506,
   "metadata": {},
   "outputs": [
    {
     "data": {
      "text/plain": [
       "<bound method BaseEstimator.get_params of LogisticRegressionCV(Cs=10, class_weight=None, cv=5, dual=False,\n",
       "                     fit_intercept=True, intercept_scaling=1.0, l1_ratios=None,\n",
       "                     max_iter=100, multi_class='warn', n_jobs=2, penalty='l1',\n",
       "                     random_state=None, refit=True, scoring='recall',\n",
       "                     solver='saga', tol=0.0001, verbose=0)>"
      ]
     },
     "execution_count": 506,
     "metadata": {},
     "output_type": "execute_result"
    }
   ],
   "source": [
    "ridge_scaled.get_params"
   ]
  },
  {
   "cell_type": "code",
   "execution_count": 507,
   "metadata": {},
   "outputs": [
    {
     "data": {
      "text/plain": [
       "<bound method BaseEstimator.get_params of LogisticRegressionCV(Cs=10, class_weight=None, cv=5, dual=False,\n",
       "                     fit_intercept=True, intercept_scaling=1.0, l1_ratios=[1],\n",
       "                     max_iter=100, multi_class='warn', n_jobs=2,\n",
       "                     penalty='elasticnet', random_state=None, refit=True,\n",
       "                     scoring='recall', solver='saga', tol=0.0001, verbose=0)>"
      ]
     },
     "execution_count": 507,
     "metadata": {},
     "output_type": "execute_result"
    }
   ],
   "source": [
    "lasso_scaled.get_params"
   ]
  },
  {
   "cell_type": "code",
   "execution_count": 508,
   "metadata": {},
   "outputs": [],
   "source": [
    "df_vif = df.drop(VIFdrops, axis =1 )"
   ]
  },
  {
   "cell_type": "code",
   "execution_count": 512,
   "metadata": {},
   "outputs": [],
   "source": [
    "X_vif = df_vif.drop('pt_attempt', axis = 1)"
   ]
  },
  {
   "cell_type": "code",
   "execution_count": 553,
   "metadata": {},
   "outputs": [],
   "source": [
    "X_vif = df_vif.drop(['pt_suc', 'pt_attempt'], axis = 1)"
   ]
  },
  {
   "cell_type": "code",
   "execution_count": 554,
   "metadata": {},
   "outputs": [
    {
     "data": {
      "text/plain": [
       "Index(['year', 'month', 'elected', 'age', 'male', 'militarycareer',\n",
       "       'tenure_months', 'ref_ant', 'leg_ant', 'exec_ant', 'irreg_lead_ant',\n",
       "       'election_now', 'exec_recent', 'ref_recent', 'indirect_recent',\n",
       "       'defeat_recent', 'change_recent', 'nochange_recent', 'delayed',\n",
       "       'lastelection', 'loss', 'irregular', 'prev_conflict', 'precip', 'milex',\n",
       "       'milper', 'irst', 'population', 'Dominant Party', 'Foreign/Occupied',\n",
       "       'Indirect Military', 'Military', 'Military-Personal', 'Monarchy',\n",
       "       'Oligarchy', 'Party-Military', 'Party-Personal',\n",
       "       'Party-Personal-Military Hybrid', 'Personal Dictatorship',\n",
       "       'Presidential Democracy', 'Provisional - Civilian',\n",
       "       'Provisional - Military', 'Warlordism', 'trade balance',\n",
       "       'urban_percent', 'mil_percent'],\n",
       "      dtype='object')"
      ]
     },
     "execution_count": 554,
     "metadata": {},
     "output_type": "execute_result"
    }
   ],
   "source": [
    "X_vif.columns"
   ]
  },
  {
   "cell_type": "code",
   "execution_count": 582,
   "metadata": {},
   "outputs": [
    {
     "data": {
      "text/html": [
       "<div>\n",
       "<style scoped>\n",
       "    .dataframe tbody tr th:only-of-type {\n",
       "        vertical-align: middle;\n",
       "    }\n",
       "\n",
       "    .dataframe tbody tr th {\n",
       "        vertical-align: top;\n",
       "    }\n",
       "\n",
       "    .dataframe thead th {\n",
       "        text-align: right;\n",
       "    }\n",
       "</style>\n",
       "<table border=\"1\" class=\"dataframe\">\n",
       "  <thead>\n",
       "    <tr style=\"text-align: right;\">\n",
       "      <th></th>\n",
       "      <th>const</th>\n",
       "      <th>year</th>\n",
       "      <th>month</th>\n",
       "      <th>elected</th>\n",
       "      <th>age</th>\n",
       "      <th>male</th>\n",
       "      <th>militarycareer</th>\n",
       "      <th>tenure_months</th>\n",
       "      <th>ref_ant</th>\n",
       "      <th>leg_ant</th>\n",
       "      <th>...</th>\n",
       "      <th>Party-Personal</th>\n",
       "      <th>Party-Personal-Military Hybrid</th>\n",
       "      <th>Personal Dictatorship</th>\n",
       "      <th>Presidential Democracy</th>\n",
       "      <th>Provisional - Civilian</th>\n",
       "      <th>Provisional - Military</th>\n",
       "      <th>Warlordism</th>\n",
       "      <th>trade balance</th>\n",
       "      <th>urban_percent</th>\n",
       "      <th>mil_percent</th>\n",
       "    </tr>\n",
       "  </thead>\n",
       "  <tbody>\n",
       "    <tr>\n",
       "      <td>78419</td>\n",
       "      <td>1.0</td>\n",
       "      <td>1991.0</td>\n",
       "      <td>7.0</td>\n",
       "      <td>0.0</td>\n",
       "      <td>42.0</td>\n",
       "      <td>1</td>\n",
       "      <td>1.0</td>\n",
       "      <td>47.0</td>\n",
       "      <td>0.0</td>\n",
       "      <td>0.0</td>\n",
       "      <td>...</td>\n",
       "      <td>0</td>\n",
       "      <td>0</td>\n",
       "      <td>0</td>\n",
       "      <td>0</td>\n",
       "      <td>0</td>\n",
       "      <td>0</td>\n",
       "      <td>0</td>\n",
       "      <td>-155.71</td>\n",
       "      <td>0.043950</td>\n",
       "      <td>0.002135</td>\n",
       "    </tr>\n",
       "    <tr>\n",
       "      <td>13564</td>\n",
       "      <td>1.0</td>\n",
       "      <td>1999.0</td>\n",
       "      <td>10.0</td>\n",
       "      <td>1.0</td>\n",
       "      <td>40.0</td>\n",
       "      <td>1</td>\n",
       "      <td>0.0</td>\n",
       "      <td>5.0</td>\n",
       "      <td>0.0</td>\n",
       "      <td>0.0</td>\n",
       "      <td>...</td>\n",
       "      <td>0</td>\n",
       "      <td>0</td>\n",
       "      <td>0</td>\n",
       "      <td>1</td>\n",
       "      <td>0</td>\n",
       "      <td>0</td>\n",
       "      <td>0</td>\n",
       "      <td>-1963.38</td>\n",
       "      <td>0.360741</td>\n",
       "      <td>0.002437</td>\n",
       "    </tr>\n",
       "    <tr>\n",
       "      <td>36207</td>\n",
       "      <td>1.0</td>\n",
       "      <td>1999.0</td>\n",
       "      <td>5.0</td>\n",
       "      <td>1.0</td>\n",
       "      <td>55.0</td>\n",
       "      <td>1</td>\n",
       "      <td>0.0</td>\n",
       "      <td>8.0</td>\n",
       "      <td>0.0</td>\n",
       "      <td>0.0</td>\n",
       "      <td>...</td>\n",
       "      <td>0</td>\n",
       "      <td>0</td>\n",
       "      <td>0</td>\n",
       "      <td>0</td>\n",
       "      <td>0</td>\n",
       "      <td>0</td>\n",
       "      <td>0</td>\n",
       "      <td>71226.00</td>\n",
       "      <td>0.307917</td>\n",
       "      <td>0.004028</td>\n",
       "    </tr>\n",
       "    <tr>\n",
       "      <td>15711</td>\n",
       "      <td>1.0</td>\n",
       "      <td>1964.0</td>\n",
       "      <td>6.0</td>\n",
       "      <td>1.0</td>\n",
       "      <td>59.0</td>\n",
       "      <td>1</td>\n",
       "      <td>0.0</td>\n",
       "      <td>45.0</td>\n",
       "      <td>0.0</td>\n",
       "      <td>0.0</td>\n",
       "      <td>...</td>\n",
       "      <td>0</td>\n",
       "      <td>0</td>\n",
       "      <td>0</td>\n",
       "      <td>1</td>\n",
       "      <td>0</td>\n",
       "      <td>0</td>\n",
       "      <td>0</td>\n",
       "      <td>-127.18</td>\n",
       "      <td>0.252174</td>\n",
       "      <td>0.002372</td>\n",
       "    </tr>\n",
       "    <tr>\n",
       "      <td>15550</td>\n",
       "      <td>1.0</td>\n",
       "      <td>1951.0</td>\n",
       "      <td>6.0</td>\n",
       "      <td>0.0</td>\n",
       "      <td>68.0</td>\n",
       "      <td>1</td>\n",
       "      <td>0.0</td>\n",
       "      <td>2.0</td>\n",
       "      <td>0.0</td>\n",
       "      <td>0.0</td>\n",
       "      <td>...</td>\n",
       "      <td>0</td>\n",
       "      <td>0</td>\n",
       "      <td>0</td>\n",
       "      <td>0</td>\n",
       "      <td>0</td>\n",
       "      <td>1</td>\n",
       "      <td>0</td>\n",
       "      <td>-59.19</td>\n",
       "      <td>0.156479</td>\n",
       "      <td>0.000000</td>\n",
       "    </tr>\n",
       "    <tr>\n",
       "      <td>...</td>\n",
       "      <td>...</td>\n",
       "      <td>...</td>\n",
       "      <td>...</td>\n",
       "      <td>...</td>\n",
       "      <td>...</td>\n",
       "      <td>...</td>\n",
       "      <td>...</td>\n",
       "      <td>...</td>\n",
       "      <td>...</td>\n",
       "      <td>...</td>\n",
       "      <td>...</td>\n",
       "      <td>...</td>\n",
       "      <td>...</td>\n",
       "      <td>...</td>\n",
       "      <td>...</td>\n",
       "      <td>...</td>\n",
       "      <td>...</td>\n",
       "      <td>...</td>\n",
       "      <td>...</td>\n",
       "      <td>...</td>\n",
       "      <td>...</td>\n",
       "    </tr>\n",
       "    <tr>\n",
       "      <td>121556</td>\n",
       "      <td>1.0</td>\n",
       "      <td>1968.0</td>\n",
       "      <td>2.0</td>\n",
       "      <td>1.0</td>\n",
       "      <td>67.0</td>\n",
       "      <td>1</td>\n",
       "      <td>0.0</td>\n",
       "      <td>47.0</td>\n",
       "      <td>0.0</td>\n",
       "      <td>0.0</td>\n",
       "      <td>...</td>\n",
       "      <td>0</td>\n",
       "      <td>0</td>\n",
       "      <td>0</td>\n",
       "      <td>0</td>\n",
       "      <td>0</td>\n",
       "      <td>0</td>\n",
       "      <td>1</td>\n",
       "      <td>-47.66</td>\n",
       "      <td>0.050619</td>\n",
       "      <td>0.021947</td>\n",
       "    </tr>\n",
       "    <tr>\n",
       "      <td>54778</td>\n",
       "      <td>1.0</td>\n",
       "      <td>1956.0</td>\n",
       "      <td>7.0</td>\n",
       "      <td>1.0</td>\n",
       "      <td>56.0</td>\n",
       "      <td>1</td>\n",
       "      <td>0.0</td>\n",
       "      <td>5.0</td>\n",
       "      <td>0.0</td>\n",
       "      <td>0.0</td>\n",
       "      <td>...</td>\n",
       "      <td>0</td>\n",
       "      <td>0</td>\n",
       "      <td>0</td>\n",
       "      <td>1</td>\n",
       "      <td>0</td>\n",
       "      <td>0</td>\n",
       "      <td>0</td>\n",
       "      <td>-101.60</td>\n",
       "      <td>0.150864</td>\n",
       "      <td>0.009809</td>\n",
       "    </tr>\n",
       "    <tr>\n",
       "      <td>62844</td>\n",
       "      <td>1.0</td>\n",
       "      <td>1970.0</td>\n",
       "      <td>3.0</td>\n",
       "      <td>1.0</td>\n",
       "      <td>64.0</td>\n",
       "      <td>1</td>\n",
       "      <td>0.0</td>\n",
       "      <td>116.0</td>\n",
       "      <td>0.0</td>\n",
       "      <td>0.0</td>\n",
       "      <td>...</td>\n",
       "      <td>0</td>\n",
       "      <td>0</td>\n",
       "      <td>0</td>\n",
       "      <td>0</td>\n",
       "      <td>0</td>\n",
       "      <td>0</td>\n",
       "      <td>0</td>\n",
       "      <td>-39.20</td>\n",
       "      <td>0.175159</td>\n",
       "      <td>0.001592</td>\n",
       "    </tr>\n",
       "    <tr>\n",
       "      <td>2034</td>\n",
       "      <td>1.0</td>\n",
       "      <td>2000.0</td>\n",
       "      <td>2.0</td>\n",
       "      <td>1.0</td>\n",
       "      <td>53.0</td>\n",
       "      <td>1</td>\n",
       "      <td>0.0</td>\n",
       "      <td>91.0</td>\n",
       "      <td>0.0</td>\n",
       "      <td>0.0</td>\n",
       "      <td>...</td>\n",
       "      <td>0</td>\n",
       "      <td>0</td>\n",
       "      <td>0</td>\n",
       "      <td>0</td>\n",
       "      <td>0</td>\n",
       "      <td>0</td>\n",
       "      <td>0</td>\n",
       "      <td>-3055.70</td>\n",
       "      <td>0.697068</td>\n",
       "      <td>0.003257</td>\n",
       "    </tr>\n",
       "    <tr>\n",
       "      <td>117766</td>\n",
       "      <td>1.0</td>\n",
       "      <td>1986.0</td>\n",
       "      <td>10.0</td>\n",
       "      <td>1.0</td>\n",
       "      <td>80.0</td>\n",
       "      <td>1</td>\n",
       "      <td>0.0</td>\n",
       "      <td>112.0</td>\n",
       "      <td>0.0</td>\n",
       "      <td>0.0</td>\n",
       "      <td>...</td>\n",
       "      <td>0</td>\n",
       "      <td>0</td>\n",
       "      <td>0</td>\n",
       "      <td>0</td>\n",
       "      <td>0</td>\n",
       "      <td>0</td>\n",
       "      <td>0</td>\n",
       "      <td>-666.77</td>\n",
       "      <td>0.092945</td>\n",
       "      <td>0.001365</td>\n",
       "    </tr>\n",
       "  </tbody>\n",
       "</table>\n",
       "<p>79506 rows × 47 columns</p>\n",
       "</div>"
      ],
      "text/plain": [
       "        const    year  month  elected   age  male  militarycareer  \\\n",
       "78419     1.0  1991.0    7.0      0.0  42.0     1             1.0   \n",
       "13564     1.0  1999.0   10.0      1.0  40.0     1             0.0   \n",
       "36207     1.0  1999.0    5.0      1.0  55.0     1             0.0   \n",
       "15711     1.0  1964.0    6.0      1.0  59.0     1             0.0   \n",
       "15550     1.0  1951.0    6.0      0.0  68.0     1             0.0   \n",
       "...       ...     ...    ...      ...   ...   ...             ...   \n",
       "121556    1.0  1968.0    2.0      1.0  67.0     1             0.0   \n",
       "54778     1.0  1956.0    7.0      1.0  56.0     1             0.0   \n",
       "62844     1.0  1970.0    3.0      1.0  64.0     1             0.0   \n",
       "2034      1.0  2000.0    2.0      1.0  53.0     1             0.0   \n",
       "117766    1.0  1986.0   10.0      1.0  80.0     1             0.0   \n",
       "\n",
       "        tenure_months  ref_ant  leg_ant  ...  Party-Personal  \\\n",
       "78419            47.0      0.0      0.0  ...               0   \n",
       "13564             5.0      0.0      0.0  ...               0   \n",
       "36207             8.0      0.0      0.0  ...               0   \n",
       "15711            45.0      0.0      0.0  ...               0   \n",
       "15550             2.0      0.0      0.0  ...               0   \n",
       "...               ...      ...      ...  ...             ...   \n",
       "121556           47.0      0.0      0.0  ...               0   \n",
       "54778             5.0      0.0      0.0  ...               0   \n",
       "62844           116.0      0.0      0.0  ...               0   \n",
       "2034             91.0      0.0      0.0  ...               0   \n",
       "117766          112.0      0.0      0.0  ...               0   \n",
       "\n",
       "        Party-Personal-Military Hybrid  Personal Dictatorship  \\\n",
       "78419                                0                      0   \n",
       "13564                                0                      0   \n",
       "36207                                0                      0   \n",
       "15711                                0                      0   \n",
       "15550                                0                      0   \n",
       "...                                ...                    ...   \n",
       "121556                               0                      0   \n",
       "54778                                0                      0   \n",
       "62844                                0                      0   \n",
       "2034                                 0                      0   \n",
       "117766                               0                      0   \n",
       "\n",
       "        Presidential Democracy  Provisional - Civilian  \\\n",
       "78419                        0                       0   \n",
       "13564                        1                       0   \n",
       "36207                        0                       0   \n",
       "15711                        1                       0   \n",
       "15550                        0                       0   \n",
       "...                        ...                     ...   \n",
       "121556                       0                       0   \n",
       "54778                        1                       0   \n",
       "62844                        0                       0   \n",
       "2034                         0                       0   \n",
       "117766                       0                       0   \n",
       "\n",
       "        Provisional - Military  Warlordism  trade balance  urban_percent  \\\n",
       "78419                        0           0        -155.71       0.043950   \n",
       "13564                        0           0       -1963.38       0.360741   \n",
       "36207                        0           0       71226.00       0.307917   \n",
       "15711                        0           0        -127.18       0.252174   \n",
       "15550                        1           0         -59.19       0.156479   \n",
       "...                        ...         ...            ...            ...   \n",
       "121556                       0           1         -47.66       0.050619   \n",
       "54778                        0           0        -101.60       0.150864   \n",
       "62844                        0           0         -39.20       0.175159   \n",
       "2034                         0           0       -3055.70       0.697068   \n",
       "117766                       0           0        -666.77       0.092945   \n",
       "\n",
       "        mil_percent  \n",
       "78419      0.002135  \n",
       "13564      0.002437  \n",
       "36207      0.004028  \n",
       "15711      0.002372  \n",
       "15550      0.000000  \n",
       "...             ...  \n",
       "121556     0.021947  \n",
       "54778      0.009809  \n",
       "62844      0.001592  \n",
       "2034       0.003257  \n",
       "117766     0.001365  \n",
       "\n",
       "[79506 rows x 47 columns]"
      ]
     },
     "execution_count": 582,
     "metadata": {},
     "output_type": "execute_result"
    }
   ],
   "source": []
  },
  {
   "cell_type": "code",
   "execution_count": 555,
   "metadata": {},
   "outputs": [],
   "source": [
    "scaler_vif = StandardScaler().fit_transform(X_tvif)"
   ]
  },
  {
   "cell_type": "code",
   "execution_count": 583,
   "metadata": {},
   "outputs": [],
   "source": [
    "scaler = StandardScaler().fit(X_train_vif)"
   ]
  },
  {
   "cell_type": "code",
   "execution_count": 585,
   "metadata": {},
   "outputs": [],
   "source": [
    "X_tvs = scaler.transform(X_train_vif)"
   ]
  },
  {
   "cell_type": "code",
   "execution_count": 588,
   "metadata": {},
   "outputs": [
    {
     "data": {
      "text/plain": [
       "29.264912698482753"
      ]
     },
     "execution_count": 588,
     "metadata": {},
     "output_type": "execute_result"
    }
   ],
   "source": [
    "X_tvs.max()"
   ]
  },
  {
   "cell_type": "code",
   "execution_count": 581,
   "metadata": {},
   "outputs": [
    {
     "data": {
      "text/plain": [
       "array([ 1.00000000e+00,  1.98380144e+03,  6.51181043e+00,  6.48768646e-01,\n",
       "        5.66711443e+01,  9.79473247e-01,  2.16486806e-01,  8.09969688e+01,\n",
       "        1.20242497e-02,  4.02233794e-02,  5.40965462e-02,  1.85897920e-02,\n",
       "        2.00488013e-02,  5.05999547e-02,  1.28292204e-02,  8.55281362e-03,\n",
       "        3.65003899e-02,  4.52167132e-02,  6.51145825e-02,  5.89892587e-03,\n",
       "        3.33194997e+00,  4.40547443e+00,  4.76320892e+00,  1.90551656e-01,\n",
       "       -3.82076550e-02,  3.79932184e+06,  1.56140769e+02,  4.45095353e+03,\n",
       "        3.02568383e+07,  1.70603476e-01,  1.33197495e-02,  4.98075617e-03,\n",
       "        3.37710361e-02,  3.08655950e-02,  8.09247101e-02,  7.93650794e-03,\n",
       "        1.45020502e-02,  4.22358061e-02,  2.00613790e-02,  1.39335396e-01,\n",
       "        1.42454658e-01,  5.82345986e-03,  3.01864010e-03,  3.73556713e-03,\n",
       "       -7.07803756e+02,  1.97963139e-01,  6.19871003e-03])"
      ]
     },
     "execution_count": 581,
     "metadata": {},
     "output_type": "execute_result"
    }
   ],
   "source": [
    "scaler.mean_"
   ]
  },
  {
   "cell_type": "code",
   "execution_count": 572,
   "metadata": {},
   "outputs": [
    {
     "data": {
      "text/plain": [
       "29.438007005406618"
      ]
     },
     "execution_count": 572,
     "metadata": {},
     "output_type": "execute_result"
    }
   ],
   "source": [
    "scaler_vif.max()"
   ]
  },
  {
   "cell_type": "code",
   "execution_count": 556,
   "metadata": {},
   "outputs": [],
   "source": [
    "X_train_scvif, X_test_scvif, y_train_scvif, y_test_scvif = train_test_split(scaler_vif, y2, test_size= .25, random_state= 29, stratify = y2 )"
   ]
  },
  {
   "cell_type": "code",
   "execution_count": 557,
   "metadata": {},
   "outputs": [],
   "source": [
    "sm_scaled_vif = SMOTE(random_state=29, ratio=1.0)\n",
    "X_train_sm_scaled_vif, y_train_sm_scaled_vif = sm_scaled.fit_sample(X_train_scvif, y_train_scvif)"
   ]
  },
  {
   "cell_type": "code",
   "execution_count": 558,
   "metadata": {},
   "outputs": [],
   "source": [
    "ridge_scaled_vif = LogisticRegressionCV(\n",
    "     cv=5, dual=False,\n",
    "     penalty='elasticnet', \n",
    "     scoring='recall',\n",
    "     solver='saga', \n",
    "    n_jobs = 2,\n",
    "     tol=0.0001,\n",
    "    max_iter=100,\n",
    "    l1_ratios = [0, .5, 1]\n",
    ")"
   ]
  },
  {
   "cell_type": "code",
   "execution_count": 559,
   "metadata": {},
   "outputs": [
    {
     "name": "stderr",
     "output_type": "stream",
     "text": [
      "/Users/taylorbritt/opt/anaconda3/lib/python3.7/site-packages/sklearn/linear_model/sag.py:337: ConvergenceWarning: The max_iter was reached which means the coef_ did not converge\n",
      "  \"the coef_ did not converge\", ConvergenceWarning)\n",
      "/Users/taylorbritt/opt/anaconda3/lib/python3.7/site-packages/sklearn/linear_model/sag.py:337: ConvergenceWarning: The max_iter was reached which means the coef_ did not converge\n",
      "  \"the coef_ did not converge\", ConvergenceWarning)\n",
      "/Users/taylorbritt/opt/anaconda3/lib/python3.7/site-packages/sklearn/linear_model/sag.py:337: ConvergenceWarning: The max_iter was reached which means the coef_ did not converge\n",
      "  \"the coef_ did not converge\", ConvergenceWarning)\n",
      "/Users/taylorbritt/opt/anaconda3/lib/python3.7/site-packages/sklearn/linear_model/sag.py:337: ConvergenceWarning: The max_iter was reached which means the coef_ did not converge\n",
      "  \"the coef_ did not converge\", ConvergenceWarning)\n",
      "/Users/taylorbritt/opt/anaconda3/lib/python3.7/site-packages/sklearn/linear_model/sag.py:337: ConvergenceWarning: The max_iter was reached which means the coef_ did not converge\n",
      "  \"the coef_ did not converge\", ConvergenceWarning)\n",
      "/Users/taylorbritt/opt/anaconda3/lib/python3.7/site-packages/sklearn/linear_model/sag.py:337: ConvergenceWarning: The max_iter was reached which means the coef_ did not converge\n",
      "  \"the coef_ did not converge\", ConvergenceWarning)\n",
      "/Users/taylorbritt/opt/anaconda3/lib/python3.7/site-packages/sklearn/linear_model/sag.py:337: ConvergenceWarning: The max_iter was reached which means the coef_ did not converge\n",
      "  \"the coef_ did not converge\", ConvergenceWarning)\n",
      "/Users/taylorbritt/opt/anaconda3/lib/python3.7/site-packages/sklearn/linear_model/sag.py:337: ConvergenceWarning: The max_iter was reached which means the coef_ did not converge\n",
      "  \"the coef_ did not converge\", ConvergenceWarning)\n",
      "/Users/taylorbritt/opt/anaconda3/lib/python3.7/site-packages/sklearn/linear_model/sag.py:337: ConvergenceWarning: The max_iter was reached which means the coef_ did not converge\n",
      "  \"the coef_ did not converge\", ConvergenceWarning)\n",
      "/Users/taylorbritt/opt/anaconda3/lib/python3.7/site-packages/sklearn/linear_model/sag.py:337: ConvergenceWarning: The max_iter was reached which means the coef_ did not converge\n",
      "  \"the coef_ did not converge\", ConvergenceWarning)\n",
      "/Users/taylorbritt/opt/anaconda3/lib/python3.7/site-packages/sklearn/linear_model/sag.py:337: ConvergenceWarning: The max_iter was reached which means the coef_ did not converge\n",
      "  \"the coef_ did not converge\", ConvergenceWarning)\n",
      "/Users/taylorbritt/opt/anaconda3/lib/python3.7/site-packages/sklearn/linear_model/sag.py:337: ConvergenceWarning: The max_iter was reached which means the coef_ did not converge\n",
      "  \"the coef_ did not converge\", ConvergenceWarning)\n",
      "/Users/taylorbritt/opt/anaconda3/lib/python3.7/site-packages/sklearn/linear_model/sag.py:337: ConvergenceWarning: The max_iter was reached which means the coef_ did not converge\n",
      "  \"the coef_ did not converge\", ConvergenceWarning)\n",
      "/Users/taylorbritt/opt/anaconda3/lib/python3.7/site-packages/sklearn/linear_model/sag.py:337: ConvergenceWarning: The max_iter was reached which means the coef_ did not converge\n",
      "  \"the coef_ did not converge\", ConvergenceWarning)\n",
      "/Users/taylorbritt/opt/anaconda3/lib/python3.7/site-packages/sklearn/linear_model/sag.py:337: ConvergenceWarning: The max_iter was reached which means the coef_ did not converge\n",
      "  \"the coef_ did not converge\", ConvergenceWarning)\n",
      "/Users/taylorbritt/opt/anaconda3/lib/python3.7/site-packages/sklearn/linear_model/sag.py:337: ConvergenceWarning: The max_iter was reached which means the coef_ did not converge\n",
      "  \"the coef_ did not converge\", ConvergenceWarning)\n"
     ]
    },
    {
     "data": {
      "text/plain": [
       "LogisticRegressionCV(Cs=10, class_weight=None, cv=5, dual=False,\n",
       "                     fit_intercept=True, intercept_scaling=1.0,\n",
       "                     l1_ratios=[0, 0.5, 1], max_iter=100, multi_class='warn',\n",
       "                     n_jobs=2, penalty='elasticnet', random_state=None,\n",
       "                     refit=True, scoring='recall', solver='saga', tol=0.0001,\n",
       "                     verbose=0)"
      ]
     },
     "execution_count": 559,
     "metadata": {},
     "output_type": "execute_result"
    }
   ],
   "source": [
    "ridge_scaled_vif.fit(X_train_sm_scaled_vif, y_train_sm_scaled_vif)"
   ]
  },
  {
   "cell_type": "code",
   "execution_count": 593,
   "metadata": {},
   "outputs": [
    {
     "data": {
      "text/plain": [
       "array([ 0.44314016,  0.14129948, -1.36084557, -1.31976522,  0.14360615,\n",
       "        1.89832537, -0.37270414, -0.10936747, -0.20461707, -0.23873328,\n",
       "       -0.13767708, -0.14370875, -0.22967986, -0.11560244, -0.0931546 ,\n",
       "       -0.19381652, -0.21608517, -0.26485867, -0.07613888,  0.85383514,\n",
       "       -0.41009897, -0.22671275, -0.30939751,  1.45298192, -0.1572902 ,\n",
       "       -0.31462618, -0.22825248, -0.22979596, -0.45424245, -0.11522477,\n",
       "       -0.07041343,  5.36213165, -0.17972419, -0.29623035, -0.08888738,\n",
       "       -0.1199658 , -0.21096542, -0.14418669, -0.40378746, -0.40706816,\n",
       "       -0.07525653, -0.0544183 , -0.06084452,  0.02015576, -0.87114001,\n",
       "       -0.43773777])"
      ]
     },
     "execution_count": 593,
     "metadata": {},
     "output_type": "execute_result"
    }
   ],
   "source": [
    "X_train_sm_scaled_vif[0]"
   ]
  },
  {
   "cell_type": "code",
   "execution_count": 595,
   "metadata": {},
   "outputs": [],
   "source": [
    "X_train_sm_scaled_vif_c = add_constant(X_train_sm_scaled_vif)"
   ]
  },
  {
   "cell_type": "code",
   "execution_count": 597,
   "metadata": {},
   "outputs": [],
   "source": [
    "X_test_sm_scaled_vif_c = add_constant(X_test_scvif)"
   ]
  },
  {
   "cell_type": "code",
   "execution_count": 598,
   "metadata": {},
   "outputs": [
    {
     "name": "stderr",
     "output_type": "stream",
     "text": [
      "/Users/taylorbritt/opt/anaconda3/lib/python3.7/site-packages/sklearn/linear_model/sag.py:337: ConvergenceWarning: The max_iter was reached which means the coef_ did not converge\n",
      "  \"the coef_ did not converge\", ConvergenceWarning)\n",
      "/Users/taylorbritt/opt/anaconda3/lib/python3.7/site-packages/sklearn/linear_model/sag.py:337: ConvergenceWarning: The max_iter was reached which means the coef_ did not converge\n",
      "  \"the coef_ did not converge\", ConvergenceWarning)\n",
      "/Users/taylorbritt/opt/anaconda3/lib/python3.7/site-packages/sklearn/linear_model/sag.py:337: ConvergenceWarning: The max_iter was reached which means the coef_ did not converge\n",
      "  \"the coef_ did not converge\", ConvergenceWarning)\n",
      "/Users/taylorbritt/opt/anaconda3/lib/python3.7/site-packages/sklearn/linear_model/sag.py:337: ConvergenceWarning: The max_iter was reached which means the coef_ did not converge\n",
      "  \"the coef_ did not converge\", ConvergenceWarning)\n",
      "/Users/taylorbritt/opt/anaconda3/lib/python3.7/site-packages/sklearn/linear_model/sag.py:337: ConvergenceWarning: The max_iter was reached which means the coef_ did not converge\n",
      "  \"the coef_ did not converge\", ConvergenceWarning)\n",
      "/Users/taylorbritt/opt/anaconda3/lib/python3.7/site-packages/sklearn/linear_model/sag.py:337: ConvergenceWarning: The max_iter was reached which means the coef_ did not converge\n",
      "  \"the coef_ did not converge\", ConvergenceWarning)\n",
      "/Users/taylorbritt/opt/anaconda3/lib/python3.7/site-packages/sklearn/linear_model/sag.py:337: ConvergenceWarning: The max_iter was reached which means the coef_ did not converge\n",
      "  \"the coef_ did not converge\", ConvergenceWarning)\n",
      "/Users/taylorbritt/opt/anaconda3/lib/python3.7/site-packages/sklearn/linear_model/sag.py:337: ConvergenceWarning: The max_iter was reached which means the coef_ did not converge\n",
      "  \"the coef_ did not converge\", ConvergenceWarning)\n",
      "/Users/taylorbritt/opt/anaconda3/lib/python3.7/site-packages/sklearn/linear_model/sag.py:337: ConvergenceWarning: The max_iter was reached which means the coef_ did not converge\n",
      "  \"the coef_ did not converge\", ConvergenceWarning)\n",
      "/Users/taylorbritt/opt/anaconda3/lib/python3.7/site-packages/sklearn/linear_model/sag.py:337: ConvergenceWarning: The max_iter was reached which means the coef_ did not converge\n",
      "  \"the coef_ did not converge\", ConvergenceWarning)\n",
      "/Users/taylorbritt/opt/anaconda3/lib/python3.7/site-packages/sklearn/linear_model/sag.py:337: ConvergenceWarning: The max_iter was reached which means the coef_ did not converge\n",
      "  \"the coef_ did not converge\", ConvergenceWarning)\n",
      "/Users/taylorbritt/opt/anaconda3/lib/python3.7/site-packages/sklearn/linear_model/sag.py:337: ConvergenceWarning: The max_iter was reached which means the coef_ did not converge\n",
      "  \"the coef_ did not converge\", ConvergenceWarning)\n",
      "/Users/taylorbritt/opt/anaconda3/lib/python3.7/site-packages/sklearn/linear_model/sag.py:337: ConvergenceWarning: The max_iter was reached which means the coef_ did not converge\n",
      "  \"the coef_ did not converge\", ConvergenceWarning)\n",
      "/Users/taylorbritt/opt/anaconda3/lib/python3.7/site-packages/sklearn/linear_model/sag.py:337: ConvergenceWarning: The max_iter was reached which means the coef_ did not converge\n",
      "  \"the coef_ did not converge\", ConvergenceWarning)\n",
      "/Users/taylorbritt/opt/anaconda3/lib/python3.7/site-packages/sklearn/linear_model/sag.py:337: ConvergenceWarning: The max_iter was reached which means the coef_ did not converge\n",
      "  \"the coef_ did not converge\", ConvergenceWarning)\n",
      "/Users/taylorbritt/opt/anaconda3/lib/python3.7/site-packages/sklearn/linear_model/sag.py:337: ConvergenceWarning: The max_iter was reached which means the coef_ did not converge\n",
      "  \"the coef_ did not converge\", ConvergenceWarning)\n"
     ]
    },
    {
     "data": {
      "text/plain": [
       "LogisticRegressionCV(Cs=10, class_weight=None, cv=5, dual=False,\n",
       "                     fit_intercept=True, intercept_scaling=1.0,\n",
       "                     l1_ratios=[0, 0.5, 1], max_iter=100, multi_class='warn',\n",
       "                     n_jobs=2, penalty='elasticnet', random_state=None,\n",
       "                     refit=True, scoring='recall', solver='saga', tol=0.0001,\n",
       "                     verbose=0)"
      ]
     },
     "execution_count": 598,
     "metadata": {},
     "output_type": "execute_result"
    }
   ],
   "source": [
    "ridge_scaled_vif.fit(X_train_sm_scaled_vif_c, y_train_sm_scaled_vif)"
   ]
  },
  {
   "cell_type": "code",
   "execution_count": null,
   "metadata": {},
   "outputs": [],
   "source": []
  },
  {
   "cell_type": "code",
   "execution_count": 600,
   "metadata": {},
   "outputs": [
    {
     "name": "stdout",
     "output_type": "stream",
     "text": [
      "accuracy = 0.7224360425628255\n",
      "recall = 0.7477477477477478\n",
      "precision = 0.011199568209418432\n",
      "f1 score = 0.02206859877692103\n",
      "accuracy + recall = 1.4701837903105732\n"
     ]
    }
   ],
   "source": [
    "metric_test(ridge_scaled_vif, X_test_sm_scaled_vif_c, y_test_scvif)"
   ]
  },
  {
   "cell_type": "code",
   "execution_count": 606,
   "metadata": {},
   "outputs": [
    {
     "data": {
      "text/plain": [
       "irst                             -1.570136\n",
       "indirect_recent                  -0.953235\n",
       "irregular                        -0.849926\n",
       "year                             -0.603210\n",
       "population                       -0.520026\n",
       "ref_ant                          -0.229566\n",
       "milper                           -0.152134\n",
       "mil_percent                      -0.125415\n",
       "loss                             -0.124787\n",
       "tenure_months                    -0.115403\n",
       "leg_ant                          -0.112583\n",
       "precip                           -0.060995\n",
       "Monarchy                         -0.058225\n",
       "male                             -0.044293\n",
       "const                            -0.040140\n",
       "Dominant Party                   -0.038634\n",
       "Foreign/Occupied                 -0.030182\n",
       "Oligarchy                        -0.016897\n",
       "election_now                     -0.015396\n",
       "militarycareer                   -0.013275\n",
       "ref_recent                       -0.012035\n",
       "age                               0.000308\n",
       "nochange_recent                   0.008177\n",
       "urban_percent                     0.011920\n",
       "change_recent                     0.024533\n",
       "exec_recent                       0.033322\n",
       "irreg_lead_ant                    0.033585\n",
       "elected                           0.036818\n",
       "Provisional - Military            0.046085\n",
       "delayed                           0.053493\n",
       "Party-Personal                    0.073464\n",
       "month                             0.079123\n",
       "Indirect Military                 0.108570\n",
       "Warlordism                        0.108873\n",
       "Party-Personal-Military Hybrid    0.111152\n",
       "trade balance                     0.118037\n",
       "prev_conflict                     0.121283\n",
       "Party-Military                    0.145065\n",
       "Provisional - Civilian            0.147684\n",
       "exec_ant                          0.153810\n",
       "defeat_recent                     0.208832\n",
       "Military-Personal                 0.258417\n",
       "Military                          0.280770\n",
       "Presidential Democracy            0.308807\n",
       "Personal Dictatorship             0.341769\n",
       "milex                             0.496142\n",
       "lastelection                      0.806786\n",
       "dtype: float64"
      ]
     },
     "execution_count": 606,
     "metadata": {},
     "output_type": "execute_result"
    }
   ],
   "source": [
    "get_feature_weights_vif(ridge_scaled_vif)"
   ]
  },
  {
   "cell_type": "code",
   "execution_count": 561,
   "metadata": {},
   "outputs": [
    {
     "data": {
      "text/plain": [
       "Index(['year', 'month', 'elected', 'age', 'male', 'militarycareer',\n",
       "       'tenure_months', 'ref_ant', 'leg_ant', 'exec_ant', 'irreg_lead_ant',\n",
       "       'election_now', 'exec_recent', 'ref_recent', 'indirect_recent',\n",
       "       'defeat_recent', 'change_recent', 'nochange_recent', 'delayed',\n",
       "       'lastelection', 'loss', 'irregular', 'prev_conflict', 'precip', 'milex',\n",
       "       'milper', 'irst', 'population', 'Dominant Party', 'Foreign/Occupied',\n",
       "       'Indirect Military', 'Military', 'Military-Personal', 'Monarchy',\n",
       "       'Oligarchy', 'Party-Military', 'Party-Personal',\n",
       "       'Party-Personal-Military Hybrid', 'Personal Dictatorship',\n",
       "       'Presidential Democracy', 'Provisional - Civilian',\n",
       "       'Provisional - Military', 'Warlordism', 'trade balance',\n",
       "       'urban_percent', 'mil_percent'],\n",
       "      dtype='object')"
      ]
     },
     "execution_count": 561,
     "metadata": {},
     "output_type": "execute_result"
    }
   ],
   "source": [
    "X_vif.columns"
   ]
  },
  {
   "cell_type": "code",
   "execution_count": 605,
   "metadata": {},
   "outputs": [],
   "source": [
    "def get_feature_weights_vif(log_model):\n",
    "    d_log_vals = {}\n",
    "    for idx, feat in enumerate(log_model.coef_[0]):\n",
    "        d_log_vals[str(X_vif_c.columns[idx])] = feat  \n",
    "    s_log_vals = pd.Series(d_log_vals)\n",
    "    return s_log_vals.sort_values()"
   ]
  },
  {
   "cell_type": "code",
   "execution_count": 603,
   "metadata": {},
   "outputs": [
    {
     "name": "stderr",
     "output_type": "stream",
     "text": [
      "/Users/taylorbritt/opt/anaconda3/lib/python3.7/site-packages/numpy/core/fromnumeric.py:2495: FutureWarning: Method .ptp is deprecated and will be removed in a future version. Use numpy.ptp instead.\n",
      "  return ptp(axis=axis, out=out, **kwargs)\n"
     ]
    }
   ],
   "source": [
    "X_vif_c = add_constant(X_vif)"
   ]
  },
  {
   "cell_type": "code",
   "execution_count": 604,
   "metadata": {},
   "outputs": [
    {
     "data": {
      "text/html": [
       "<div>\n",
       "<style scoped>\n",
       "    .dataframe tbody tr th:only-of-type {\n",
       "        vertical-align: middle;\n",
       "    }\n",
       "\n",
       "    .dataframe tbody tr th {\n",
       "        vertical-align: top;\n",
       "    }\n",
       "\n",
       "    .dataframe thead th {\n",
       "        text-align: right;\n",
       "    }\n",
       "</style>\n",
       "<table border=\"1\" class=\"dataframe\">\n",
       "  <thead>\n",
       "    <tr style=\"text-align: right;\">\n",
       "      <th></th>\n",
       "      <th>const</th>\n",
       "      <th>year</th>\n",
       "      <th>month</th>\n",
       "      <th>elected</th>\n",
       "      <th>age</th>\n",
       "      <th>male</th>\n",
       "      <th>militarycareer</th>\n",
       "      <th>tenure_months</th>\n",
       "      <th>ref_ant</th>\n",
       "      <th>leg_ant</th>\n",
       "      <th>...</th>\n",
       "      <th>Party-Personal</th>\n",
       "      <th>Party-Personal-Military Hybrid</th>\n",
       "      <th>Personal Dictatorship</th>\n",
       "      <th>Presidential Democracy</th>\n",
       "      <th>Provisional - Civilian</th>\n",
       "      <th>Provisional - Military</th>\n",
       "      <th>Warlordism</th>\n",
       "      <th>trade balance</th>\n",
       "      <th>urban_percent</th>\n",
       "      <th>mil_percent</th>\n",
       "    </tr>\n",
       "  </thead>\n",
       "  <tbody>\n",
       "    <tr>\n",
       "      <td>0</td>\n",
       "      <td>1.0</td>\n",
       "      <td>1950.0</td>\n",
       "      <td>1.0</td>\n",
       "      <td>1.0</td>\n",
       "      <td>66.0</td>\n",
       "      <td>1</td>\n",
       "      <td>0.0</td>\n",
       "      <td>58.0</td>\n",
       "      <td>0.0</td>\n",
       "      <td>0.0</td>\n",
       "      <td>...</td>\n",
       "      <td>0</td>\n",
       "      <td>0</td>\n",
       "      <td>0</td>\n",
       "      <td>1</td>\n",
       "      <td>0</td>\n",
       "      <td>0</td>\n",
       "      <td>0</td>\n",
       "      <td>1082.00</td>\n",
       "      <td>0.288722</td>\n",
       "      <td>0.009588</td>\n",
       "    </tr>\n",
       "    <tr>\n",
       "      <td>1</td>\n",
       "      <td>1.0</td>\n",
       "      <td>1950.0</td>\n",
       "      <td>2.0</td>\n",
       "      <td>1.0</td>\n",
       "      <td>66.0</td>\n",
       "      <td>1</td>\n",
       "      <td>0.0</td>\n",
       "      <td>59.0</td>\n",
       "      <td>0.0</td>\n",
       "      <td>0.0</td>\n",
       "      <td>...</td>\n",
       "      <td>0</td>\n",
       "      <td>0</td>\n",
       "      <td>0</td>\n",
       "      <td>1</td>\n",
       "      <td>0</td>\n",
       "      <td>0</td>\n",
       "      <td>0</td>\n",
       "      <td>1082.00</td>\n",
       "      <td>0.288722</td>\n",
       "      <td>0.009588</td>\n",
       "    </tr>\n",
       "    <tr>\n",
       "      <td>2</td>\n",
       "      <td>1.0</td>\n",
       "      <td>1950.0</td>\n",
       "      <td>3.0</td>\n",
       "      <td>1.0</td>\n",
       "      <td>66.0</td>\n",
       "      <td>1</td>\n",
       "      <td>0.0</td>\n",
       "      <td>60.0</td>\n",
       "      <td>0.0</td>\n",
       "      <td>0.0</td>\n",
       "      <td>...</td>\n",
       "      <td>0</td>\n",
       "      <td>0</td>\n",
       "      <td>0</td>\n",
       "      <td>1</td>\n",
       "      <td>0</td>\n",
       "      <td>0</td>\n",
       "      <td>0</td>\n",
       "      <td>1082.00</td>\n",
       "      <td>0.288722</td>\n",
       "      <td>0.009588</td>\n",
       "    </tr>\n",
       "    <tr>\n",
       "      <td>3</td>\n",
       "      <td>1.0</td>\n",
       "      <td>1950.0</td>\n",
       "      <td>4.0</td>\n",
       "      <td>1.0</td>\n",
       "      <td>66.0</td>\n",
       "      <td>1</td>\n",
       "      <td>0.0</td>\n",
       "      <td>61.0</td>\n",
       "      <td>0.0</td>\n",
       "      <td>0.0</td>\n",
       "      <td>...</td>\n",
       "      <td>0</td>\n",
       "      <td>0</td>\n",
       "      <td>0</td>\n",
       "      <td>1</td>\n",
       "      <td>0</td>\n",
       "      <td>0</td>\n",
       "      <td>0</td>\n",
       "      <td>1082.00</td>\n",
       "      <td>0.288722</td>\n",
       "      <td>0.009588</td>\n",
       "    </tr>\n",
       "    <tr>\n",
       "      <td>4</td>\n",
       "      <td>1.0</td>\n",
       "      <td>1950.0</td>\n",
       "      <td>5.0</td>\n",
       "      <td>1.0</td>\n",
       "      <td>66.0</td>\n",
       "      <td>1</td>\n",
       "      <td>0.0</td>\n",
       "      <td>62.0</td>\n",
       "      <td>0.0</td>\n",
       "      <td>0.0</td>\n",
       "      <td>...</td>\n",
       "      <td>0</td>\n",
       "      <td>0</td>\n",
       "      <td>0</td>\n",
       "      <td>1</td>\n",
       "      <td>0</td>\n",
       "      <td>0</td>\n",
       "      <td>0</td>\n",
       "      <td>1082.00</td>\n",
       "      <td>0.288722</td>\n",
       "      <td>0.009588</td>\n",
       "    </tr>\n",
       "    <tr>\n",
       "      <td>...</td>\n",
       "      <td>...</td>\n",
       "      <td>...</td>\n",
       "      <td>...</td>\n",
       "      <td>...</td>\n",
       "      <td>...</td>\n",
       "      <td>...</td>\n",
       "      <td>...</td>\n",
       "      <td>...</td>\n",
       "      <td>...</td>\n",
       "      <td>...</td>\n",
       "      <td>...</td>\n",
       "      <td>...</td>\n",
       "      <td>...</td>\n",
       "      <td>...</td>\n",
       "      <td>...</td>\n",
       "      <td>...</td>\n",
       "      <td>...</td>\n",
       "      <td>...</td>\n",
       "      <td>...</td>\n",
       "      <td>...</td>\n",
       "      <td>...</td>\n",
       "    </tr>\n",
       "    <tr>\n",
       "      <td>135507</td>\n",
       "      <td>1.0</td>\n",
       "      <td>2009.0</td>\n",
       "      <td>8.0</td>\n",
       "      <td>1.0</td>\n",
       "      <td>64.0</td>\n",
       "      <td>1</td>\n",
       "      <td>0.0</td>\n",
       "      <td>129.0</td>\n",
       "      <td>0.0</td>\n",
       "      <td>0.0</td>\n",
       "      <td>...</td>\n",
       "      <td>0</td>\n",
       "      <td>0</td>\n",
       "      <td>0</td>\n",
       "      <td>0</td>\n",
       "      <td>0</td>\n",
       "      <td>0</td>\n",
       "      <td>0</td>\n",
       "      <td>-221.31</td>\n",
       "      <td>0.000000</td>\n",
       "      <td>0.000000</td>\n",
       "    </tr>\n",
       "    <tr>\n",
       "      <td>135508</td>\n",
       "      <td>1.0</td>\n",
       "      <td>2009.0</td>\n",
       "      <td>9.0</td>\n",
       "      <td>1.0</td>\n",
       "      <td>64.0</td>\n",
       "      <td>1</td>\n",
       "      <td>0.0</td>\n",
       "      <td>130.0</td>\n",
       "      <td>0.0</td>\n",
       "      <td>0.0</td>\n",
       "      <td>...</td>\n",
       "      <td>0</td>\n",
       "      <td>0</td>\n",
       "      <td>0</td>\n",
       "      <td>0</td>\n",
       "      <td>0</td>\n",
       "      <td>0</td>\n",
       "      <td>0</td>\n",
       "      <td>-221.31</td>\n",
       "      <td>0.000000</td>\n",
       "      <td>0.000000</td>\n",
       "    </tr>\n",
       "    <tr>\n",
       "      <td>135509</td>\n",
       "      <td>1.0</td>\n",
       "      <td>2009.0</td>\n",
       "      <td>10.0</td>\n",
       "      <td>1.0</td>\n",
       "      <td>64.0</td>\n",
       "      <td>1</td>\n",
       "      <td>0.0</td>\n",
       "      <td>131.0</td>\n",
       "      <td>0.0</td>\n",
       "      <td>0.0</td>\n",
       "      <td>...</td>\n",
       "      <td>0</td>\n",
       "      <td>0</td>\n",
       "      <td>0</td>\n",
       "      <td>0</td>\n",
       "      <td>0</td>\n",
       "      <td>0</td>\n",
       "      <td>0</td>\n",
       "      <td>-221.31</td>\n",
       "      <td>0.000000</td>\n",
       "      <td>0.000000</td>\n",
       "    </tr>\n",
       "    <tr>\n",
       "      <td>135510</td>\n",
       "      <td>1.0</td>\n",
       "      <td>2009.0</td>\n",
       "      <td>11.0</td>\n",
       "      <td>1.0</td>\n",
       "      <td>64.0</td>\n",
       "      <td>1</td>\n",
       "      <td>0.0</td>\n",
       "      <td>132.0</td>\n",
       "      <td>0.0</td>\n",
       "      <td>0.0</td>\n",
       "      <td>...</td>\n",
       "      <td>0</td>\n",
       "      <td>0</td>\n",
       "      <td>0</td>\n",
       "      <td>0</td>\n",
       "      <td>0</td>\n",
       "      <td>0</td>\n",
       "      <td>0</td>\n",
       "      <td>-221.31</td>\n",
       "      <td>0.000000</td>\n",
       "      <td>0.000000</td>\n",
       "    </tr>\n",
       "    <tr>\n",
       "      <td>135511</td>\n",
       "      <td>1.0</td>\n",
       "      <td>2009.0</td>\n",
       "      <td>12.0</td>\n",
       "      <td>1.0</td>\n",
       "      <td>64.0</td>\n",
       "      <td>1</td>\n",
       "      <td>0.0</td>\n",
       "      <td>133.0</td>\n",
       "      <td>0.0</td>\n",
       "      <td>0.0</td>\n",
       "      <td>...</td>\n",
       "      <td>0</td>\n",
       "      <td>0</td>\n",
       "      <td>0</td>\n",
       "      <td>0</td>\n",
       "      <td>0</td>\n",
       "      <td>0</td>\n",
       "      <td>0</td>\n",
       "      <td>-221.31</td>\n",
       "      <td>0.000000</td>\n",
       "      <td>0.000000</td>\n",
       "    </tr>\n",
       "  </tbody>\n",
       "</table>\n",
       "<p>106008 rows × 47 columns</p>\n",
       "</div>"
      ],
      "text/plain": [
       "        const    year  month  elected   age  male  militarycareer  \\\n",
       "0         1.0  1950.0    1.0      1.0  66.0     1             0.0   \n",
       "1         1.0  1950.0    2.0      1.0  66.0     1             0.0   \n",
       "2         1.0  1950.0    3.0      1.0  66.0     1             0.0   \n",
       "3         1.0  1950.0    4.0      1.0  66.0     1             0.0   \n",
       "4         1.0  1950.0    5.0      1.0  66.0     1             0.0   \n",
       "...       ...     ...    ...      ...   ...   ...             ...   \n",
       "135507    1.0  2009.0    8.0      1.0  64.0     1             0.0   \n",
       "135508    1.0  2009.0    9.0      1.0  64.0     1             0.0   \n",
       "135509    1.0  2009.0   10.0      1.0  64.0     1             0.0   \n",
       "135510    1.0  2009.0   11.0      1.0  64.0     1             0.0   \n",
       "135511    1.0  2009.0   12.0      1.0  64.0     1             0.0   \n",
       "\n",
       "        tenure_months  ref_ant  leg_ant  ...  Party-Personal  \\\n",
       "0                58.0      0.0      0.0  ...               0   \n",
       "1                59.0      0.0      0.0  ...               0   \n",
       "2                60.0      0.0      0.0  ...               0   \n",
       "3                61.0      0.0      0.0  ...               0   \n",
       "4                62.0      0.0      0.0  ...               0   \n",
       "...               ...      ...      ...  ...             ...   \n",
       "135507          129.0      0.0      0.0  ...               0   \n",
       "135508          130.0      0.0      0.0  ...               0   \n",
       "135509          131.0      0.0      0.0  ...               0   \n",
       "135510          132.0      0.0      0.0  ...               0   \n",
       "135511          133.0      0.0      0.0  ...               0   \n",
       "\n",
       "        Party-Personal-Military Hybrid  Personal Dictatorship  \\\n",
       "0                                    0                      0   \n",
       "1                                    0                      0   \n",
       "2                                    0                      0   \n",
       "3                                    0                      0   \n",
       "4                                    0                      0   \n",
       "...                                ...                    ...   \n",
       "135507                               0                      0   \n",
       "135508                               0                      0   \n",
       "135509                               0                      0   \n",
       "135510                               0                      0   \n",
       "135511                               0                      0   \n",
       "\n",
       "        Presidential Democracy  Provisional - Civilian  \\\n",
       "0                            1                       0   \n",
       "1                            1                       0   \n",
       "2                            1                       0   \n",
       "3                            1                       0   \n",
       "4                            1                       0   \n",
       "...                        ...                     ...   \n",
       "135507                       0                       0   \n",
       "135508                       0                       0   \n",
       "135509                       0                       0   \n",
       "135510                       0                       0   \n",
       "135511                       0                       0   \n",
       "\n",
       "        Provisional - Military  Warlordism  trade balance  urban_percent  \\\n",
       "0                            0           0        1082.00       0.288722   \n",
       "1                            0           0        1082.00       0.288722   \n",
       "2                            0           0        1082.00       0.288722   \n",
       "3                            0           0        1082.00       0.288722   \n",
       "4                            0           0        1082.00       0.288722   \n",
       "...                        ...         ...            ...            ...   \n",
       "135507                       0           0        -221.31       0.000000   \n",
       "135508                       0           0        -221.31       0.000000   \n",
       "135509                       0           0        -221.31       0.000000   \n",
       "135510                       0           0        -221.31       0.000000   \n",
       "135511                       0           0        -221.31       0.000000   \n",
       "\n",
       "        mil_percent  \n",
       "0          0.009588  \n",
       "1          0.009588  \n",
       "2          0.009588  \n",
       "3          0.009588  \n",
       "4          0.009588  \n",
       "...             ...  \n",
       "135507     0.000000  \n",
       "135508     0.000000  \n",
       "135509     0.000000  \n",
       "135510     0.000000  \n",
       "135511     0.000000  \n",
       "\n",
       "[106008 rows x 47 columns]"
      ]
     },
     "execution_count": 604,
     "metadata": {},
     "output_type": "execute_result"
    }
   ],
   "source": [
    "X_vif_c"
   ]
  },
  {
   "cell_type": "code",
   "execution_count": 566,
   "metadata": {},
   "outputs": [
    {
     "data": {
      "text/plain": [
       "46"
      ]
     },
     "execution_count": 566,
     "metadata": {},
     "output_type": "execute_result"
    }
   ],
   "source": [
    "len(X_vif.columns)"
   ]
  },
  {
   "cell_type": "code",
   "execution_count": 565,
   "metadata": {},
   "outputs": [
    {
     "data": {
      "text/plain": [
       "46"
      ]
     },
     "execution_count": 565,
     "metadata": {},
     "output_type": "execute_result"
    }
   ],
   "source": [
    "len(ridge_scaled_vif.coef_[0])"
   ]
  },
  {
   "cell_type": "code",
   "execution_count": 563,
   "metadata": {
    "scrolled": true
   },
   "outputs": [
    {
     "data": {
      "text/plain": [
       "irst                             -1.570130\n",
       "indirect_recent                  -0.952794\n",
       "irregular                        -0.849926\n",
       "year                             -0.603210\n",
       "population                       -0.520025\n",
       "ref_ant                          -0.229566\n",
       "milper                           -0.152135\n",
       "mil_percent                      -0.125415\n",
       "loss                             -0.124787\n",
       "tenure_months                    -0.115403\n",
       "leg_ant                          -0.112583\n",
       "precip                           -0.060995\n",
       "Monarchy                         -0.058225\n",
       "male                             -0.044293\n",
       "Dominant Party                   -0.038634\n",
       "Foreign/Occupied                 -0.030182\n",
       "Oligarchy                        -0.016897\n",
       "election_now                     -0.015396\n",
       "militarycareer                   -0.013275\n",
       "ref_recent                       -0.012035\n",
       "age                               0.000308\n",
       "nochange_recent                   0.008177\n",
       "urban_percent                     0.011920\n",
       "change_recent                     0.024533\n",
       "exec_recent                       0.033322\n",
       "irreg_lead_ant                    0.033585\n",
       "elected                           0.036817\n",
       "Provisional - Military            0.046085\n",
       "delayed                           0.053493\n",
       "Party-Personal                    0.073464\n",
       "month                             0.079123\n",
       "Indirect Military                 0.108570\n",
       "Warlordism                        0.108873\n",
       "Party-Personal-Military Hybrid    0.111152\n",
       "trade balance                     0.118037\n",
       "prev_conflict                     0.121283\n",
       "Party-Military                    0.145065\n",
       "Provisional - Civilian            0.147684\n",
       "exec_ant                          0.153810\n",
       "defeat_recent                     0.208832\n",
       "Military-Personal                 0.258417\n",
       "Military                          0.280770\n",
       "Presidential Democracy            0.308807\n",
       "Personal Dictatorship             0.341769\n",
       "milex                             0.496141\n",
       "lastelection                      0.806785\n",
       "dtype: float64"
      ]
     },
     "execution_count": 563,
     "metadata": {},
     "output_type": "execute_result"
    }
   ],
   "source": [
    "get_feature_weights_vif(ridge_scaled_vif)\n"
   ]
  },
  {
   "cell_type": "code",
   "execution_count": null,
   "metadata": {},
   "outputs": [],
   "source": [
    "rfc = RandomForestClassifier"
   ]
  },
  {
   "cell_type": "code",
   "execution_count": 568,
   "metadata": {},
   "outputs": [
    {
     "data": {
      "text/plain": [
       "Index(['year', 'month', 'elected', 'age', 'male', 'militarycareer',\n",
       "       'tenure_months', 'anticipation', 'ref_ant', 'leg_ant', 'exec_ant',\n",
       "       'irreg_lead_ant', 'election_now', 'election_recent', 'leg_recent',\n",
       "       'exec_recent', 'lead_recent', 'ref_recent', 'direct_recent',\n",
       "       'indirect_recent', 'victory_recent', 'defeat_recent', 'change_recent',\n",
       "       'nochange_recent', 'delayed', 'lastelection', 'loss', 'irregular',\n",
       "       'prev_conflict', 'precip', 'imports', 'exports', 'milex', 'milper',\n",
       "       'irst', 'pec', 'upop', 'cinc', 'population', 'Dominant Party',\n",
       "       'Foreign/Occupied', 'Indirect Military', 'Military',\n",
       "       'Military-Personal', 'Monarchy', 'Oligarchy', 'Party-Military',\n",
       "       'Party-Personal', 'Party-Personal-Military Hybrid',\n",
       "       'Personal Dictatorship', 'Presidential Democracy',\n",
       "       'Provisional - Civilian', 'Provisional - Military', 'Warlordism',\n",
       "       'trade balance', 'urban_percent', 'mil_percent'],\n",
       "      dtype='object')"
      ]
     },
     "execution_count": 568,
     "metadata": {},
     "output_type": "execute_result"
    }
   ],
   "source": [
    "X_full_indices = df.drop(['pt_suc', 'pt_attempt'], axis =1 ).columns\n",
    "X_full_indices \n"
   ]
  },
  {
   "cell_type": "code",
   "execution_count": 569,
   "metadata": {},
   "outputs": [
    {
     "data": {
      "text/plain": [
       "29.438007005406618"
      ]
     },
     "execution_count": 569,
     "metadata": {},
     "output_type": "execute_result"
    }
   ],
   "source": [
    "X_train_sm_scaled_vif.max()"
   ]
  },
  {
   "cell_type": "code",
   "execution_count": 608,
   "metadata": {},
   "outputs": [
    {
     "ename": "NameError",
     "evalue": "name 'MinMaxScaler' is not defined",
     "output_type": "error",
     "traceback": [
      "\u001b[0;31m---------------------------------------------------------------------------\u001b[0m",
      "\u001b[0;31mNameError\u001b[0m                                 Traceback (most recent call last)",
      "\u001b[0;32m<ipython-input-608-2bf6072a85a1>\u001b[0m in \u001b[0;36m<module>\u001b[0;34m\u001b[0m\n\u001b[0;32m----> 1\u001b[0;31m \u001b[0mmin_max_scaler\u001b[0m \u001b[0;34m=\u001b[0m \u001b[0mMinMaxScaler\u001b[0m\u001b[0;34m(\u001b[0m\u001b[0;34m)\u001b[0m\u001b[0;34m\u001b[0m\u001b[0;34m\u001b[0m\u001b[0m\n\u001b[0m",
      "\u001b[0;31mNameError\u001b[0m: name 'MinMaxScaler' is not defined"
     ]
    }
   ],
   "source": [
    "min_max_scaler = MinMaxScaler()\n"
   ]
  },
  {
   "cell_type": "code",
   "execution_count": null,
   "metadata": {},
   "outputs": [],
   "source": []
  }
 ],
 "metadata": {
  "kernelspec": {
   "display_name": "Python 3",
   "language": "python",
   "name": "python3"
  },
  "language_info": {
   "codemirror_mode": {
    "name": "ipython",
    "version": 3
   },
   "file_extension": ".py",
   "mimetype": "text/x-python",
   "name": "python",
   "nbconvert_exporter": "python",
   "pygments_lexer": "ipython3",
   "version": "3.7.4"
  }
 },
 "nbformat": 4,
 "nbformat_minor": 2
}
